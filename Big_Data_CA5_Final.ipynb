{
  "nbformat": 4,
  "nbformat_minor": 0,
  "metadata": {
    "colab": {
      "name": "Big Data CA5 Final.ipynb",
      "provenance": [],
      "collapsed_sections": []
    },
    "kernelspec": {
      "display_name": "Python 3",
      "name": "python3"
    }
  },
  "cells": [
    {
      "cell_type": "code",
      "metadata": {
        "colab": {
          "base_uri": "https://localhost:8080/"
        },
        "id": "VMvxFivo1-xH",
        "outputId": "1b04e8e3-92fc-4ef6-f9dd-b19d12c03cd8"
      },
      "source": [
        "! sudo apt install openjdk-8-jdk\n",
        "! sudo update-alternatives --config java"
      ],
      "execution_count": 2,
      "outputs": [
        {
          "output_type": "stream",
          "name": "stdout",
          "text": [
            "Reading package lists... Done\n",
            "Building dependency tree       \n",
            "Reading state information... Done\n",
            "openjdk-8-jdk is already the newest version (8u292-b10-0ubuntu1~18.04).\n",
            "0 upgraded, 0 newly installed, 0 to remove and 37 not upgraded.\n",
            "There are 2 choices for the alternative java (providing /usr/bin/java).\n",
            "\n",
            "  Selection    Path                                            Priority   Status\n",
            "------------------------------------------------------------\n",
            "* 0            /usr/lib/jvm/java-11-openjdk-amd64/bin/java      1111      auto mode\n",
            "  1            /usr/lib/jvm/java-11-openjdk-amd64/bin/java      1111      manual mode\n",
            "  2            /usr/lib/jvm/java-8-openjdk-amd64/jre/bin/java   1081      manual mode\n",
            "\n",
            "Press <enter> to keep the current choice[*], or type selection number: 2\n",
            "update-alternatives: using /usr/lib/jvm/java-8-openjdk-amd64/jre/bin/java to provide /usr/bin/java (java) in manual mode\n"
          ]
        }
      ]
    },
    {
      "cell_type": "code",
      "metadata": {
        "colab": {
          "base_uri": "https://localhost:8080/"
        },
        "id": "mgFyGF-42zyS",
        "outputId": "e420c965-df31-4261-aa8e-8999c15e1f83"
      },
      "source": [
        "!pip3 install pandas==1.0.5"
      ],
      "execution_count": 2,
      "outputs": [
        {
          "output_type": "stream",
          "name": "stdout",
          "text": [
            "Requirement already satisfied: pandas==1.0.5 in /usr/local/lib/python3.7/dist-packages (1.0.5)\n",
            "Requirement already satisfied: python-dateutil>=2.6.1 in /usr/local/lib/python3.7/dist-packages (from pandas==1.0.5) (2.8.2)\n",
            "Requirement already satisfied: pytz>=2017.2 in /usr/local/lib/python3.7/dist-packages (from pandas==1.0.5) (2018.9)\n",
            "Requirement already satisfied: numpy>=1.13.3 in /usr/local/lib/python3.7/dist-packages (from pandas==1.0.5) (1.19.5)\n",
            "Requirement already satisfied: six>=1.5 in /usr/local/lib/python3.7/dist-packages (from python-dateutil>=2.6.1->pandas==1.0.5) (1.15.0)\n"
          ]
        }
      ]
    },
    {
      "cell_type": "code",
      "metadata": {
        "colab": {
          "base_uri": "https://localhost:8080/"
        },
        "id": "pzkZ40pC3Cle",
        "outputId": "faf5b65e-ed90-403b-f69c-07edf5e5248b"
      },
      "source": [
        "import pandas as pd\n",
        "print(pd.__version__ == '1.0.5')"
      ],
      "execution_count": 8,
      "outputs": [
        {
          "output_type": "stream",
          "name": "stdout",
          "text": [
            "True\n"
          ]
        }
      ]
    },
    {
      "cell_type": "code",
      "metadata": {
        "id": "FqqhVI2a3FGe"
      },
      "source": [
        "#Import the necessary Libraries\n",
        "import numpy as np \n",
        "import json\n",
        "import matplotlib\n",
        "import matplotlib.pyplot as plt\n",
        "from matplotlib import cm\n",
        "from datetime import datetime\n",
        "import glob\n",
        "import seaborn as sns\n",
        "import re\n",
        "import os"
      ],
      "execution_count": 6,
      "outputs": []
    },
    {
      "cell_type": "code",
      "metadata": {
        "id": "xeBVfZvAiueX"
      },
      "source": [
        "from numpy import array\n",
        "from numpy import argmax\n",
        "from sklearn.preprocessing import LabelEncoder\n",
        "from sklearn.preprocessing import OneHotEncoder"
      ],
      "execution_count": 5,
      "outputs": []
    },
    {
      "cell_type": "code",
      "metadata": {
        "colab": {
          "resources": {
            "http://localhost:8080/nbextensions/google.colab/files.js": {
              "data": "Ly8gQ29weXJpZ2h0IDIwMTcgR29vZ2xlIExMQwovLwovLyBMaWNlbnNlZCB1bmRlciB0aGUgQXBhY2hlIExpY2Vuc2UsIFZlcnNpb24gMi4wICh0aGUgIkxpY2Vuc2UiKTsKLy8geW91IG1heSBub3QgdXNlIHRoaXMgZmlsZSBleGNlcHQgaW4gY29tcGxpYW5jZSB3aXRoIHRoZSBMaWNlbnNlLgovLyBZb3UgbWF5IG9idGFpbiBhIGNvcHkgb2YgdGhlIExpY2Vuc2UgYXQKLy8KLy8gICAgICBodHRwOi8vd3d3LmFwYWNoZS5vcmcvbGljZW5zZXMvTElDRU5TRS0yLjAKLy8KLy8gVW5sZXNzIHJlcXVpcmVkIGJ5IGFwcGxpY2FibGUgbGF3IG9yIGFncmVlZCB0byBpbiB3cml0aW5nLCBzb2Z0d2FyZQovLyBkaXN0cmlidXRlZCB1bmRlciB0aGUgTGljZW5zZSBpcyBkaXN0cmlidXRlZCBvbiBhbiAiQVMgSVMiIEJBU0lTLAovLyBXSVRIT1VUIFdBUlJBTlRJRVMgT1IgQ09ORElUSU9OUyBPRiBBTlkgS0lORCwgZWl0aGVyIGV4cHJlc3Mgb3IgaW1wbGllZC4KLy8gU2VlIHRoZSBMaWNlbnNlIGZvciB0aGUgc3BlY2lmaWMgbGFuZ3VhZ2UgZ292ZXJuaW5nIHBlcm1pc3Npb25zIGFuZAovLyBsaW1pdGF0aW9ucyB1bmRlciB0aGUgTGljZW5zZS4KCi8qKgogKiBAZmlsZW92ZXJ2aWV3IEhlbHBlcnMgZm9yIGdvb2dsZS5jb2xhYiBQeXRob24gbW9kdWxlLgogKi8KKGZ1bmN0aW9uKHNjb3BlKSB7CmZ1bmN0aW9uIHNwYW4odGV4dCwgc3R5bGVBdHRyaWJ1dGVzID0ge30pIHsKICBjb25zdCBlbGVtZW50ID0gZG9jdW1lbnQuY3JlYXRlRWxlbWVudCgnc3BhbicpOwogIGVsZW1lbnQudGV4dENvbnRlbnQgPSB0ZXh0OwogIGZvciAoY29uc3Qga2V5IG9mIE9iamVjdC5rZXlzKHN0eWxlQXR0cmlidXRlcykpIHsKICAgIGVsZW1lbnQuc3R5bGVba2V5XSA9IHN0eWxlQXR0cmlidXRlc1trZXldOwogIH0KICByZXR1cm4gZWxlbWVudDsKfQoKLy8gTWF4IG51bWJlciBvZiBieXRlcyB3aGljaCB3aWxsIGJlIHVwbG9hZGVkIGF0IGEgdGltZS4KY29uc3QgTUFYX1BBWUxPQURfU0laRSA9IDEwMCAqIDEwMjQ7CgpmdW5jdGlvbiBfdXBsb2FkRmlsZXMoaW5wdXRJZCwgb3V0cHV0SWQpIHsKICBjb25zdCBzdGVwcyA9IHVwbG9hZEZpbGVzU3RlcChpbnB1dElkLCBvdXRwdXRJZCk7CiAgY29uc3Qgb3V0cHV0RWxlbWVudCA9IGRvY3VtZW50LmdldEVsZW1lbnRCeUlkKG91dHB1dElkKTsKICAvLyBDYWNoZSBzdGVwcyBvbiB0aGUgb3V0cHV0RWxlbWVudCB0byBtYWtlIGl0IGF2YWlsYWJsZSBmb3IgdGhlIG5leHQgY2FsbAogIC8vIHRvIHVwbG9hZEZpbGVzQ29udGludWUgZnJvbSBQeXRob24uCiAgb3V0cHV0RWxlbWVudC5zdGVwcyA9IHN0ZXBzOwoKICByZXR1cm4gX3VwbG9hZEZpbGVzQ29udGludWUob3V0cHV0SWQpOwp9CgovLyBUaGlzIGlzIHJvdWdobHkgYW4gYXN5bmMgZ2VuZXJhdG9yIChub3Qgc3VwcG9ydGVkIGluIHRoZSBicm93c2VyIHlldCksCi8vIHdoZXJlIHRoZXJlIGFyZSBtdWx0aXBsZSBhc3luY2hyb25vdXMgc3RlcHMgYW5kIHRoZSBQeXRob24gc2lkZSBpcyBnb2luZwovLyB0byBwb2xsIGZvciBjb21wbGV0aW9uIG9mIGVhY2ggc3RlcC4KLy8gVGhpcyB1c2VzIGEgUHJvbWlzZSB0byBibG9jayB0aGUgcHl0aG9uIHNpZGUgb24gY29tcGxldGlvbiBvZiBlYWNoIHN0ZXAsCi8vIHRoZW4gcGFzc2VzIHRoZSByZXN1bHQgb2YgdGhlIHByZXZpb3VzIHN0ZXAgYXMgdGhlIGlucHV0IHRvIHRoZSBuZXh0IHN0ZXAuCmZ1bmN0aW9uIF91cGxvYWRGaWxlc0NvbnRpbnVlKG91dHB1dElkKSB7CiAgY29uc3Qgb3V0cHV0RWxlbWVudCA9IGRvY3VtZW50LmdldEVsZW1lbnRCeUlkKG91dHB1dElkKTsKICBjb25zdCBzdGVwcyA9IG91dHB1dEVsZW1lbnQuc3RlcHM7CgogIGNvbnN0IG5leHQgPSBzdGVwcy5uZXh0KG91dHB1dEVsZW1lbnQubGFzdFByb21pc2VWYWx1ZSk7CiAgcmV0dXJuIFByb21pc2UucmVzb2x2ZShuZXh0LnZhbHVlLnByb21pc2UpLnRoZW4oKHZhbHVlKSA9PiB7CiAgICAvLyBDYWNoZSB0aGUgbGFzdCBwcm9taXNlIHZhbHVlIHRvIG1ha2UgaXQgYXZhaWxhYmxlIHRvIHRoZSBuZXh0CiAgICAvLyBzdGVwIG9mIHRoZSBnZW5lcmF0b3IuCiAgICBvdXRwdXRFbGVtZW50Lmxhc3RQcm9taXNlVmFsdWUgPSB2YWx1ZTsKICAgIHJldHVybiBuZXh0LnZhbHVlLnJlc3BvbnNlOwogIH0pOwp9CgovKioKICogR2VuZXJhdG9yIGZ1bmN0aW9uIHdoaWNoIGlzIGNhbGxlZCBiZXR3ZWVuIGVhY2ggYXN5bmMgc3RlcCBvZiB0aGUgdXBsb2FkCiAqIHByb2Nlc3MuCiAqIEBwYXJhbSB7c3RyaW5nfSBpbnB1dElkIEVsZW1lbnQgSUQgb2YgdGhlIGlucHV0IGZpbGUgcGlja2VyIGVsZW1lbnQuCiAqIEBwYXJhbSB7c3RyaW5nfSBvdXRwdXRJZCBFbGVtZW50IElEIG9mIHRoZSBvdXRwdXQgZGlzcGxheS4KICogQHJldHVybiB7IUl0ZXJhYmxlPCFPYmplY3Q+fSBJdGVyYWJsZSBvZiBuZXh0IHN0ZXBzLgogKi8KZnVuY3Rpb24qIHVwbG9hZEZpbGVzU3RlcChpbnB1dElkLCBvdXRwdXRJZCkgewogIGNvbnN0IGlucHV0RWxlbWVudCA9IGRvY3VtZW50LmdldEVsZW1lbnRCeUlkKGlucHV0SWQpOwogIGlucHV0RWxlbWVudC5kaXNhYmxlZCA9IGZhbHNlOwoKICBjb25zdCBvdXRwdXRFbGVtZW50ID0gZG9jdW1lbnQuZ2V0RWxlbWVudEJ5SWQob3V0cHV0SWQpOwogIG91dHB1dEVsZW1lbnQuaW5uZXJIVE1MID0gJyc7CgogIGNvbnN0IHBpY2tlZFByb21pc2UgPSBuZXcgUHJvbWlzZSgocmVzb2x2ZSkgPT4gewogICAgaW5wdXRFbGVtZW50LmFkZEV2ZW50TGlzdGVuZXIoJ2NoYW5nZScsIChlKSA9PiB7CiAgICAgIHJlc29sdmUoZS50YXJnZXQuZmlsZXMpOwogICAgfSk7CiAgfSk7CgogIGNvbnN0IGNhbmNlbCA9IGRvY3VtZW50LmNyZWF0ZUVsZW1lbnQoJ2J1dHRvbicpOwogIGlucHV0RWxlbWVudC5wYXJlbnRFbGVtZW50LmFwcGVuZENoaWxkKGNhbmNlbCk7CiAgY2FuY2VsLnRleHRDb250ZW50ID0gJ0NhbmNlbCB1cGxvYWQnOwogIGNvbnN0IGNhbmNlbFByb21pc2UgPSBuZXcgUHJvbWlzZSgocmVzb2x2ZSkgPT4gewogICAgY2FuY2VsLm9uY2xpY2sgPSAoKSA9PiB7CiAgICAgIHJlc29sdmUobnVsbCk7CiAgICB9OwogIH0pOwoKICAvLyBXYWl0IGZvciB0aGUgdXNlciB0byBwaWNrIHRoZSBmaWxlcy4KICBjb25zdCBmaWxlcyA9IHlpZWxkIHsKICAgIHByb21pc2U6IFByb21pc2UucmFjZShbcGlja2VkUHJvbWlzZSwgY2FuY2VsUHJvbWlzZV0pLAogICAgcmVzcG9uc2U6IHsKICAgICAgYWN0aW9uOiAnc3RhcnRpbmcnLAogICAgfQogIH07CgogIGNhbmNlbC5yZW1vdmUoKTsKCiAgLy8gRGlzYWJsZSB0aGUgaW5wdXQgZWxlbWVudCBzaW5jZSBmdXJ0aGVyIHBpY2tzIGFyZSBub3QgYWxsb3dlZC4KICBpbnB1dEVsZW1lbnQuZGlzYWJsZWQgPSB0cnVlOwoKICBpZiAoIWZpbGVzKSB7CiAgICByZXR1cm4gewogICAgICByZXNwb25zZTogewogICAgICAgIGFjdGlvbjogJ2NvbXBsZXRlJywKICAgICAgfQogICAgfTsKICB9CgogIGZvciAoY29uc3QgZmlsZSBvZiBmaWxlcykgewogICAgY29uc3QgbGkgPSBkb2N1bWVudC5jcmVhdGVFbGVtZW50KCdsaScpOwogICAgbGkuYXBwZW5kKHNwYW4oZmlsZS5uYW1lLCB7Zm9udFdlaWdodDogJ2JvbGQnfSkpOwogICAgbGkuYXBwZW5kKHNwYW4oCiAgICAgICAgYCgke2ZpbGUudHlwZSB8fCAnbi9hJ30pIC0gJHtmaWxlLnNpemV9IGJ5dGVzLCBgICsKICAgICAgICBgbGFzdCBtb2RpZmllZDogJHsKICAgICAgICAgICAgZmlsZS5sYXN0TW9kaWZpZWREYXRlID8gZmlsZS5sYXN0TW9kaWZpZWREYXRlLnRvTG9jYWxlRGF0ZVN0cmluZygpIDoKICAgICAgICAgICAgICAgICAgICAgICAgICAgICAgICAgICAgJ24vYSd9IC0gYCkpOwogICAgY29uc3QgcGVyY2VudCA9IHNwYW4oJzAlIGRvbmUnKTsKICAgIGxpLmFwcGVuZENoaWxkKHBlcmNlbnQpOwoKICAgIG91dHB1dEVsZW1lbnQuYXBwZW5kQ2hpbGQobGkpOwoKICAgIGNvbnN0IGZpbGVEYXRhUHJvbWlzZSA9IG5ldyBQcm9taXNlKChyZXNvbHZlKSA9PiB7CiAgICAgIGNvbnN0IHJlYWRlciA9IG5ldyBGaWxlUmVhZGVyKCk7CiAgICAgIHJlYWRlci5vbmxvYWQgPSAoZSkgPT4gewogICAgICAgIHJlc29sdmUoZS50YXJnZXQucmVzdWx0KTsKICAgICAgfTsKICAgICAgcmVhZGVyLnJlYWRBc0FycmF5QnVmZmVyKGZpbGUpOwogICAgfSk7CiAgICAvLyBXYWl0IGZvciB0aGUgZGF0YSB0byBiZSByZWFkeS4KICAgIGxldCBmaWxlRGF0YSA9IHlpZWxkIHsKICAgICAgcHJvbWlzZTogZmlsZURhdGFQcm9taXNlLAogICAgICByZXNwb25zZTogewogICAgICAgIGFjdGlvbjogJ2NvbnRpbnVlJywKICAgICAgfQogICAgfTsKCiAgICAvLyBVc2UgYSBjaHVua2VkIHNlbmRpbmcgdG8gYXZvaWQgbWVzc2FnZSBzaXplIGxpbWl0cy4gU2VlIGIvNjIxMTU2NjAuCiAgICBsZXQgcG9zaXRpb24gPSAwOwogICAgZG8gewogICAgICBjb25zdCBsZW5ndGggPSBNYXRoLm1pbihmaWxlRGF0YS5ieXRlTGVuZ3RoIC0gcG9zaXRpb24sIE1BWF9QQVlMT0FEX1NJWkUpOwogICAgICBjb25zdCBjaHVuayA9IG5ldyBVaW50OEFycmF5KGZpbGVEYXRhLCBwb3NpdGlvbiwgbGVuZ3RoKTsKICAgICAgcG9zaXRpb24gKz0gbGVuZ3RoOwoKICAgICAgY29uc3QgYmFzZTY0ID0gYnRvYShTdHJpbmcuZnJvbUNoYXJDb2RlLmFwcGx5KG51bGwsIGNodW5rKSk7CiAgICAgIHlpZWxkIHsKICAgICAgICByZXNwb25zZTogewogICAgICAgICAgYWN0aW9uOiAnYXBwZW5kJywKICAgICAgICAgIGZpbGU6IGZpbGUubmFtZSwKICAgICAgICAgIGRhdGE6IGJhc2U2NCwKICAgICAgICB9LAogICAgICB9OwoKICAgICAgbGV0IHBlcmNlbnREb25lID0gZmlsZURhdGEuYnl0ZUxlbmd0aCA9PT0gMCA/CiAgICAgICAgICAxMDAgOgogICAgICAgICAgTWF0aC5yb3VuZCgocG9zaXRpb24gLyBmaWxlRGF0YS5ieXRlTGVuZ3RoKSAqIDEwMCk7CiAgICAgIHBlcmNlbnQudGV4dENvbnRlbnQgPSBgJHtwZXJjZW50RG9uZX0lIGRvbmVgOwoKICAgIH0gd2hpbGUgKHBvc2l0aW9uIDwgZmlsZURhdGEuYnl0ZUxlbmd0aCk7CiAgfQoKICAvLyBBbGwgZG9uZS4KICB5aWVsZCB7CiAgICByZXNwb25zZTogewogICAgICBhY3Rpb246ICdjb21wbGV0ZScsCiAgICB9CiAgfTsKfQoKc2NvcGUuZ29vZ2xlID0gc2NvcGUuZ29vZ2xlIHx8IHt9OwpzY29wZS5nb29nbGUuY29sYWIgPSBzY29wZS5nb29nbGUuY29sYWIgfHwge307CnNjb3BlLmdvb2dsZS5jb2xhYi5fZmlsZXMgPSB7CiAgX3VwbG9hZEZpbGVzLAogIF91cGxvYWRGaWxlc0NvbnRpbnVlLAp9Owp9KShzZWxmKTsK",
              "ok": true,
              "headers": [
                [
                  "content-type",
                  "application/javascript"
                ]
              ],
              "status": 200,
              "status_text": ""
            }
          },
          "base_uri": "https://localhost:8080/",
          "height": 72
        },
        "id": "ZB85yGt13JK_",
        "outputId": "a3980206-a98b-4f22-a736-3bd8e760ae5b"
      },
      "source": [
        "# Importing the dataset\n",
        "from google.colab import files\n",
        "uploaded = files.upload()"
      ],
      "execution_count": 3,
      "outputs": [
        {
          "output_type": "display_data",
          "data": {
            "text/html": [
              "\n",
              "     <input type=\"file\" id=\"files-5e019457-3dbd-4f0f-bb11-8cd6373db1b5\" name=\"files[]\" multiple disabled\n",
              "        style=\"border:none\" />\n",
              "     <output id=\"result-5e019457-3dbd-4f0f-bb11-8cd6373db1b5\">\n",
              "      Upload widget is only available when the cell has been executed in the\n",
              "      current browser session. Please rerun this cell to enable.\n",
              "      </output>\n",
              "      <script src=\"/nbextensions/google.colab/files.js\"></script> "
            ],
            "text/plain": [
              "<IPython.core.display.HTML object>"
            ]
          },
          "metadata": {}
        },
        {
          "output_type": "stream",
          "name": "stdout",
          "text": [
            "Saving youtube_data.zip to youtube_data (1).zip\n"
          ]
        }
      ]
    },
    {
      "cell_type": "code",
      "metadata": {
        "colab": {
          "base_uri": "https://localhost:8080/"
        },
        "id": "oPVpK1buA7PH",
        "outputId": "a6b77bbc-7634-4f5b-a3ef-15f9336ae227"
      },
      "source": [
        "#Unzipping the dataset\n",
        "!unzip /content/youtube_data.zip"
      ],
      "execution_count": 19,
      "outputs": [
        {
          "output_type": "stream",
          "name": "stdout",
          "text": [
            "Archive:  /content/youtube_data.zip\n",
            "   creating: youtube_data/\n",
            "  inflating: youtube_data/IN_category_id.json  \n",
            "   creating: __MACOSX/\n",
            "   creating: __MACOSX/youtube_data/\n",
            "  inflating: __MACOSX/youtube_data/._IN_category_id.json  \n",
            "  inflating: youtube_data/.DS_Store  \n",
            "  inflating: __MACOSX/youtube_data/._.DS_Store  \n",
            "  inflating: youtube_data/FR_category_id.json  \n",
            "  inflating: __MACOSX/youtube_data/._FR_category_id.json  \n",
            "  inflating: youtube_data/INvideos.csv  \n",
            "  inflating: __MACOSX/youtube_data/._INvideos.csv  \n",
            "  inflating: youtube_data/CAvideos.csv  \n",
            "  inflating: __MACOSX/youtube_data/._CAvideos.csv  \n",
            "  inflating: youtube_data/FRvideos.csv  \n",
            "  inflating: __MACOSX/youtube_data/._FRvideos.csv  \n",
            "  inflating: youtube_data/CA_category_id.json  \n",
            "  inflating: __MACOSX/youtube_data/._CA_category_id.json  \n",
            "  inflating: youtube_data/US_category_id.json  \n",
            "  inflating: __MACOSX/youtube_data/._US_category_id.json  \n",
            "  inflating: youtube_data/USvideos.csv  \n",
            "  inflating: __MACOSX/youtube_data/._USvideos.csv  \n",
            "  inflating: __MACOSX/._youtube_data  \n"
          ]
        }
      ]
    },
    {
      "cell_type": "code",
      "metadata": {
        "id": "LInpxeUvbqo8"
      },
      "source": [
        "# Storing data in 4 separate dataframes based on their country specific video file\n",
        "import io\n",
        "df1=pd.read_csv('youtube_data/INvideos.csv')\n",
        "df2=pd.read_csv('youtube_data/CAvideos.csv')\n",
        "df3=pd.read_csv('youtube_data/FRvideos.csv')\n",
        "df4=pd.read_csv('youtube_data/USvideos.csv')"
      ],
      "execution_count": 9,
      "outputs": []
    },
    {
      "cell_type": "code",
      "metadata": {
        "id": "l1Xs75ym1aX2"
      },
      "source": [
        "#Dropping the null values in the dataframe\n",
        "df1.dropna(subset = [\"description\"], inplace=True)\n",
        "df2.dropna(subset = [\"description\"], inplace=True)\n",
        "df3.dropna(subset = [\"description\"], inplace=True)\n",
        "df4.dropna(subset = [\"description\"], inplace=True)"
      ],
      "execution_count": 12,
      "outputs": []
    },
    {
      "cell_type": "code",
      "metadata": {
        "colab": {
          "base_uri": "https://localhost:8080/"
        },
        "id": "x4l7PrA7YPUD",
        "outputId": "b3fd4363-7021-4523-d721-ea36217fe3e5"
      },
      "source": [
        "files = [i for i in glob.glob('/content/youtube_data/*.csv'.format('csv'))]\n",
        "sorted(files)"
      ],
      "execution_count": 11,
      "outputs": [
        {
          "output_type": "execute_result",
          "data": {
            "text/plain": [
              "['/content/youtube_data/CAvideos.csv',\n",
              " '/content/youtube_data/FRvideos.csv',\n",
              " '/content/youtube_data/INvideos.csv',\n",
              " '/content/youtube_data/USvideos.csv']"
            ]
          },
          "metadata": {},
          "execution_count": 11
        }
      ]
    },
    {
      "cell_type": "code",
      "metadata": {
        "id": "Qicrq61oYPNN"
      },
      "source": [
        "#Adding a new column called country to all the four dataframes\n",
        "# Storing the respective country name in the country column\n",
        "df4['Country']='US'\n",
        "df3['Country']='France'\n",
        "df2['Country']='Canada'\n",
        "df1['Country']='India'\n",
        "all_dataframes = [df1,df2,df3,df4]"
      ],
      "execution_count": 10,
      "outputs": []
    },
    {
      "cell_type": "code",
      "metadata": {
        "colab": {
          "base_uri": "https://localhost:8080/",
          "height": 1000
        },
        "id": "ASTJs_9LYPDG",
        "outputId": "41bb80b0-ef95-4a05-8fa0-dd5c51629bdb"
      },
      "source": [
        "#Concatenating all dataframes into one\n",
        "#Setting the video id as the index\n",
        "combined_data = pd.concat(all_dataframes)\n",
        "combined_data.set_index('video_id')"
      ],
      "execution_count": 13,
      "outputs": [
        {
          "output_type": "execute_result",
          "data": {
            "text/html": [
              "<div>\n",
              "<style scoped>\n",
              "    .dataframe tbody tr th:only-of-type {\n",
              "        vertical-align: middle;\n",
              "    }\n",
              "\n",
              "    .dataframe tbody tr th {\n",
              "        vertical-align: top;\n",
              "    }\n",
              "\n",
              "    .dataframe thead th {\n",
              "        text-align: right;\n",
              "    }\n",
              "</style>\n",
              "<table border=\"1\" class=\"dataframe\">\n",
              "  <thead>\n",
              "    <tr style=\"text-align: right;\">\n",
              "      <th></th>\n",
              "      <th>trending_date</th>\n",
              "      <th>title</th>\n",
              "      <th>channel_title</th>\n",
              "      <th>category_id</th>\n",
              "      <th>publish_time</th>\n",
              "      <th>tags</th>\n",
              "      <th>views</th>\n",
              "      <th>likes</th>\n",
              "      <th>dislikes</th>\n",
              "      <th>comment_count</th>\n",
              "      <th>thumbnail_link</th>\n",
              "      <th>comments_disabled</th>\n",
              "      <th>ratings_disabled</th>\n",
              "      <th>video_error_or_removed</th>\n",
              "      <th>description</th>\n",
              "      <th>Country</th>\n",
              "    </tr>\n",
              "    <tr>\n",
              "      <th>video_id</th>\n",
              "      <th></th>\n",
              "      <th></th>\n",
              "      <th></th>\n",
              "      <th></th>\n",
              "      <th></th>\n",
              "      <th></th>\n",
              "      <th></th>\n",
              "      <th></th>\n",
              "      <th></th>\n",
              "      <th></th>\n",
              "      <th></th>\n",
              "      <th></th>\n",
              "      <th></th>\n",
              "      <th></th>\n",
              "      <th></th>\n",
              "      <th></th>\n",
              "    </tr>\n",
              "  </thead>\n",
              "  <tbody>\n",
              "    <tr>\n",
              "      <th>kzwfHumJyYc</th>\n",
              "      <td>17.14.11</td>\n",
              "      <td>Sharry Mann: Cute Munda ( Song Teaser) | Parmi...</td>\n",
              "      <td>Lokdhun Punjabi</td>\n",
              "      <td>1</td>\n",
              "      <td>2017-11-12T12:20:39.000Z</td>\n",
              "      <td>sharry mann|\"sharry mann new song\"|\"sharry man...</td>\n",
              "      <td>1096327</td>\n",
              "      <td>33966</td>\n",
              "      <td>798</td>\n",
              "      <td>882</td>\n",
              "      <td>https://i.ytimg.com/vi/kzwfHumJyYc/default.jpg</td>\n",
              "      <td>False</td>\n",
              "      <td>False</td>\n",
              "      <td>False</td>\n",
              "      <td>Presenting Sharry Mann latest Punjabi Song  Cu...</td>\n",
              "      <td>India</td>\n",
              "    </tr>\n",
              "    <tr>\n",
              "      <th>zUZ1z7FwLc8</th>\n",
              "      <td>17.14.11</td>\n",
              "      <td>पीरियड्स के समय, पेट पर पति करता ऐसा, देखकर दं...</td>\n",
              "      <td>HJ NEWS</td>\n",
              "      <td>25</td>\n",
              "      <td>2017-11-13T05:43:56.000Z</td>\n",
              "      <td>पीरियड्स के समय|\"पेट पर पति करता ऐसा\"|\"देखकर द...</td>\n",
              "      <td>590101</td>\n",
              "      <td>735</td>\n",
              "      <td>904</td>\n",
              "      <td>0</td>\n",
              "      <td>https://i.ytimg.com/vi/zUZ1z7FwLc8/default.jpg</td>\n",
              "      <td>True</td>\n",
              "      <td>False</td>\n",
              "      <td>False</td>\n",
              "      <td>पीरियड्स के समय, पेट पर पति करता ऐसा, देखकर दं...</td>\n",
              "      <td>India</td>\n",
              "    </tr>\n",
              "    <tr>\n",
              "      <th>10L1hZ9qa58</th>\n",
              "      <td>17.14.11</td>\n",
              "      <td>Stylish Star Allu Arjun @ ChaySam Wedding Rece...</td>\n",
              "      <td>TFPC</td>\n",
              "      <td>24</td>\n",
              "      <td>2017-11-12T15:48:08.000Z</td>\n",
              "      <td>Stylish Star Allu Arjun @ ChaySam Wedding Rece...</td>\n",
              "      <td>473988</td>\n",
              "      <td>2011</td>\n",
              "      <td>243</td>\n",
              "      <td>149</td>\n",
              "      <td>https://i.ytimg.com/vi/10L1hZ9qa58/default.jpg</td>\n",
              "      <td>False</td>\n",
              "      <td>False</td>\n",
              "      <td>False</td>\n",
              "      <td>Watch Stylish Star Allu Arjun @ ChaySam Weddin...</td>\n",
              "      <td>India</td>\n",
              "    </tr>\n",
              "    <tr>\n",
              "      <th>N1vE8iiEg64</th>\n",
              "      <td>17.14.11</td>\n",
              "      <td>Eruma Saani | Tamil vs English</td>\n",
              "      <td>Eruma Saani</td>\n",
              "      <td>23</td>\n",
              "      <td>2017-11-12T07:08:48.000Z</td>\n",
              "      <td>Eruma Saani|\"Tamil Comedy Videos\"|\"Films\"|\"Mov...</td>\n",
              "      <td>1242680</td>\n",
              "      <td>70353</td>\n",
              "      <td>1624</td>\n",
              "      <td>2684</td>\n",
              "      <td>https://i.ytimg.com/vi/N1vE8iiEg64/default.jpg</td>\n",
              "      <td>False</td>\n",
              "      <td>False</td>\n",
              "      <td>False</td>\n",
              "      <td>This video showcases the difference between pe...</td>\n",
              "      <td>India</td>\n",
              "    </tr>\n",
              "    <tr>\n",
              "      <th>kJzGH0PVQHQ</th>\n",
              "      <td>17.14.11</td>\n",
              "      <td>why Samantha became EMOTIONAL @ Samantha naga ...</td>\n",
              "      <td>Filmylooks</td>\n",
              "      <td>24</td>\n",
              "      <td>2017-11-13T01:14:16.000Z</td>\n",
              "      <td>Filmylooks|\"latest news\"|\"telugu movies\"|\"telu...</td>\n",
              "      <td>464015</td>\n",
              "      <td>492</td>\n",
              "      <td>293</td>\n",
              "      <td>66</td>\n",
              "      <td>https://i.ytimg.com/vi/kJzGH0PVQHQ/default.jpg</td>\n",
              "      <td>False</td>\n",
              "      <td>False</td>\n",
              "      <td>False</td>\n",
              "      <td>why Samantha became EMOTIONAL @ Samantha naga ...</td>\n",
              "      <td>India</td>\n",
              "    </tr>\n",
              "    <tr>\n",
              "      <th>...</th>\n",
              "      <td>...</td>\n",
              "      <td>...</td>\n",
              "      <td>...</td>\n",
              "      <td>...</td>\n",
              "      <td>...</td>\n",
              "      <td>...</td>\n",
              "      <td>...</td>\n",
              "      <td>...</td>\n",
              "      <td>...</td>\n",
              "      <td>...</td>\n",
              "      <td>...</td>\n",
              "      <td>...</td>\n",
              "      <td>...</td>\n",
              "      <td>...</td>\n",
              "      <td>...</td>\n",
              "      <td>...</td>\n",
              "    </tr>\n",
              "    <tr>\n",
              "      <th>1PhPYr_9zRY</th>\n",
              "      <td>18.14.06</td>\n",
              "      <td>BTS Plays With Puppies While Answering Fan Que...</td>\n",
              "      <td>BuzzFeed Celeb</td>\n",
              "      <td>22</td>\n",
              "      <td>2018-05-18T16:39:29.000Z</td>\n",
              "      <td>BuzzFeed|\"BuzzFeedVideo\"|\"Puppy Interview\"|\"pu...</td>\n",
              "      <td>8259128</td>\n",
              "      <td>645888</td>\n",
              "      <td>4052</td>\n",
              "      <td>62610</td>\n",
              "      <td>https://i.ytimg.com/vi/1PhPYr_9zRY/default.jpg</td>\n",
              "      <td>False</td>\n",
              "      <td>False</td>\n",
              "      <td>False</td>\n",
              "      <td>BTS with the PPS, the puppies. These adorable ...</td>\n",
              "      <td>US</td>\n",
              "    </tr>\n",
              "    <tr>\n",
              "      <th>BZt0qjTWNhw</th>\n",
              "      <td>18.14.06</td>\n",
              "      <td>The Cat Who Caught the Laser</td>\n",
              "      <td>AaronsAnimals</td>\n",
              "      <td>15</td>\n",
              "      <td>2018-05-18T13:00:04.000Z</td>\n",
              "      <td>aarons animals|\"aarons\"|\"animals\"|\"cat\"|\"cats\"...</td>\n",
              "      <td>1685609</td>\n",
              "      <td>38160</td>\n",
              "      <td>1385</td>\n",
              "      <td>2657</td>\n",
              "      <td>https://i.ytimg.com/vi/BZt0qjTWNhw/default.jpg</td>\n",
              "      <td>False</td>\n",
              "      <td>False</td>\n",
              "      <td>False</td>\n",
              "      <td>The Cat Who Caught the Laser - Aaron's Animals</td>\n",
              "      <td>US</td>\n",
              "    </tr>\n",
              "    <tr>\n",
              "      <th>D6Oy4LfoqsU</th>\n",
              "      <td>18.14.06</td>\n",
              "      <td>I GAVE SAFIYA NYGAARD A PERFECT HAIR MAKEOVER ...</td>\n",
              "      <td>Brad Mondo</td>\n",
              "      <td>24</td>\n",
              "      <td>2018-05-18T17:34:22.000Z</td>\n",
              "      <td>I gave safiya nygaard a perfect hair makeover ...</td>\n",
              "      <td>1066451</td>\n",
              "      <td>48068</td>\n",
              "      <td>1032</td>\n",
              "      <td>3992</td>\n",
              "      <td>https://i.ytimg.com/vi/D6Oy4LfoqsU/default.jpg</td>\n",
              "      <td>False</td>\n",
              "      <td>False</td>\n",
              "      <td>False</td>\n",
              "      <td>I had so much fun transforming Safiyas hair in...</td>\n",
              "      <td>US</td>\n",
              "    </tr>\n",
              "    <tr>\n",
              "      <th>oV0zkMe1K8s</th>\n",
              "      <td>18.14.06</td>\n",
              "      <td>How Black Panther Should Have Ended</td>\n",
              "      <td>How It Should Have Ended</td>\n",
              "      <td>1</td>\n",
              "      <td>2018-05-17T17:00:04.000Z</td>\n",
              "      <td>Black Panther|\"HISHE\"|\"Marvel\"|\"Infinity War\"|...</td>\n",
              "      <td>5660813</td>\n",
              "      <td>192957</td>\n",
              "      <td>2846</td>\n",
              "      <td>13088</td>\n",
              "      <td>https://i.ytimg.com/vi/oV0zkMe1K8s/default.jpg</td>\n",
              "      <td>False</td>\n",
              "      <td>False</td>\n",
              "      <td>False</td>\n",
              "      <td>How Black Panther Should Have EndedWatch More ...</td>\n",
              "      <td>US</td>\n",
              "    </tr>\n",
              "    <tr>\n",
              "      <th>ooyjaVdt-jA</th>\n",
              "      <td>18.14.06</td>\n",
              "      <td>Official Call of Duty®: Black Ops 4 — Multipla...</td>\n",
              "      <td>Call of Duty</td>\n",
              "      <td>20</td>\n",
              "      <td>2018-05-17T17:09:38.000Z</td>\n",
              "      <td>call of duty|\"cod\"|\"activision\"|\"Black Ops 4\"</td>\n",
              "      <td>10306119</td>\n",
              "      <td>357079</td>\n",
              "      <td>212976</td>\n",
              "      <td>144795</td>\n",
              "      <td>https://i.ytimg.com/vi/ooyjaVdt-jA/default.jpg</td>\n",
              "      <td>False</td>\n",
              "      <td>False</td>\n",
              "      <td>False</td>\n",
              "      <td>Call of Duty: Black Ops 4 Multiplayer raises t...</td>\n",
              "      <td>US</td>\n",
              "    </tr>\n",
              "  </tbody>\n",
              "</table>\n",
              "<p>154567 rows × 16 columns</p>\n",
              "</div>"
            ],
            "text/plain": [
              "            trending_date  ... Country\n",
              "video_id                   ...        \n",
              "kzwfHumJyYc      17.14.11  ...   India\n",
              "zUZ1z7FwLc8      17.14.11  ...   India\n",
              "10L1hZ9qa58      17.14.11  ...   India\n",
              "N1vE8iiEg64      17.14.11  ...   India\n",
              "kJzGH0PVQHQ      17.14.11  ...   India\n",
              "...                   ...  ...     ...\n",
              "1PhPYr_9zRY      18.14.06  ...      US\n",
              "BZt0qjTWNhw      18.14.06  ...      US\n",
              "D6Oy4LfoqsU      18.14.06  ...      US\n",
              "oV0zkMe1K8s      18.14.06  ...      US\n",
              "ooyjaVdt-jA      18.14.06  ...      US\n",
              "\n",
              "[154567 rows x 16 columns]"
            ]
          },
          "metadata": {},
          "execution_count": 13
        }
      ]
    },
    {
      "cell_type": "code",
      "metadata": {
        "id": "n1-5ZeI6YO_3"
      },
      "source": [
        "#converting the category id column data into string values\n",
        "combined_data['category_id'] = combined_data['category_id'].astype(str)"
      ],
      "execution_count": 14,
      "outputs": []
    },
    {
      "cell_type": "code",
      "metadata": {
        "id": "iY9FlSziYO88"
      },
      "source": [
        "# Opening and reading the content of the Json file\n",
        "with open(\"youtube_data/IN_category_id.json\") as a:\n",
        "  data1 = json.load(a)\n",
        "#print(data1)\n",
        "with open(\"youtube_data/FR_category_id.json\") as b:\n",
        "  data2 = json.load(b)\n",
        "#print(data2)\n",
        "with open(\"youtube_data/US_category_id.json\") as c:\n",
        "  data3 = json.load(c)\n",
        "#print(data3)\n",
        "with open(\"youtube_data/CA_category_id.json\") as d:\n",
        "  data4 = json.load(d)\n",
        "#print(data4)"
      ],
      "execution_count": 15,
      "outputs": []
    },
    {
      "cell_type": "code",
      "metadata": {
        "colab": {
          "base_uri": "https://localhost:8080/"
        },
        "id": "i7h-l8B9YO6C",
        "outputId": "5e67b923-4f41-4662-9f82-10c9cc358a66"
      },
      "source": [
        "# Storing all json files into a list\n",
        "Json_data = [data1,data2,data3,data4]\n",
        "print(Json_data)"
      ],
      "execution_count": 16,
      "outputs": [
        {
          "output_type": "stream",
          "name": "stdout",
          "text": [
            "[{'kind': 'youtube#videoCategoryListResponse', 'etag': '\"XI7nbFXulYBIpL0ayR_gDh3eu1k/1v2mrzYSYG6onNLt2qTj13hkQZk\"', 'items': [{'kind': 'youtube#videoCategory', 'etag': '\"XI7nbFXulYBIpL0ayR_gDh3eu1k/Xy1mB4_yLrHy_BmKmPBggty2mZQ\"', 'id': '1', 'snippet': {'channelId': 'UCBR8-60-B28hp2BmDPdntcQ', 'title': 'Film & Animation', 'assignable': True}}, {'kind': 'youtube#videoCategory', 'etag': '\"XI7nbFXulYBIpL0ayR_gDh3eu1k/UZ1oLIIz2dxIhO45ZTFR3a3NyTA\"', 'id': '2', 'snippet': {'channelId': 'UCBR8-60-B28hp2BmDPdntcQ', 'title': 'Autos & Vehicles', 'assignable': True}}, {'kind': 'youtube#videoCategory', 'etag': '\"XI7nbFXulYBIpL0ayR_gDh3eu1k/nqRIq97-xe5XRZTxbknKFVe5Lmg\"', 'id': '10', 'snippet': {'channelId': 'UCBR8-60-B28hp2BmDPdntcQ', 'title': 'Music', 'assignable': True}}, {'kind': 'youtube#videoCategory', 'etag': '\"XI7nbFXulYBIpL0ayR_gDh3eu1k/HwXKamM1Q20q9BN-oBJavSGkfDI\"', 'id': '15', 'snippet': {'channelId': 'UCBR8-60-B28hp2BmDPdntcQ', 'title': 'Pets & Animals', 'assignable': True}}, {'kind': 'youtube#videoCategory', 'etag': '\"XI7nbFXulYBIpL0ayR_gDh3eu1k/9GQMSRjrZdHeb1OEM1XVQ9zbGec\"', 'id': '17', 'snippet': {'channelId': 'UCBR8-60-B28hp2BmDPdntcQ', 'title': 'Sports', 'assignable': True}}, {'kind': 'youtube#videoCategory', 'etag': '\"XI7nbFXulYBIpL0ayR_gDh3eu1k/FJwVpGCVZ1yiJrqZbpqe68Sy_OE\"', 'id': '18', 'snippet': {'channelId': 'UCBR8-60-B28hp2BmDPdntcQ', 'title': 'Short Movies', 'assignable': False}}, {'kind': 'youtube#videoCategory', 'etag': '\"XI7nbFXulYBIpL0ayR_gDh3eu1k/M-3iD9dwK7YJCafRf_DkLN8CouA\"', 'id': '19', 'snippet': {'channelId': 'UCBR8-60-B28hp2BmDPdntcQ', 'title': 'Travel & Events', 'assignable': True}}, {'kind': 'youtube#videoCategory', 'etag': '\"XI7nbFXulYBIpL0ayR_gDh3eu1k/WmA0qYEfjWsAoyJFSw2zinhn2wM\"', 'id': '20', 'snippet': {'channelId': 'UCBR8-60-B28hp2BmDPdntcQ', 'title': 'Gaming', 'assignable': True}}, {'kind': 'youtube#videoCategory', 'etag': '\"XI7nbFXulYBIpL0ayR_gDh3eu1k/EapFaGYG7K0StIXVf8aba249tdM\"', 'id': '21', 'snippet': {'channelId': 'UCBR8-60-B28hp2BmDPdntcQ', 'title': 'Videoblogging', 'assignable': False}}, {'kind': 'youtube#videoCategory', 'etag': '\"XI7nbFXulYBIpL0ayR_gDh3eu1k/xId8RX7vRN8rqkbYZbNIytUQDRo\"', 'id': '22', 'snippet': {'channelId': 'UCBR8-60-B28hp2BmDPdntcQ', 'title': 'People & Blogs', 'assignable': True}}, {'kind': 'youtube#videoCategory', 'etag': '\"XI7nbFXulYBIpL0ayR_gDh3eu1k/G9LHzQmx44rX2S5yaga_Aqtwz8M\"', 'id': '23', 'snippet': {'channelId': 'UCBR8-60-B28hp2BmDPdntcQ', 'title': 'Comedy', 'assignable': True}}, {'kind': 'youtube#videoCategory', 'etag': '\"XI7nbFXulYBIpL0ayR_gDh3eu1k/UVB9oxX2Bvqa_w_y3vXSLVK5E_s\"', 'id': '24', 'snippet': {'channelId': 'UCBR8-60-B28hp2BmDPdntcQ', 'title': 'Entertainment', 'assignable': True}}, {'kind': 'youtube#videoCategory', 'etag': '\"XI7nbFXulYBIpL0ayR_gDh3eu1k/QiLK0ZIrFoORdk_g2l_XR_ECjDc\"', 'id': '25', 'snippet': {'channelId': 'UCBR8-60-B28hp2BmDPdntcQ', 'title': 'News & Politics', 'assignable': True}}, {'kind': 'youtube#videoCategory', 'etag': '\"XI7nbFXulYBIpL0ayR_gDh3eu1k/r6Ck6Z0_L0rG37VJQR200SGNA_w\"', 'id': '26', 'snippet': {'channelId': 'UCBR8-60-B28hp2BmDPdntcQ', 'title': 'Howto & Style', 'assignable': True}}, {'kind': 'youtube#videoCategory', 'etag': '\"XI7nbFXulYBIpL0ayR_gDh3eu1k/EoYkczo9I3RCf96RveKTOgOPkUM\"', 'id': '27', 'snippet': {'channelId': 'UCBR8-60-B28hp2BmDPdntcQ', 'title': 'Education', 'assignable': True}}, {'kind': 'youtube#videoCategory', 'etag': '\"XI7nbFXulYBIpL0ayR_gDh3eu1k/w5HjcTD82G_XA3xBctS30zS-JpQ\"', 'id': '28', 'snippet': {'channelId': 'UCBR8-60-B28hp2BmDPdntcQ', 'title': 'Science & Technology', 'assignable': True}}, {'kind': 'youtube#videoCategory', 'etag': '\"XI7nbFXulYBIpL0ayR_gDh3eu1k/lL7uWDr_071CHxifjYG1tJrp4Uo\"', 'id': '30', 'snippet': {'channelId': 'UCBR8-60-B28hp2BmDPdntcQ', 'title': 'Movies', 'assignable': False}}, {'kind': 'youtube#videoCategory', 'etag': '\"XI7nbFXulYBIpL0ayR_gDh3eu1k/WnuVfjO-PyFLO7NTRQIbrGE62nk\"', 'id': '31', 'snippet': {'channelId': 'UCBR8-60-B28hp2BmDPdntcQ', 'title': 'Anime/Animation', 'assignable': False}}, {'kind': 'youtube#videoCategory', 'etag': '\"XI7nbFXulYBIpL0ayR_gDh3eu1k/ctpH2hGA_UZ3volJT_FTlOg9M00\"', 'id': '32', 'snippet': {'channelId': 'UCBR8-60-B28hp2BmDPdntcQ', 'title': 'Action/Adventure', 'assignable': False}}, {'kind': 'youtube#videoCategory', 'etag': '\"XI7nbFXulYBIpL0ayR_gDh3eu1k/L0kR3-g1BAo5UD1PLVbQ7LkkDtQ\"', 'id': '33', 'snippet': {'channelId': 'UCBR8-60-B28hp2BmDPdntcQ', 'title': 'Classics', 'assignable': False}}, {'kind': 'youtube#videoCategory', 'etag': '\"XI7nbFXulYBIpL0ayR_gDh3eu1k/pUZOAC_s9sfiwar639qr_wAB-aI\"', 'id': '34', 'snippet': {'channelId': 'UCBR8-60-B28hp2BmDPdntcQ', 'title': 'Comedy', 'assignable': False}}, {'kind': 'youtube#videoCategory', 'etag': '\"XI7nbFXulYBIpL0ayR_gDh3eu1k/Xb5JLhtyNRN3AQq021Ds-OV50Jk\"', 'id': '35', 'snippet': {'channelId': 'UCBR8-60-B28hp2BmDPdntcQ', 'title': 'Documentary', 'assignable': False}}, {'kind': 'youtube#videoCategory', 'etag': '\"XI7nbFXulYBIpL0ayR_gDh3eu1k/u8WXzF4HIhtEi805__sqjuA4lEk\"', 'id': '36', 'snippet': {'channelId': 'UCBR8-60-B28hp2BmDPdntcQ', 'title': 'Drama', 'assignable': False}}, {'kind': 'youtube#videoCategory', 'etag': '\"XI7nbFXulYBIpL0ayR_gDh3eu1k/D04PP4Gr7wc4IV_O9G66Z4A8KWQ\"', 'id': '37', 'snippet': {'channelId': 'UCBR8-60-B28hp2BmDPdntcQ', 'title': 'Family', 'assignable': False}}, {'kind': 'youtube#videoCategory', 'etag': '\"XI7nbFXulYBIpL0ayR_gDh3eu1k/i5-_AceGXQCEEMWU0V8CcQm_vLQ\"', 'id': '38', 'snippet': {'channelId': 'UCBR8-60-B28hp2BmDPdntcQ', 'title': 'Foreign', 'assignable': False}}, {'kind': 'youtube#videoCategory', 'etag': '\"XI7nbFXulYBIpL0ayR_gDh3eu1k/rtlxd0zOixA9QHdIZB26-St5qgQ\"', 'id': '39', 'snippet': {'channelId': 'UCBR8-60-B28hp2BmDPdntcQ', 'title': 'Horror', 'assignable': False}}, {'kind': 'youtube#videoCategory', 'etag': '\"XI7nbFXulYBIpL0ayR_gDh3eu1k/N1TrDFLRppxZgBowCJfJCvh0Dpg\"', 'id': '40', 'snippet': {'channelId': 'UCBR8-60-B28hp2BmDPdntcQ', 'title': 'Sci-Fi/Fantasy', 'assignable': False}}, {'kind': 'youtube#videoCategory', 'etag': '\"XI7nbFXulYBIpL0ayR_gDh3eu1k/7UMGi6zRySqXopr_rv4sZq6Za2E\"', 'id': '41', 'snippet': {'channelId': 'UCBR8-60-B28hp2BmDPdntcQ', 'title': 'Thriller', 'assignable': False}}, {'kind': 'youtube#videoCategory', 'etag': '\"XI7nbFXulYBIpL0ayR_gDh3eu1k/RScXhi324h8usyIetreAVb-uKeM\"', 'id': '42', 'snippet': {'channelId': 'UCBR8-60-B28hp2BmDPdntcQ', 'title': 'Shorts', 'assignable': False}}, {'kind': 'youtube#videoCategory', 'etag': '\"XI7nbFXulYBIpL0ayR_gDh3eu1k/0n9MJVCDLpA8q7aiGVrFsuFsd0A\"', 'id': '43', 'snippet': {'channelId': 'UCBR8-60-B28hp2BmDPdntcQ', 'title': 'Shows', 'assignable': False}}, {'kind': 'youtube#videoCategory', 'etag': '\"XI7nbFXulYBIpL0ayR_gDh3eu1k/x5NxSf5fz8hn4loSN4rvhwzD_pY\"', 'id': '44', 'snippet': {'channelId': 'UCBR8-60-B28hp2BmDPdntcQ', 'title': 'Trailers', 'assignable': False}}]}, {'kind': 'youtube#videoCategoryListResponse', 'etag': '\"ld9biNPKjAjgjV7EZ4EKeEGrhao/1v2mrzYSYG6onNLt2qTj13hkQZk\"', 'items': [{'kind': 'youtube#videoCategory', 'etag': '\"ld9biNPKjAjgjV7EZ4EKeEGrhao/Xy1mB4_yLrHy_BmKmPBggty2mZQ\"', 'id': '1', 'snippet': {'channelId': 'UCBR8-60-B28hp2BmDPdntcQ', 'title': 'Film & Animation', 'assignable': True}}, {'kind': 'youtube#videoCategory', 'etag': '\"ld9biNPKjAjgjV7EZ4EKeEGrhao/UZ1oLIIz2dxIhO45ZTFR3a3NyTA\"', 'id': '2', 'snippet': {'channelId': 'UCBR8-60-B28hp2BmDPdntcQ', 'title': 'Autos & Vehicles', 'assignable': True}}, {'kind': 'youtube#videoCategory', 'etag': '\"ld9biNPKjAjgjV7EZ4EKeEGrhao/nqRIq97-xe5XRZTxbknKFVe5Lmg\"', 'id': '10', 'snippet': {'channelId': 'UCBR8-60-B28hp2BmDPdntcQ', 'title': 'Music', 'assignable': True}}, {'kind': 'youtube#videoCategory', 'etag': '\"ld9biNPKjAjgjV7EZ4EKeEGrhao/HwXKamM1Q20q9BN-oBJavSGkfDI\"', 'id': '15', 'snippet': {'channelId': 'UCBR8-60-B28hp2BmDPdntcQ', 'title': 'Pets & Animals', 'assignable': True}}, {'kind': 'youtube#videoCategory', 'etag': '\"ld9biNPKjAjgjV7EZ4EKeEGrhao/9GQMSRjrZdHeb1OEM1XVQ9zbGec\"', 'id': '17', 'snippet': {'channelId': 'UCBR8-60-B28hp2BmDPdntcQ', 'title': 'Sports', 'assignable': True}}, {'kind': 'youtube#videoCategory', 'etag': '\"ld9biNPKjAjgjV7EZ4EKeEGrhao/FJwVpGCVZ1yiJrqZbpqe68Sy_OE\"', 'id': '18', 'snippet': {'channelId': 'UCBR8-60-B28hp2BmDPdntcQ', 'title': 'Short Movies', 'assignable': False}}, {'kind': 'youtube#videoCategory', 'etag': '\"ld9biNPKjAjgjV7EZ4EKeEGrhao/M-3iD9dwK7YJCafRf_DkLN8CouA\"', 'id': '19', 'snippet': {'channelId': 'UCBR8-60-B28hp2BmDPdntcQ', 'title': 'Travel & Events', 'assignable': True}}, {'kind': 'youtube#videoCategory', 'etag': '\"ld9biNPKjAjgjV7EZ4EKeEGrhao/WmA0qYEfjWsAoyJFSw2zinhn2wM\"', 'id': '20', 'snippet': {'channelId': 'UCBR8-60-B28hp2BmDPdntcQ', 'title': 'Gaming', 'assignable': True}}, {'kind': 'youtube#videoCategory', 'etag': '\"ld9biNPKjAjgjV7EZ4EKeEGrhao/EapFaGYG7K0StIXVf8aba249tdM\"', 'id': '21', 'snippet': {'channelId': 'UCBR8-60-B28hp2BmDPdntcQ', 'title': 'Videoblogging', 'assignable': False}}, {'kind': 'youtube#videoCategory', 'etag': '\"ld9biNPKjAjgjV7EZ4EKeEGrhao/xId8RX7vRN8rqkbYZbNIytUQDRo\"', 'id': '22', 'snippet': {'channelId': 'UCBR8-60-B28hp2BmDPdntcQ', 'title': 'People & Blogs', 'assignable': True}}, {'kind': 'youtube#videoCategory', 'etag': '\"ld9biNPKjAjgjV7EZ4EKeEGrhao/G9LHzQmx44rX2S5yaga_Aqtwz8M\"', 'id': '23', 'snippet': {'channelId': 'UCBR8-60-B28hp2BmDPdntcQ', 'title': 'Comedy', 'assignable': True}}, {'kind': 'youtube#videoCategory', 'etag': '\"ld9biNPKjAjgjV7EZ4EKeEGrhao/UVB9oxX2Bvqa_w_y3vXSLVK5E_s\"', 'id': '24', 'snippet': {'channelId': 'UCBR8-60-B28hp2BmDPdntcQ', 'title': 'Entertainment', 'assignable': True}}, {'kind': 'youtube#videoCategory', 'etag': '\"ld9biNPKjAjgjV7EZ4EKeEGrhao/QiLK0ZIrFoORdk_g2l_XR_ECjDc\"', 'id': '25', 'snippet': {'channelId': 'UCBR8-60-B28hp2BmDPdntcQ', 'title': 'News & Politics', 'assignable': True}}, {'kind': 'youtube#videoCategory', 'etag': '\"ld9biNPKjAjgjV7EZ4EKeEGrhao/r6Ck6Z0_L0rG37VJQR200SGNA_w\"', 'id': '26', 'snippet': {'channelId': 'UCBR8-60-B28hp2BmDPdntcQ', 'title': 'Howto & Style', 'assignable': True}}, {'kind': 'youtube#videoCategory', 'etag': '\"ld9biNPKjAjgjV7EZ4EKeEGrhao/EoYkczo9I3RCf96RveKTOgOPkUM\"', 'id': '27', 'snippet': {'channelId': 'UCBR8-60-B28hp2BmDPdntcQ', 'title': 'Education', 'assignable': True}}, {'kind': 'youtube#videoCategory', 'etag': '\"ld9biNPKjAjgjV7EZ4EKeEGrhao/w5HjcTD82G_XA3xBctS30zS-JpQ\"', 'id': '28', 'snippet': {'channelId': 'UCBR8-60-B28hp2BmDPdntcQ', 'title': 'Science & Technology', 'assignable': True}}, {'kind': 'youtube#videoCategory', 'etag': '\"ld9biNPKjAjgjV7EZ4EKeEGrhao/lL7uWDr_071CHxifjYG1tJrp4Uo\"', 'id': '30', 'snippet': {'channelId': 'UCBR8-60-B28hp2BmDPdntcQ', 'title': 'Movies', 'assignable': False}}, {'kind': 'youtube#videoCategory', 'etag': '\"ld9biNPKjAjgjV7EZ4EKeEGrhao/WnuVfjO-PyFLO7NTRQIbrGE62nk\"', 'id': '31', 'snippet': {'channelId': 'UCBR8-60-B28hp2BmDPdntcQ', 'title': 'Anime/Animation', 'assignable': False}}, {'kind': 'youtube#videoCategory', 'etag': '\"ld9biNPKjAjgjV7EZ4EKeEGrhao/ctpH2hGA_UZ3volJT_FTlOg9M00\"', 'id': '32', 'snippet': {'channelId': 'UCBR8-60-B28hp2BmDPdntcQ', 'title': 'Action/Adventure', 'assignable': False}}, {'kind': 'youtube#videoCategory', 'etag': '\"ld9biNPKjAjgjV7EZ4EKeEGrhao/L0kR3-g1BAo5UD1PLVbQ7LkkDtQ\"', 'id': '33', 'snippet': {'channelId': 'UCBR8-60-B28hp2BmDPdntcQ', 'title': 'Classics', 'assignable': False}}, {'kind': 'youtube#videoCategory', 'etag': '\"ld9biNPKjAjgjV7EZ4EKeEGrhao/pUZOAC_s9sfiwar639qr_wAB-aI\"', 'id': '34', 'snippet': {'channelId': 'UCBR8-60-B28hp2BmDPdntcQ', 'title': 'Comedy', 'assignable': False}}, {'kind': 'youtube#videoCategory', 'etag': '\"ld9biNPKjAjgjV7EZ4EKeEGrhao/Xb5JLhtyNRN3AQq021Ds-OV50Jk\"', 'id': '35', 'snippet': {'channelId': 'UCBR8-60-B28hp2BmDPdntcQ', 'title': 'Documentary', 'assignable': False}}, {'kind': 'youtube#videoCategory', 'etag': '\"ld9biNPKjAjgjV7EZ4EKeEGrhao/u8WXzF4HIhtEi805__sqjuA4lEk\"', 'id': '36', 'snippet': {'channelId': 'UCBR8-60-B28hp2BmDPdntcQ', 'title': 'Drama', 'assignable': False}}, {'kind': 'youtube#videoCategory', 'etag': '\"ld9biNPKjAjgjV7EZ4EKeEGrhao/D04PP4Gr7wc4IV_O9G66Z4A8KWQ\"', 'id': '37', 'snippet': {'channelId': 'UCBR8-60-B28hp2BmDPdntcQ', 'title': 'Family', 'assignable': False}}, {'kind': 'youtube#videoCategory', 'etag': '\"ld9biNPKjAjgjV7EZ4EKeEGrhao/i5-_AceGXQCEEMWU0V8CcQm_vLQ\"', 'id': '38', 'snippet': {'channelId': 'UCBR8-60-B28hp2BmDPdntcQ', 'title': 'Foreign', 'assignable': False}}, {'kind': 'youtube#videoCategory', 'etag': '\"ld9biNPKjAjgjV7EZ4EKeEGrhao/rtlxd0zOixA9QHdIZB26-St5qgQ\"', 'id': '39', 'snippet': {'channelId': 'UCBR8-60-B28hp2BmDPdntcQ', 'title': 'Horror', 'assignable': False}}, {'kind': 'youtube#videoCategory', 'etag': '\"ld9biNPKjAjgjV7EZ4EKeEGrhao/N1TrDFLRppxZgBowCJfJCvh0Dpg\"', 'id': '40', 'snippet': {'channelId': 'UCBR8-60-B28hp2BmDPdntcQ', 'title': 'Sci-Fi/Fantasy', 'assignable': False}}, {'kind': 'youtube#videoCategory', 'etag': '\"ld9biNPKjAjgjV7EZ4EKeEGrhao/7UMGi6zRySqXopr_rv4sZq6Za2E\"', 'id': '41', 'snippet': {'channelId': 'UCBR8-60-B28hp2BmDPdntcQ', 'title': 'Thriller', 'assignable': False}}, {'kind': 'youtube#videoCategory', 'etag': '\"ld9biNPKjAjgjV7EZ4EKeEGrhao/RScXhi324h8usyIetreAVb-uKeM\"', 'id': '42', 'snippet': {'channelId': 'UCBR8-60-B28hp2BmDPdntcQ', 'title': 'Shorts', 'assignable': False}}, {'kind': 'youtube#videoCategory', 'etag': '\"ld9biNPKjAjgjV7EZ4EKeEGrhao/0n9MJVCDLpA8q7aiGVrFsuFsd0A\"', 'id': '43', 'snippet': {'channelId': 'UCBR8-60-B28hp2BmDPdntcQ', 'title': 'Shows', 'assignable': False}}, {'kind': 'youtube#videoCategory', 'etag': '\"ld9biNPKjAjgjV7EZ4EKeEGrhao/x5NxSf5fz8hn4loSN4rvhwzD_pY\"', 'id': '44', 'snippet': {'channelId': 'UCBR8-60-B28hp2BmDPdntcQ', 'title': 'Trailers', 'assignable': False}}]}, {'kind': 'youtube#videoCategoryListResponse', 'etag': '\"m2yskBQFythfE4irbTIeOgYYfBU/S730Ilt-Fi-emsQJvJAAShlR6hM\"', 'items': [{'kind': 'youtube#videoCategory', 'etag': '\"m2yskBQFythfE4irbTIeOgYYfBU/Xy1mB4_yLrHy_BmKmPBggty2mZQ\"', 'id': '1', 'snippet': {'channelId': 'UCBR8-60-B28hp2BmDPdntcQ', 'title': 'Film & Animation', 'assignable': True}}, {'kind': 'youtube#videoCategory', 'etag': '\"m2yskBQFythfE4irbTIeOgYYfBU/UZ1oLIIz2dxIhO45ZTFR3a3NyTA\"', 'id': '2', 'snippet': {'channelId': 'UCBR8-60-B28hp2BmDPdntcQ', 'title': 'Autos & Vehicles', 'assignable': True}}, {'kind': 'youtube#videoCategory', 'etag': '\"m2yskBQFythfE4irbTIeOgYYfBU/nqRIq97-xe5XRZTxbknKFVe5Lmg\"', 'id': '10', 'snippet': {'channelId': 'UCBR8-60-B28hp2BmDPdntcQ', 'title': 'Music', 'assignable': True}}, {'kind': 'youtube#videoCategory', 'etag': '\"m2yskBQFythfE4irbTIeOgYYfBU/HwXKamM1Q20q9BN-oBJavSGkfDI\"', 'id': '15', 'snippet': {'channelId': 'UCBR8-60-B28hp2BmDPdntcQ', 'title': 'Pets & Animals', 'assignable': True}}, {'kind': 'youtube#videoCategory', 'etag': '\"m2yskBQFythfE4irbTIeOgYYfBU/9GQMSRjrZdHeb1OEM1XVQ9zbGec\"', 'id': '17', 'snippet': {'channelId': 'UCBR8-60-B28hp2BmDPdntcQ', 'title': 'Sports', 'assignable': True}}, {'kind': 'youtube#videoCategory', 'etag': '\"m2yskBQFythfE4irbTIeOgYYfBU/FJwVpGCVZ1yiJrqZbpqe68Sy_OE\"', 'id': '18', 'snippet': {'channelId': 'UCBR8-60-B28hp2BmDPdntcQ', 'title': 'Short Movies', 'assignable': False}}, {'kind': 'youtube#videoCategory', 'etag': '\"m2yskBQFythfE4irbTIeOgYYfBU/M-3iD9dwK7YJCafRf_DkLN8CouA\"', 'id': '19', 'snippet': {'channelId': 'UCBR8-60-B28hp2BmDPdntcQ', 'title': 'Travel & Events', 'assignable': True}}, {'kind': 'youtube#videoCategory', 'etag': '\"m2yskBQFythfE4irbTIeOgYYfBU/WmA0qYEfjWsAoyJFSw2zinhn2wM\"', 'id': '20', 'snippet': {'channelId': 'UCBR8-60-B28hp2BmDPdntcQ', 'title': 'Gaming', 'assignable': True}}, {'kind': 'youtube#videoCategory', 'etag': '\"m2yskBQFythfE4irbTIeOgYYfBU/EapFaGYG7K0StIXVf8aba249tdM\"', 'id': '21', 'snippet': {'channelId': 'UCBR8-60-B28hp2BmDPdntcQ', 'title': 'Videoblogging', 'assignable': False}}, {'kind': 'youtube#videoCategory', 'etag': '\"m2yskBQFythfE4irbTIeOgYYfBU/xId8RX7vRN8rqkbYZbNIytUQDRo\"', 'id': '22', 'snippet': {'channelId': 'UCBR8-60-B28hp2BmDPdntcQ', 'title': 'People & Blogs', 'assignable': True}}, {'kind': 'youtube#videoCategory', 'etag': '\"m2yskBQFythfE4irbTIeOgYYfBU/G9LHzQmx44rX2S5yaga_Aqtwz8M\"', 'id': '23', 'snippet': {'channelId': 'UCBR8-60-B28hp2BmDPdntcQ', 'title': 'Comedy', 'assignable': True}}, {'kind': 'youtube#videoCategory', 'etag': '\"m2yskBQFythfE4irbTIeOgYYfBU/UVB9oxX2Bvqa_w_y3vXSLVK5E_s\"', 'id': '24', 'snippet': {'channelId': 'UCBR8-60-B28hp2BmDPdntcQ', 'title': 'Entertainment', 'assignable': True}}, {'kind': 'youtube#videoCategory', 'etag': '\"m2yskBQFythfE4irbTIeOgYYfBU/QiLK0ZIrFoORdk_g2l_XR_ECjDc\"', 'id': '25', 'snippet': {'channelId': 'UCBR8-60-B28hp2BmDPdntcQ', 'title': 'News & Politics', 'assignable': True}}, {'kind': 'youtube#videoCategory', 'etag': '\"m2yskBQFythfE4irbTIeOgYYfBU/r6Ck6Z0_L0rG37VJQR200SGNA_w\"', 'id': '26', 'snippet': {'channelId': 'UCBR8-60-B28hp2BmDPdntcQ', 'title': 'Howto & Style', 'assignable': True}}, {'kind': 'youtube#videoCategory', 'etag': '\"m2yskBQFythfE4irbTIeOgYYfBU/EoYkczo9I3RCf96RveKTOgOPkUM\"', 'id': '27', 'snippet': {'channelId': 'UCBR8-60-B28hp2BmDPdntcQ', 'title': 'Education', 'assignable': True}}, {'kind': 'youtube#videoCategory', 'etag': '\"m2yskBQFythfE4irbTIeOgYYfBU/w5HjcTD82G_XA3xBctS30zS-JpQ\"', 'id': '28', 'snippet': {'channelId': 'UCBR8-60-B28hp2BmDPdntcQ', 'title': 'Science & Technology', 'assignable': True}}, {'kind': 'youtube#videoCategory', 'etag': '\"m2yskBQFythfE4irbTIeOgYYfBU/SalkJoBWq_smSEqiAx_qyri6Wa8\"', 'id': '29', 'snippet': {'channelId': 'UCBR8-60-B28hp2BmDPdntcQ', 'title': 'Nonprofits & Activism', 'assignable': True}}, {'kind': 'youtube#videoCategory', 'etag': '\"m2yskBQFythfE4irbTIeOgYYfBU/lL7uWDr_071CHxifjYG1tJrp4Uo\"', 'id': '30', 'snippet': {'channelId': 'UCBR8-60-B28hp2BmDPdntcQ', 'title': 'Movies', 'assignable': False}}, {'kind': 'youtube#videoCategory', 'etag': '\"m2yskBQFythfE4irbTIeOgYYfBU/WnuVfjO-PyFLO7NTRQIbrGE62nk\"', 'id': '31', 'snippet': {'channelId': 'UCBR8-60-B28hp2BmDPdntcQ', 'title': 'Anime/Animation', 'assignable': False}}, {'kind': 'youtube#videoCategory', 'etag': '\"m2yskBQFythfE4irbTIeOgYYfBU/ctpH2hGA_UZ3volJT_FTlOg9M00\"', 'id': '32', 'snippet': {'channelId': 'UCBR8-60-B28hp2BmDPdntcQ', 'title': 'Action/Adventure', 'assignable': False}}, {'kind': 'youtube#videoCategory', 'etag': '\"m2yskBQFythfE4irbTIeOgYYfBU/L0kR3-g1BAo5UD1PLVbQ7LkkDtQ\"', 'id': '33', 'snippet': {'channelId': 'UCBR8-60-B28hp2BmDPdntcQ', 'title': 'Classics', 'assignable': False}}, {'kind': 'youtube#videoCategory', 'etag': '\"m2yskBQFythfE4irbTIeOgYYfBU/pUZOAC_s9sfiwar639qr_wAB-aI\"', 'id': '34', 'snippet': {'channelId': 'UCBR8-60-B28hp2BmDPdntcQ', 'title': 'Comedy', 'assignable': False}}, {'kind': 'youtube#videoCategory', 'etag': '\"m2yskBQFythfE4irbTIeOgYYfBU/Xb5JLhtyNRN3AQq021Ds-OV50Jk\"', 'id': '35', 'snippet': {'channelId': 'UCBR8-60-B28hp2BmDPdntcQ', 'title': 'Documentary', 'assignable': False}}, {'kind': 'youtube#videoCategory', 'etag': '\"m2yskBQFythfE4irbTIeOgYYfBU/u8WXzF4HIhtEi805__sqjuA4lEk\"', 'id': '36', 'snippet': {'channelId': 'UCBR8-60-B28hp2BmDPdntcQ', 'title': 'Drama', 'assignable': False}}, {'kind': 'youtube#videoCategory', 'etag': '\"m2yskBQFythfE4irbTIeOgYYfBU/D04PP4Gr7wc4IV_O9G66Z4A8KWQ\"', 'id': '37', 'snippet': {'channelId': 'UCBR8-60-B28hp2BmDPdntcQ', 'title': 'Family', 'assignable': False}}, {'kind': 'youtube#videoCategory', 'etag': '\"m2yskBQFythfE4irbTIeOgYYfBU/i5-_AceGXQCEEMWU0V8CcQm_vLQ\"', 'id': '38', 'snippet': {'channelId': 'UCBR8-60-B28hp2BmDPdntcQ', 'title': 'Foreign', 'assignable': False}}, {'kind': 'youtube#videoCategory', 'etag': '\"m2yskBQFythfE4irbTIeOgYYfBU/rtlxd0zOixA9QHdIZB26-St5qgQ\"', 'id': '39', 'snippet': {'channelId': 'UCBR8-60-B28hp2BmDPdntcQ', 'title': 'Horror', 'assignable': False}}, {'kind': 'youtube#videoCategory', 'etag': '\"m2yskBQFythfE4irbTIeOgYYfBU/N1TrDFLRppxZgBowCJfJCvh0Dpg\"', 'id': '40', 'snippet': {'channelId': 'UCBR8-60-B28hp2BmDPdntcQ', 'title': 'Sci-Fi/Fantasy', 'assignable': False}}, {'kind': 'youtube#videoCategory', 'etag': '\"m2yskBQFythfE4irbTIeOgYYfBU/7UMGi6zRySqXopr_rv4sZq6Za2E\"', 'id': '41', 'snippet': {'channelId': 'UCBR8-60-B28hp2BmDPdntcQ', 'title': 'Thriller', 'assignable': False}}, {'kind': 'youtube#videoCategory', 'etag': '\"m2yskBQFythfE4irbTIeOgYYfBU/RScXhi324h8usyIetreAVb-uKeM\"', 'id': '42', 'snippet': {'channelId': 'UCBR8-60-B28hp2BmDPdntcQ', 'title': 'Shorts', 'assignable': False}}, {'kind': 'youtube#videoCategory', 'etag': '\"m2yskBQFythfE4irbTIeOgYYfBU/0n9MJVCDLpA8q7aiGVrFsuFsd0A\"', 'id': '43', 'snippet': {'channelId': 'UCBR8-60-B28hp2BmDPdntcQ', 'title': 'Shows', 'assignable': False}}, {'kind': 'youtube#videoCategory', 'etag': '\"m2yskBQFythfE4irbTIeOgYYfBU/x5NxSf5fz8hn4loSN4rvhwzD_pY\"', 'id': '44', 'snippet': {'channelId': 'UCBR8-60-B28hp2BmDPdntcQ', 'title': 'Trailers', 'assignable': False}}]}, {'kind': 'youtube#videoCategoryListResponse', 'etag': '\"ld9biNPKjAjgjV7EZ4EKeEGrhao/1v2mrzYSYG6onNLt2qTj13hkQZk\"', 'items': [{'kind': 'youtube#videoCategory', 'etag': '\"ld9biNPKjAjgjV7EZ4EKeEGrhao/Xy1mB4_yLrHy_BmKmPBggty2mZQ\"', 'id': '1', 'snippet': {'channelId': 'UCBR8-60-B28hp2BmDPdntcQ', 'title': 'Film & Animation', 'assignable': True}}, {'kind': 'youtube#videoCategory', 'etag': '\"ld9biNPKjAjgjV7EZ4EKeEGrhao/UZ1oLIIz2dxIhO45ZTFR3a3NyTA\"', 'id': '2', 'snippet': {'channelId': 'UCBR8-60-B28hp2BmDPdntcQ', 'title': 'Autos & Vehicles', 'assignable': True}}, {'kind': 'youtube#videoCategory', 'etag': '\"ld9biNPKjAjgjV7EZ4EKeEGrhao/nqRIq97-xe5XRZTxbknKFVe5Lmg\"', 'id': '10', 'snippet': {'channelId': 'UCBR8-60-B28hp2BmDPdntcQ', 'title': 'Music', 'assignable': True}}, {'kind': 'youtube#videoCategory', 'etag': '\"ld9biNPKjAjgjV7EZ4EKeEGrhao/HwXKamM1Q20q9BN-oBJavSGkfDI\"', 'id': '15', 'snippet': {'channelId': 'UCBR8-60-B28hp2BmDPdntcQ', 'title': 'Pets & Animals', 'assignable': True}}, {'kind': 'youtube#videoCategory', 'etag': '\"ld9biNPKjAjgjV7EZ4EKeEGrhao/9GQMSRjrZdHeb1OEM1XVQ9zbGec\"', 'id': '17', 'snippet': {'channelId': 'UCBR8-60-B28hp2BmDPdntcQ', 'title': 'Sports', 'assignable': True}}, {'kind': 'youtube#videoCategory', 'etag': '\"ld9biNPKjAjgjV7EZ4EKeEGrhao/FJwVpGCVZ1yiJrqZbpqe68Sy_OE\"', 'id': '18', 'snippet': {'channelId': 'UCBR8-60-B28hp2BmDPdntcQ', 'title': 'Short Movies', 'assignable': False}}, {'kind': 'youtube#videoCategory', 'etag': '\"ld9biNPKjAjgjV7EZ4EKeEGrhao/M-3iD9dwK7YJCafRf_DkLN8CouA\"', 'id': '19', 'snippet': {'channelId': 'UCBR8-60-B28hp2BmDPdntcQ', 'title': 'Travel & Events', 'assignable': True}}, {'kind': 'youtube#videoCategory', 'etag': '\"ld9biNPKjAjgjV7EZ4EKeEGrhao/WmA0qYEfjWsAoyJFSw2zinhn2wM\"', 'id': '20', 'snippet': {'channelId': 'UCBR8-60-B28hp2BmDPdntcQ', 'title': 'Gaming', 'assignable': True}}, {'kind': 'youtube#videoCategory', 'etag': '\"ld9biNPKjAjgjV7EZ4EKeEGrhao/EapFaGYG7K0StIXVf8aba249tdM\"', 'id': '21', 'snippet': {'channelId': 'UCBR8-60-B28hp2BmDPdntcQ', 'title': 'Videoblogging', 'assignable': False}}, {'kind': 'youtube#videoCategory', 'etag': '\"ld9biNPKjAjgjV7EZ4EKeEGrhao/xId8RX7vRN8rqkbYZbNIytUQDRo\"', 'id': '22', 'snippet': {'channelId': 'UCBR8-60-B28hp2BmDPdntcQ', 'title': 'People & Blogs', 'assignable': True}}, {'kind': 'youtube#videoCategory', 'etag': '\"ld9biNPKjAjgjV7EZ4EKeEGrhao/G9LHzQmx44rX2S5yaga_Aqtwz8M\"', 'id': '23', 'snippet': {'channelId': 'UCBR8-60-B28hp2BmDPdntcQ', 'title': 'Comedy', 'assignable': True}}, {'kind': 'youtube#videoCategory', 'etag': '\"ld9biNPKjAjgjV7EZ4EKeEGrhao/UVB9oxX2Bvqa_w_y3vXSLVK5E_s\"', 'id': '24', 'snippet': {'channelId': 'UCBR8-60-B28hp2BmDPdntcQ', 'title': 'Entertainment', 'assignable': True}}, {'kind': 'youtube#videoCategory', 'etag': '\"ld9biNPKjAjgjV7EZ4EKeEGrhao/QiLK0ZIrFoORdk_g2l_XR_ECjDc\"', 'id': '25', 'snippet': {'channelId': 'UCBR8-60-B28hp2BmDPdntcQ', 'title': 'News & Politics', 'assignable': True}}, {'kind': 'youtube#videoCategory', 'etag': '\"ld9biNPKjAjgjV7EZ4EKeEGrhao/r6Ck6Z0_L0rG37VJQR200SGNA_w\"', 'id': '26', 'snippet': {'channelId': 'UCBR8-60-B28hp2BmDPdntcQ', 'title': 'Howto & Style', 'assignable': True}}, {'kind': 'youtube#videoCategory', 'etag': '\"ld9biNPKjAjgjV7EZ4EKeEGrhao/EoYkczo9I3RCf96RveKTOgOPkUM\"', 'id': '27', 'snippet': {'channelId': 'UCBR8-60-B28hp2BmDPdntcQ', 'title': 'Education', 'assignable': True}}, {'kind': 'youtube#videoCategory', 'etag': '\"ld9biNPKjAjgjV7EZ4EKeEGrhao/w5HjcTD82G_XA3xBctS30zS-JpQ\"', 'id': '28', 'snippet': {'channelId': 'UCBR8-60-B28hp2BmDPdntcQ', 'title': 'Science & Technology', 'assignable': True}}, {'kind': 'youtube#videoCategory', 'etag': '\"ld9biNPKjAjgjV7EZ4EKeEGrhao/lL7uWDr_071CHxifjYG1tJrp4Uo\"', 'id': '30', 'snippet': {'channelId': 'UCBR8-60-B28hp2BmDPdntcQ', 'title': 'Movies', 'assignable': False}}, {'kind': 'youtube#videoCategory', 'etag': '\"ld9biNPKjAjgjV7EZ4EKeEGrhao/WnuVfjO-PyFLO7NTRQIbrGE62nk\"', 'id': '31', 'snippet': {'channelId': 'UCBR8-60-B28hp2BmDPdntcQ', 'title': 'Anime/Animation', 'assignable': False}}, {'kind': 'youtube#videoCategory', 'etag': '\"ld9biNPKjAjgjV7EZ4EKeEGrhao/ctpH2hGA_UZ3volJT_FTlOg9M00\"', 'id': '32', 'snippet': {'channelId': 'UCBR8-60-B28hp2BmDPdntcQ', 'title': 'Action/Adventure', 'assignable': False}}, {'kind': 'youtube#videoCategory', 'etag': '\"ld9biNPKjAjgjV7EZ4EKeEGrhao/L0kR3-g1BAo5UD1PLVbQ7LkkDtQ\"', 'id': '33', 'snippet': {'channelId': 'UCBR8-60-B28hp2BmDPdntcQ', 'title': 'Classics', 'assignable': False}}, {'kind': 'youtube#videoCategory', 'etag': '\"ld9biNPKjAjgjV7EZ4EKeEGrhao/pUZOAC_s9sfiwar639qr_wAB-aI\"', 'id': '34', 'snippet': {'channelId': 'UCBR8-60-B28hp2BmDPdntcQ', 'title': 'Comedy', 'assignable': False}}, {'kind': 'youtube#videoCategory', 'etag': '\"ld9biNPKjAjgjV7EZ4EKeEGrhao/Xb5JLhtyNRN3AQq021Ds-OV50Jk\"', 'id': '35', 'snippet': {'channelId': 'UCBR8-60-B28hp2BmDPdntcQ', 'title': 'Documentary', 'assignable': False}}, {'kind': 'youtube#videoCategory', 'etag': '\"ld9biNPKjAjgjV7EZ4EKeEGrhao/u8WXzF4HIhtEi805__sqjuA4lEk\"', 'id': '36', 'snippet': {'channelId': 'UCBR8-60-B28hp2BmDPdntcQ', 'title': 'Drama', 'assignable': False}}, {'kind': 'youtube#videoCategory', 'etag': '\"ld9biNPKjAjgjV7EZ4EKeEGrhao/D04PP4Gr7wc4IV_O9G66Z4A8KWQ\"', 'id': '37', 'snippet': {'channelId': 'UCBR8-60-B28hp2BmDPdntcQ', 'title': 'Family', 'assignable': False}}, {'kind': 'youtube#videoCategory', 'etag': '\"ld9biNPKjAjgjV7EZ4EKeEGrhao/i5-_AceGXQCEEMWU0V8CcQm_vLQ\"', 'id': '38', 'snippet': {'channelId': 'UCBR8-60-B28hp2BmDPdntcQ', 'title': 'Foreign', 'assignable': False}}, {'kind': 'youtube#videoCategory', 'etag': '\"ld9biNPKjAjgjV7EZ4EKeEGrhao/rtlxd0zOixA9QHdIZB26-St5qgQ\"', 'id': '39', 'snippet': {'channelId': 'UCBR8-60-B28hp2BmDPdntcQ', 'title': 'Horror', 'assignable': False}}, {'kind': 'youtube#videoCategory', 'etag': '\"ld9biNPKjAjgjV7EZ4EKeEGrhao/N1TrDFLRppxZgBowCJfJCvh0Dpg\"', 'id': '40', 'snippet': {'channelId': 'UCBR8-60-B28hp2BmDPdntcQ', 'title': 'Sci-Fi/Fantasy', 'assignable': False}}, {'kind': 'youtube#videoCategory', 'etag': '\"ld9biNPKjAjgjV7EZ4EKeEGrhao/7UMGi6zRySqXopr_rv4sZq6Za2E\"', 'id': '41', 'snippet': {'channelId': 'UCBR8-60-B28hp2BmDPdntcQ', 'title': 'Thriller', 'assignable': False}}, {'kind': 'youtube#videoCategory', 'etag': '\"ld9biNPKjAjgjV7EZ4EKeEGrhao/RScXhi324h8usyIetreAVb-uKeM\"', 'id': '42', 'snippet': {'channelId': 'UCBR8-60-B28hp2BmDPdntcQ', 'title': 'Shorts', 'assignable': False}}, {'kind': 'youtube#videoCategory', 'etag': '\"ld9biNPKjAjgjV7EZ4EKeEGrhao/0n9MJVCDLpA8q7aiGVrFsuFsd0A\"', 'id': '43', 'snippet': {'channelId': 'UCBR8-60-B28hp2BmDPdntcQ', 'title': 'Shows', 'assignable': False}}, {'kind': 'youtube#videoCategory', 'etag': '\"ld9biNPKjAjgjV7EZ4EKeEGrhao/x5NxSf5fz8hn4loSN4rvhwzD_pY\"', 'id': '44', 'snippet': {'channelId': 'UCBR8-60-B28hp2BmDPdntcQ', 'title': 'Trailers', 'assignable': False}}]}]\n"
          ]
        }
      ]
    },
    {
      "cell_type": "code",
      "metadata": {
        "colab": {
          "base_uri": "https://localhost:8080/"
        },
        "id": "r2jHmC90YOz-",
        "outputId": "441aa178-58b1-47c8-d9bc-99a59d8d1581"
      },
      "source": [
        "# Adding a prefix 'items' to the data columns\n",
        "df = pd.json_normalize(Json_data, 'items', ['kind', 'etag'],record_prefix='items_')\n",
        "df['items_snippet.title']"
      ],
      "execution_count": 45,
      "outputs": [
        {
          "output_type": "execute_result",
          "data": {
            "text/plain": [
              "0      Film & Animation\n",
              "1      Autos & Vehicles\n",
              "2                 Music\n",
              "3        Pets & Animals\n",
              "4                Sports\n",
              "             ...       \n",
              "120      Sci-Fi/Fantasy\n",
              "121            Thriller\n",
              "122              Shorts\n",
              "123               Shows\n",
              "124            Trailers\n",
              "Name: items_snippet.title, Length: 125, dtype: object"
            ]
          },
          "metadata": {},
          "execution_count": 45
        }
      ]
    },
    {
      "cell_type": "code",
      "metadata": {
        "id": "sL_AutWkYOoR"
      },
      "source": [
        "# Dropping duplicates and storing the data in category_name\n",
        "# setting items_id as the index\n",
        "category_name = combined_data['category_id'].map(df.drop_duplicates('items_id').set_index('items_id')['items_snippet.title'])"
      ],
      "execution_count": 46,
      "outputs": []
    },
    {
      "cell_type": "code",
      "metadata": {
        "id": "nLrtl-feYOlP",
        "colab": {
          "base_uri": "https://localhost:8080/"
        },
        "outputId": "36c64150-3037-41a7-e70a-16604a1774f6"
      },
      "source": [
        "# Insert new category and converting the publish_time to pandas datetime format\n",
        "combined_data.insert(4, 'category', category_name)\n",
        "combined_data['publish_time'] = pd.to_datetime(combined_data['publish_time'])\n",
        "print('validate_na',(combined_data.shape))"
      ],
      "execution_count": 47,
      "outputs": [
        {
          "output_type": "stream",
          "name": "stdout",
          "text": [
            "validate_na (154567, 18)\n"
          ]
        }
      ]
    },
    {
      "cell_type": "code",
      "metadata": {
        "colab": {
          "base_uri": "https://localhost:8080/"
        },
        "id": "ja3j5le0dG8X",
        "outputId": "74193855-bb0a-42c6-eca0-13c78444d319"
      },
      "source": [
        "combined_data.columns"
      ],
      "execution_count": 34,
      "outputs": [
        {
          "output_type": "execute_result",
          "data": {
            "text/plain": [
              "Index(['video_id', 'trending_date', 'title', 'channel_title', 'category',\n",
              "       'category_id', 'publish_time', 'tags', 'views', 'likes', 'dislikes',\n",
              "       'comment_count', 'thumbnail_link', 'comments_disabled',\n",
              "       'ratings_disabled', 'video_error_or_removed', 'description', 'Country'],\n",
              "      dtype='object')"
            ]
          },
          "metadata": {},
          "execution_count": 34
        }
      ]
    },
    {
      "cell_type": "code",
      "metadata": {
        "colab": {
          "base_uri": "https://localhost:8080/",
          "height": 297
        },
        "id": "2v4j32FpdKRt",
        "outputId": "6bc741e0-91e0-4893-a297-7492c39a8b75"
      },
      "source": [
        "combined_data.describe()"
      ],
      "execution_count": 35,
      "outputs": [
        {
          "output_type": "execute_result",
          "data": {
            "text/html": [
              "<div>\n",
              "<style scoped>\n",
              "    .dataframe tbody tr th:only-of-type {\n",
              "        vertical-align: middle;\n",
              "    }\n",
              "\n",
              "    .dataframe tbody tr th {\n",
              "        vertical-align: top;\n",
              "    }\n",
              "\n",
              "    .dataframe thead th {\n",
              "        text-align: right;\n",
              "    }\n",
              "</style>\n",
              "<table border=\"1\" class=\"dataframe\">\n",
              "  <thead>\n",
              "    <tr style=\"text-align: right;\">\n",
              "      <th></th>\n",
              "      <th>views</th>\n",
              "      <th>likes</th>\n",
              "      <th>dislikes</th>\n",
              "      <th>comment_count</th>\n",
              "    </tr>\n",
              "  </thead>\n",
              "  <tbody>\n",
              "    <tr>\n",
              "      <th>count</th>\n",
              "      <td>1.545670e+05</td>\n",
              "      <td>1.545670e+05</td>\n",
              "      <td>1.545670e+05</td>\n",
              "      <td>1.545670e+05</td>\n",
              "    </tr>\n",
              "    <tr>\n",
              "      <th>mean</th>\n",
              "      <td>1.281578e+06</td>\n",
              "      <td>4.096105e+04</td>\n",
              "      <td>2.056138e+03</td>\n",
              "      <td>4.606594e+03</td>\n",
              "    </tr>\n",
              "    <tr>\n",
              "      <th>std</th>\n",
              "      <td>4.605292e+06</td>\n",
              "      <td>1.521490e+05</td>\n",
              "      <td>1.825854e+04</td>\n",
              "      <td>2.327823e+04</td>\n",
              "    </tr>\n",
              "    <tr>\n",
              "      <th>min</th>\n",
              "      <td>2.230000e+02</td>\n",
              "      <td>0.000000e+00</td>\n",
              "      <td>0.000000e+00</td>\n",
              "      <td>0.000000e+00</td>\n",
              "    </tr>\n",
              "    <tr>\n",
              "      <th>25%</th>\n",
              "      <td>9.574900e+04</td>\n",
              "      <td>1.321000e+03</td>\n",
              "      <td>8.100000e+01</td>\n",
              "      <td>1.720000e+02</td>\n",
              "    </tr>\n",
              "    <tr>\n",
              "      <th>50%</th>\n",
              "      <td>3.134280e+05</td>\n",
              "      <td>6.336000e+03</td>\n",
              "      <td>2.980000e+02</td>\n",
              "      <td>7.650000e+02</td>\n",
              "    </tr>\n",
              "    <tr>\n",
              "      <th>75%</th>\n",
              "      <td>9.473390e+05</td>\n",
              "      <td>2.594050e+04</td>\n",
              "      <td>1.024000e+03</td>\n",
              "      <td>2.726000e+03</td>\n",
              "    </tr>\n",
              "    <tr>\n",
              "      <th>max</th>\n",
              "      <td>2.252119e+08</td>\n",
              "      <td>5.613827e+06</td>\n",
              "      <td>1.643059e+06</td>\n",
              "      <td>1.228655e+06</td>\n",
              "    </tr>\n",
              "  </tbody>\n",
              "</table>\n",
              "</div>"
            ],
            "text/plain": [
              "              views         likes      dislikes  comment_count\n",
              "count  1.545670e+05  1.545670e+05  1.545670e+05   1.545670e+05\n",
              "mean   1.281578e+06  4.096105e+04  2.056138e+03   4.606594e+03\n",
              "std    4.605292e+06  1.521490e+05  1.825854e+04   2.327823e+04\n",
              "min    2.230000e+02  0.000000e+00  0.000000e+00   0.000000e+00\n",
              "25%    9.574900e+04  1.321000e+03  8.100000e+01   1.720000e+02\n",
              "50%    3.134280e+05  6.336000e+03  2.980000e+02   7.650000e+02\n",
              "75%    9.473390e+05  2.594050e+04  1.024000e+03   2.726000e+03\n",
              "max    2.252119e+08  5.613827e+06  1.643059e+06   1.228655e+06"
            ]
          },
          "metadata": {},
          "execution_count": 35
        }
      ]
    },
    {
      "cell_type": "code",
      "metadata": {
        "id": "CUmp5XviYOhs"
      },
      "source": [
        "# Max,Min,Standard deviation and mean values of views,likes,dislikes and comment_count\n",
        "views_max = combined_data['views'].max()\n",
        "views_min = combined_data['views'].min()\n",
        "views_std = combined_data['views'].std()\n",
        "views_mean = combined_data['views'].mean()\n",
        "likes_max = combined_data['likes'].max()\n",
        "likes_min = combined_data['likes'].min()\n",
        "likes_std = combined_data['likes'].std()\n",
        "likes_mean = combined_data['likes'].mean()\n",
        "dislikes_mean = combined_data['dislikes'].mean()\n",
        "dislikes_std = combined_data['dislikes'].std()\n",
        "dislikes_min = combined_data['dislikes'].min()\n",
        "dislikes_max = combined_data['dislikes'].max()\n",
        "\n",
        "comment_count_max = combined_data['comment_count'].max()\n",
        "comment_count_min = combined_data['comment_count'].min()\n",
        "comment_count_std = combined_data['comment_count'].std()\n",
        "comment_count_mean = combined_data['comment_count'].mean()"
      ],
      "execution_count": 17,
      "outputs": []
    },
    {
      "cell_type": "code",
      "metadata": {
        "colab": {
          "base_uri": "https://localhost:8080/"
        },
        "id": "rKLU2N8YYOeO",
        "outputId": "7f33fb16-331d-4231-d11f-731e62a6fb87"
      },
      "source": [
        "# Adding all maxs to a list\n",
        "# Likewise adding all min, std and mean values to separate lists\n",
        "# Print the min, max,std and mean in a list\n",
        "maxs = [views_max,likes_max,dislikes_max,comment_count_max]\n",
        "mins = [views_min,likes_min,dislikes_min,comment_count_min]\n",
        "stds = [views_std,likes_std,dislikes_std,comment_count_std]\n",
        "means = [views_mean,likes_mean,dislikes_mean,comment_count_mean]\n",
        "\n",
        "\n",
        "print('check_min_max_mean_std',([maxs, mins, stds, means]))"
      ],
      "execution_count": 18,
      "outputs": [
        {
          "output_type": "stream",
          "name": "stdout",
          "text": [
            "check_min_max_mean_std [[225211923, 5613827, 1643059, 1228655], [223, 0, 0, 0], [4605292.478385801, 152148.95485475037, 18258.54137966117, 23278.22562061912], [1281578.03423758, 40961.05191276275, 2056.138490104615, 4606.593742519425]]\n"
          ]
        }
      ]
    },
    {
      "cell_type": "code",
      "metadata": {
        "colab": {
          "base_uri": "https://localhost:8080/"
        },
        "id": "0uL-5wW8YOav",
        "outputId": "f08777b2-ce3e-4c58-f970-fd0039f5655d"
      },
      "source": [
        "# Adding +1 before connverting to log values as the min value is above log0\n",
        "combined_data[\"views\"] = combined_data[\"views\"] + 1\n",
        "combined_data[\"likes\"] = combined_data[\"likes\"] + 1\n",
        "combined_data[\"dislikes\"] = combined_data[\"dislikes\"] + 1\n",
        "combined_data[\"comment_count\"] = combined_data[\"comment_count\"] + 1\n",
        "\n",
        "\n",
        "\n",
        "combined_data['views_log'] = np.log(combined_data['views'])\n",
        "combined_data['likes_log'] = np.log(combined_data['likes'])\n",
        "combined_data['dislikes_log'] = np.log(combined_data['dislikes'])\n",
        "combined_data['comment_log'] = np.log(combined_data['comment_count'])\n",
        "\n",
        "print('check_feature_rescaling',([np.mean(combined_data['likes_log']),np.mean(combined_data['views_log']),np.mean(combined_data['dislikes_log']),np.mean(combined_data['comment_log'])]))"
      ],
      "execution_count": 19,
      "outputs": [
        {
          "output_type": "stream",
          "name": "stdout",
          "text": [
            "check_feature_rescaling [8.571590187188683, 12.55267980501314, 5.614484952081131, 6.424543615108467]\n"
          ]
        }
      ]
    },
    {
      "cell_type": "code",
      "metadata": {
        "colab": {
          "base_uri": "https://localhost:8080/",
          "height": 377
        },
        "id": "h16NwRAKYOW9",
        "outputId": "c001ccbb-501a-405b-e989-4d50b8e10913"
      },
      "source": [
        "#Dropping duplicates\n",
        "combined_data.index.is_unique\n",
        "combined_data.drop_duplicates(keep='first').shape\n",
        "combined_data.index.duplicated()\n",
        "combined_data = combined_data.loc[combined_data.index.duplicated(),:]\n",
        "combined_data = combined_data.drop_duplicates(keep='first')\n",
        "\n",
        "\n",
        "import seaborn as sns\n",
        "sns.set(style=\"darkgrid\", font_scale=1.2)\n",
        "\n",
        "sns.displot(x=['dislikes'],kind='kde',aspect=1.4,bins=20)"
      ],
      "execution_count": 51,
      "outputs": [
        {
          "output_type": "execute_result",
          "data": {
            "text/plain": [
              "<seaborn.axisgrid.FacetGrid at 0x7fb09394d310>"
            ]
          },
          "metadata": {},
          "execution_count": 51
        },
        {
          "output_type": "display_data",
          "data": {
            "image/png": "[encoded data removed]",
            "text/plain": [
              "<Figure size 504x360 with 1 Axes>"
            ]
          },
          "metadata": {}
        }
      ]
    },
    {
      "cell_type": "code",
      "metadata": {
        "colab": {
          "base_uri": "https://localhost:8080/",
          "height": 326
        },
        "id": "e4hQs8tHYOTr",
        "outputId": "f91beb71-d006-49a0-eceb-8f4de41acc9b"
      },
      "source": [
        "#Storing the category value count in video_count \n",
        "# Scatter plot to show the category vallue count\n",
        "video_count = combined_data['category'].value_counts()\n",
        "\n",
        "video_categories = combined_data.plot(kind='scatter',x = 'category', y = 'category')"
      ],
      "execution_count": 55,
      "outputs": [
        {
          "output_type": "stream",
          "name": "stderr",
          "text": [
            "*c* argument looks like a single numeric RGB or RGBA sequence, which should be avoided as value-mapping will have precedence in case its length matches with *x* & *y*.  Please use the *color* keyword-argument or provide a 2-D array with a single row if you intend to specify the same RGB or RGBA value for all points.\n"
          ]
        },
        {
          "output_type": "display_data",
          "data": {
            "image/png": "[encoded data removed]",
            "text/plain": [
              "<Figure size 432x288 with 1 Axes>"
            ]
          },
          "metadata": {}
        }
      ]
    },
    {
      "cell_type": "code",
      "metadata": {
        "colab": {
          "base_uri": "https://localhost:8080/"
        },
        "id": "Wmuy5wwUfCxm",
        "outputId": "6e49acce-65de-49b6-f6d0-a31205cae8f9"
      },
      "source": [
        "video_count"
      ],
      "execution_count": 56,
      "outputs": [
        {
          "output_type": "execute_result",
          "data": {
            "text/plain": [
              "Entertainment            31060\n",
              "Music                    13573\n",
              "People & Blogs           11146\n",
              "Comedy                   11039\n",
              "News & Politics           9115\n",
              "Sports                    8468\n",
              "Howto & Style             8209\n",
              "Film & Animation          6029\n",
              "Science & Technology      4182\n",
              "Gaming                    3333\n",
              "Education                 3283\n",
              "Pets & Animals            1468\n",
              "Autos & Vehicles          1314\n",
              "Travel & Events            844\n",
              "Shows                      265\n",
              "Nonprofits & Activism      232\n",
              "Movies                      11\n",
              "Trailers                     2\n",
              "Name: category, dtype: int64"
            ]
          },
          "metadata": {},
          "execution_count": 56
        }
      ]
    },
    {
      "cell_type": "code",
      "metadata": {
        "id": "PJxiLgVnfQEb"
      },
      "source": [
        "# Storing the length of the title and the description in separat columns as a string value\n",
        "combined_data['len_title'] = combined_data['title'].str.len()\n",
        "combined_data['desc_len'] = combined_data['description'].str.len()\n",
        "\n",
        "\n",
        "tags_count = combined_data['tags'].str.split('|')\n",
        "combined_data['num_tags'] = combined_data['tags'].str.len()"
      ],
      "execution_count": 34,
      "outputs": []
    },
    {
      "cell_type": "code",
      "metadata": {
        "colab": {
          "base_uri": "https://localhost:8080/"
        },
        "id": "7igLdhskfV33",
        "outputId": "9677bb0f-1186-4d12-c89a-a7b930e1eccf"
      },
      "source": [
        "combined_data['num_tags']"
      ],
      "execution_count": 58,
      "outputs": [
        {
          "output_type": "execute_result",
          "data": {
            "text/plain": [
              "0         61\n",
              "1        121\n",
              "2        314\n",
              "3        120\n",
              "4        103\n",
              "        ... \n",
              "40876    408\n",
              "40877    396\n",
              "40878    542\n",
              "40879    223\n",
              "40880      6\n",
              "Name: num_tags, Length: 113573, dtype: int64"
            ]
          },
          "metadata": {},
          "execution_count": 58
        }
      ]
    },
    {
      "cell_type": "code",
      "metadata": {
        "colab": {
          "base_uri": "https://localhost:8080/"
        },
        "id": "3JZr1qo3frQF",
        "outputId": "4da832aa-c82a-438a-c74b-073296d90215"
      },
      "source": [
        "print('check_tags_title_description',([combined_data['num_tags'].describe(),combined_data['desc_len'].describe(),combined_data['len_title'].describe()]))"
      ],
      "execution_count": 59,
      "outputs": [
        {
          "output_type": "stream",
          "name": "stdout",
          "text": [
            "check_tags_title_description [count    113573.000000\n",
            "mean        256.975170\n",
            "std         170.732195\n",
            "min           2.000000\n",
            "25%         104.000000\n",
            "50%         233.000000\n",
            "75%         422.000000\n",
            "max         730.000000\n",
            "Name: num_tags, dtype: float64, count    113573.000000\n",
            "mean        967.883731\n",
            "std         868.051020\n",
            "min           1.000000\n",
            "25%         360.000000\n",
            "50%         726.000000\n",
            "75%        1298.000000\n",
            "max        5260.000000\n",
            "Name: desc_len, dtype: float64, count    113573.000000\n",
            "mean         51.860319\n",
            "std          21.235022\n",
            "min           2.000000\n",
            "25%          36.000000\n",
            "50%          49.000000\n",
            "75%          66.000000\n",
            "max         100.000000\n",
            "Name: len_title, dtype: float64]\n"
          ]
        }
      ]
    },
    {
      "cell_type": "code",
      "metadata": {
        "id": "ttFSb1tyfvA9"
      },
      "source": [
        "#converting the publsh_time and publish_date to pandas datetime format\n",
        "combined_data['publsh_time'] = pd.to_datetime(combined_data['publish_time']).dt.time\n",
        "combined_data['publish_date'] = pd.to_datetime(combined_data['publish_time']).dt.date"
      ],
      "execution_count": 75,
      "outputs": []
    },
    {
      "cell_type": "code",
      "metadata": {
        "id": "BZOIfOHxYOKN",
        "colab": {
          "base_uri": "https://localhost:8080/"
        },
        "outputId": "a281022a-01df-49b5-d534-7c273d525b38"
      },
      "source": [
        "combined_data.dtypes"
      ],
      "execution_count": 71,
      "outputs": [
        {
          "output_type": "execute_result",
          "data": {
            "text/plain": [
              "video_id                   object\n",
              "trending_date               int64\n",
              "title                      object\n",
              "channel_title               int64\n",
              "category_id                object\n",
              "publish_time               object\n",
              "tags                       object\n",
              "views                       int64\n",
              "likes                       int64\n",
              "dislikes                    int64\n",
              "comment_count               int64\n",
              "thumbnail_link             object\n",
              "comments_disabled            bool\n",
              "ratings_disabled             bool\n",
              "video_error_or_removed       bool\n",
              "description                 int64\n",
              "Country                     int64\n",
              "views_log                 float64\n",
              "likes_log                 float64\n",
              "dislikes_log              float64\n",
              "comment_log               float64\n",
              "len_title                   int64\n",
              "desc_len                    int64\n",
              "num_tags                    int64\n",
              "publsh_time                object\n",
              "publish_date               object\n",
              "dtype: object"
            ]
          },
          "metadata": {},
          "execution_count": 71
        }
      ]
    },
    {
      "cell_type": "code",
      "metadata": {
        "colab": {
          "base_uri": "https://localhost:8080/",
          "height": 949
        },
        "id": "WBswdfQygDnn",
        "outputId": "a00bc07c-373e-4621-856f-d2956a1cff79"
      },
      "source": [
        "combined_data"
      ],
      "execution_count": 63,
      "outputs": [
        {
          "output_type": "execute_result",
          "data": {
            "text/html": [
              "<div>\n",
              "<style scoped>\n",
              "    .dataframe tbody tr th:only-of-type {\n",
              "        vertical-align: middle;\n",
              "    }\n",
              "\n",
              "    .dataframe tbody tr th {\n",
              "        vertical-align: top;\n",
              "    }\n",
              "\n",
              "    .dataframe thead th {\n",
              "        text-align: right;\n",
              "    }\n",
              "</style>\n",
              "<table border=\"1\" class=\"dataframe\">\n",
              "  <thead>\n",
              "    <tr style=\"text-align: right;\">\n",
              "      <th></th>\n",
              "      <th>video_id</th>\n",
              "      <th>trending_date</th>\n",
              "      <th>title</th>\n",
              "      <th>channel_title</th>\n",
              "      <th>category</th>\n",
              "      <th>category_id</th>\n",
              "      <th>publish_time</th>\n",
              "      <th>tags</th>\n",
              "      <th>views</th>\n",
              "      <th>likes</th>\n",
              "      <th>dislikes</th>\n",
              "      <th>comment_count</th>\n",
              "      <th>thumbnail_link</th>\n",
              "      <th>comments_disabled</th>\n",
              "      <th>ratings_disabled</th>\n",
              "      <th>video_error_or_removed</th>\n",
              "      <th>description</th>\n",
              "      <th>Country</th>\n",
              "      <th>views_log</th>\n",
              "      <th>likes_log</th>\n",
              "      <th>dislikes_log</th>\n",
              "      <th>comment_log</th>\n",
              "      <th>len_title</th>\n",
              "      <th>desc_len</th>\n",
              "      <th>num_tags</th>\n",
              "      <th>publsh_time</th>\n",
              "      <th>publish_date</th>\n",
              "    </tr>\n",
              "  </thead>\n",
              "  <tbody>\n",
              "    <tr>\n",
              "      <th>0</th>\n",
              "      <td>n1WpP7iowLc</td>\n",
              "      <td>17.14.11</td>\n",
              "      <td>Eminem - Walk On Water (Audio) ft. Beyoncé</td>\n",
              "      <td>EminemVEVO</td>\n",
              "      <td>Music</td>\n",
              "      <td>10</td>\n",
              "      <td>2017-11-10 17:00:03+00:00</td>\n",
              "      <td>Eminem|\"Walk\"|\"On\"|\"Water\"|\"Aftermath/Shady/In...</td>\n",
              "      <td>17158580</td>\n",
              "      <td>787426</td>\n",
              "      <td>43421</td>\n",
              "      <td>125883</td>\n",
              "      <td>https://i.ytimg.com/vi/n1WpP7iowLc/default.jpg</td>\n",
              "      <td>False</td>\n",
              "      <td>False</td>\n",
              "      <td>False</td>\n",
              "      <td>Eminem's new track Walk on Water ft. Beyoncé i...</td>\n",
              "      <td>Canada</td>\n",
              "      <td>16.658009</td>\n",
              "      <td>13.576525</td>\n",
              "      <td>10.678698</td>\n",
              "      <td>11.743108</td>\n",
              "      <td>42</td>\n",
              "      <td>594</td>\n",
              "      <td>61</td>\n",
              "      <td>17:00:03</td>\n",
              "      <td>2017-11-10</td>\n",
              "    </tr>\n",
              "    <tr>\n",
              "      <th>1</th>\n",
              "      <td>0dBIkQ4Mz1M</td>\n",
              "      <td>17.14.11</td>\n",
              "      <td>PLUSH - Bad Unboxing Fan Mail</td>\n",
              "      <td>iDubbbzTV</td>\n",
              "      <td>Comedy</td>\n",
              "      <td>23</td>\n",
              "      <td>2017-11-13 17:00:00+00:00</td>\n",
              "      <td>plush|\"bad unboxing\"|\"unboxing\"|\"fan mail\"|\"id...</td>\n",
              "      <td>1014652</td>\n",
              "      <td>127795</td>\n",
              "      <td>1689</td>\n",
              "      <td>13031</td>\n",
              "      <td>https://i.ytimg.com/vi/0dBIkQ4Mz1M/default.jpg</td>\n",
              "      <td>False</td>\n",
              "      <td>False</td>\n",
              "      <td>False</td>\n",
              "      <td>STill got a lot of packages. Probably will las...</td>\n",
              "      <td>Canada</td>\n",
              "      <td>13.830056</td>\n",
              "      <td>11.758183</td>\n",
              "      <td>7.431892</td>\n",
              "      <td>9.475086</td>\n",
              "      <td>29</td>\n",
              "      <td>704</td>\n",
              "      <td>121</td>\n",
              "      <td>17:00:00</td>\n",
              "      <td>2017-11-13</td>\n",
              "    </tr>\n",
              "    <tr>\n",
              "      <th>2</th>\n",
              "      <td>5qpjK5DgCt4</td>\n",
              "      <td>17.14.11</td>\n",
              "      <td>Racist Superman | Rudy Mancuso, King Bach &amp; Le...</td>\n",
              "      <td>Rudy Mancuso</td>\n",
              "      <td>Comedy</td>\n",
              "      <td>23</td>\n",
              "      <td>2017-11-12 19:05:24+00:00</td>\n",
              "      <td>racist superman|\"rudy\"|\"mancuso\"|\"king\"|\"bach\"...</td>\n",
              "      <td>3191435</td>\n",
              "      <td>146036</td>\n",
              "      <td>5340</td>\n",
              "      <td>8182</td>\n",
              "      <td>https://i.ytimg.com/vi/5qpjK5DgCt4/default.jpg</td>\n",
              "      <td>False</td>\n",
              "      <td>False</td>\n",
              "      <td>False</td>\n",
              "      <td>WATCH MY PREVIOUS VIDEO ▶ \\n\\nSUBSCRIBE ► http...</td>\n",
              "      <td>Canada</td>\n",
              "      <td>14.975981</td>\n",
              "      <td>11.891608</td>\n",
              "      <td>8.582981</td>\n",
              "      <td>9.009692</td>\n",
              "      <td>53</td>\n",
              "      <td>1177</td>\n",
              "      <td>314</td>\n",
              "      <td>19:05:24</td>\n",
              "      <td>2017-11-12</td>\n",
              "    </tr>\n",
              "    <tr>\n",
              "      <th>3</th>\n",
              "      <td>d380meD0W0M</td>\n",
              "      <td>17.14.11</td>\n",
              "      <td>I Dare You: GOING BALD!?</td>\n",
              "      <td>nigahiga</td>\n",
              "      <td>Entertainment</td>\n",
              "      <td>24</td>\n",
              "      <td>2017-11-12 18:01:41+00:00</td>\n",
              "      <td>ryan|\"higa\"|\"higatv\"|\"nigahiga\"|\"i dare you\"|\"...</td>\n",
              "      <td>2095829</td>\n",
              "      <td>132240</td>\n",
              "      <td>1990</td>\n",
              "      <td>17519</td>\n",
              "      <td>https://i.ytimg.com/vi/d380meD0W0M/default.jpg</td>\n",
              "      <td>False</td>\n",
              "      <td>False</td>\n",
              "      <td>False</td>\n",
              "      <td>I know it's been a while since we did this sho...</td>\n",
              "      <td>Canada</td>\n",
              "      <td>14.555460</td>\n",
              "      <td>11.792374</td>\n",
              "      <td>7.595890</td>\n",
              "      <td>9.771041</td>\n",
              "      <td>24</td>\n",
              "      <td>636</td>\n",
              "      <td>120</td>\n",
              "      <td>18:01:41</td>\n",
              "      <td>2017-11-12</td>\n",
              "    </tr>\n",
              "    <tr>\n",
              "      <th>4</th>\n",
              "      <td>2Vv-BfVoq4g</td>\n",
              "      <td>17.14.11</td>\n",
              "      <td>Ed Sheeran - Perfect (Official Music Video)</td>\n",
              "      <td>Ed Sheeran</td>\n",
              "      <td>Music</td>\n",
              "      <td>10</td>\n",
              "      <td>2017-11-09 11:04:14+00:00</td>\n",
              "      <td>edsheeran|\"ed sheeran\"|\"acoustic\"|\"live\"|\"cove...</td>\n",
              "      <td>33523623</td>\n",
              "      <td>1634131</td>\n",
              "      <td>21083</td>\n",
              "      <td>85068</td>\n",
              "      <td>https://i.ytimg.com/vi/2Vv-BfVoq4g/default.jpg</td>\n",
              "      <td>False</td>\n",
              "      <td>False</td>\n",
              "      <td>False</td>\n",
              "      <td>🎧: https://ad.gt/yt-perfect\\n💰: https://atlant...</td>\n",
              "      <td>Canada</td>\n",
              "      <td>17.327761</td>\n",
              "      <td>14.306622</td>\n",
              "      <td>9.956222</td>\n",
              "      <td>11.351206</td>\n",
              "      <td>43</td>\n",
              "      <td>1250</td>\n",
              "      <td>103</td>\n",
              "      <td>11:04:14</td>\n",
              "      <td>2017-11-09</td>\n",
              "    </tr>\n",
              "    <tr>\n",
              "      <th>...</th>\n",
              "      <td>...</td>\n",
              "      <td>...</td>\n",
              "      <td>...</td>\n",
              "      <td>...</td>\n",
              "      <td>...</td>\n",
              "      <td>...</td>\n",
              "      <td>...</td>\n",
              "      <td>...</td>\n",
              "      <td>...</td>\n",
              "      <td>...</td>\n",
              "      <td>...</td>\n",
              "      <td>...</td>\n",
              "      <td>...</td>\n",
              "      <td>...</td>\n",
              "      <td>...</td>\n",
              "      <td>...</td>\n",
              "      <td>...</td>\n",
              "      <td>...</td>\n",
              "      <td>...</td>\n",
              "      <td>...</td>\n",
              "      <td>...</td>\n",
              "      <td>...</td>\n",
              "      <td>...</td>\n",
              "      <td>...</td>\n",
              "      <td>...</td>\n",
              "      <td>...</td>\n",
              "      <td>...</td>\n",
              "    </tr>\n",
              "    <tr>\n",
              "      <th>40876</th>\n",
              "      <td>Tn8hOPeAnIM</td>\n",
              "      <td>18.14.06</td>\n",
              "      <td>Erika Costell - Chitty Bang ft. Jake Paul (Off...</td>\n",
              "      <td>Erika Costell</td>\n",
              "      <td>People &amp; Blogs</td>\n",
              "      <td>22</td>\n",
              "      <td>2018-05-29 21:00:01+00:00</td>\n",
              "      <td>erika costell|\"team 10\"|\"erika team 10\"|\"erika...</td>\n",
              "      <td>7854613</td>\n",
              "      <td>185633</td>\n",
              "      <td>104832</td>\n",
              "      <td>52365</td>\n",
              "      <td>https://i.ytimg.com/vi/Tn8hOPeAnIM/default.jpg</td>\n",
              "      <td>False</td>\n",
              "      <td>False</td>\n",
              "      <td>False</td>\n",
              "      <td>The official music video for Chitty Bang! List...</td>\n",
              "      <td>US</td>\n",
              "      <td>15.876612</td>\n",
              "      <td>12.131527</td>\n",
              "      <td>11.560114</td>\n",
              "      <td>10.865994</td>\n",
              "      <td>64</td>\n",
              "      <td>823</td>\n",
              "      <td>408</td>\n",
              "      <td>21:00:01</td>\n",
              "      <td>2018-05-29</td>\n",
              "    </tr>\n",
              "    <tr>\n",
              "      <th>40877</th>\n",
              "      <td>nLXCutcsoKQ</td>\n",
              "      <td>18.14.06</td>\n",
              "      <td>'Roseanne' Cast and Crew React to Cancellation...</td>\n",
              "      <td>Entertainment Tonight</td>\n",
              "      <td>Entertainment</td>\n",
              "      <td>24</td>\n",
              "      <td>2018-05-30 03:13:23+00:00</td>\n",
              "      <td>sara gilbert|\"roseanne\"|\"et\"|\"etonline\"|\"rosea...</td>\n",
              "      <td>1071031</td>\n",
              "      <td>4620</td>\n",
              "      <td>1839</td>\n",
              "      <td>7388</td>\n",
              "      <td>https://i.ytimg.com/vi/nLXCutcsoKQ/default.jpg</td>\n",
              "      <td>False</td>\n",
              "      <td>False</td>\n",
              "      <td>False</td>\n",
              "      <td>Sara Gilbert tweeted her thoughts before ABC a...</td>\n",
              "      <td>US</td>\n",
              "      <td>13.884132</td>\n",
              "      <td>8.438150</td>\n",
              "      <td>7.516977</td>\n",
              "      <td>8.907612</td>\n",
              "      <td>51</td>\n",
              "      <td>149</td>\n",
              "      <td>396</td>\n",
              "      <td>03:13:23</td>\n",
              "      <td>2018-05-30</td>\n",
              "    </tr>\n",
              "    <tr>\n",
              "      <th>40878</th>\n",
              "      <td>tsM6kq-7nmw</td>\n",
              "      <td>18.14.06</td>\n",
              "      <td>Does LeBron need a 4th title to pass Jordan as...</td>\n",
              "      <td>Skip and Shannon: UNDISPUTED</td>\n",
              "      <td>Sports</td>\n",
              "      <td>17</td>\n",
              "      <td>2018-05-30 17:01:39+00:00</td>\n",
              "      <td>fox|\"fox sports\"|\"fs1\"|\"fox sports 1\"|\"undispu...</td>\n",
              "      <td>787518</td>\n",
              "      <td>6421</td>\n",
              "      <td>1941</td>\n",
              "      <td>8125</td>\n",
              "      <td>https://i.ytimg.com/vi/tsM6kq-7nmw/default.jpg</td>\n",
              "      <td>False</td>\n",
              "      <td>False</td>\n",
              "      <td>False</td>\n",
              "      <td>Rob Parker joins Skip Bayless, Shannon Sharpe ...</td>\n",
              "      <td>US</td>\n",
              "      <td>13.576642</td>\n",
              "      <td>8.767329</td>\n",
              "      <td>7.570959</td>\n",
              "      <td>9.002701</td>\n",
              "      <td>75</td>\n",
              "      <td>1759</td>\n",
              "      <td>542</td>\n",
              "      <td>17:01:39</td>\n",
              "      <td>2018-05-30</td>\n",
              "    </tr>\n",
              "    <tr>\n",
              "      <th>40879</th>\n",
              "      <td>bR1d8l92Q8Q</td>\n",
              "      <td>18.14.06</td>\n",
              "      <td>Maggie Rogers - Fallingwater</td>\n",
              "      <td>MaggieRogersVEVO</td>\n",
              "      <td>Music</td>\n",
              "      <td>10</td>\n",
              "      <td>2018-05-30 13:00:03+00:00</td>\n",
              "      <td>maggie rogers fallingwater|\"fallingwater maggi...</td>\n",
              "      <td>483083</td>\n",
              "      <td>12661</td>\n",
              "      <td>327</td>\n",
              "      <td>727</td>\n",
              "      <td>https://i.ytimg.com/vi/bR1d8l92Q8Q/default.jpg</td>\n",
              "      <td>False</td>\n",
              "      <td>False</td>\n",
              "      <td>False</td>\n",
              "      <td>Download or stream ‘Fallingwater’ by Maggie Ro...</td>\n",
              "      <td>US</td>\n",
              "      <td>13.087944</td>\n",
              "      <td>9.446282</td>\n",
              "      <td>5.789960</td>\n",
              "      <td>6.588926</td>\n",
              "      <td>28</td>\n",
              "      <td>1615</td>\n",
              "      <td>223</td>\n",
              "      <td>13:00:03</td>\n",
              "      <td>2018-05-30</td>\n",
              "    </tr>\n",
              "    <tr>\n",
              "      <th>40880</th>\n",
              "      <td>E4c7EE8_IX0</td>\n",
              "      <td>18.14.06</td>\n",
              "      <td>Weezer - Africa</td>\n",
              "      <td>weezer</td>\n",
              "      <td>Music</td>\n",
              "      <td>10</td>\n",
              "      <td>2018-05-29 12:00:11+00:00</td>\n",
              "      <td>[none]</td>\n",
              "      <td>4682558</td>\n",
              "      <td>115241</td>\n",
              "      <td>5070</td>\n",
              "      <td>9171</td>\n",
              "      <td>https://i.ytimg.com/vi/E4c7EE8_IX0/default.jpg</td>\n",
              "      <td>False</td>\n",
              "      <td>False</td>\n",
              "      <td>False</td>\n",
              "      <td>Stream + download the song: http://fanlink.to/...</td>\n",
              "      <td>US</td>\n",
              "      <td>15.359355</td>\n",
              "      <td>11.654781</td>\n",
              "      <td>8.531096</td>\n",
              "      <td>9.123802</td>\n",
              "      <td>15</td>\n",
              "      <td>328</td>\n",
              "      <td>6</td>\n",
              "      <td>12:00:11</td>\n",
              "      <td>2018-05-29</td>\n",
              "    </tr>\n",
              "  </tbody>\n",
              "</table>\n",
              "<p>113573 rows × 27 columns</p>\n",
              "</div>"
            ],
            "text/plain": [
              "          video_id trending_date  ... publsh_time publish_date\n",
              "0      n1WpP7iowLc      17.14.11  ...    17:00:03   2017-11-10\n",
              "1      0dBIkQ4Mz1M      17.14.11  ...    17:00:00   2017-11-13\n",
              "2      5qpjK5DgCt4      17.14.11  ...    19:05:24   2017-11-12\n",
              "3      d380meD0W0M      17.14.11  ...    18:01:41   2017-11-12\n",
              "4      2Vv-BfVoq4g      17.14.11  ...    11:04:14   2017-11-09\n",
              "...            ...           ...  ...         ...          ...\n",
              "40876  Tn8hOPeAnIM      18.14.06  ...    21:00:01   2018-05-29\n",
              "40877  nLXCutcsoKQ      18.14.06  ...    03:13:23   2018-05-30\n",
              "40878  tsM6kq-7nmw      18.14.06  ...    17:01:39   2018-05-30\n",
              "40879  bR1d8l92Q8Q      18.14.06  ...    13:00:03   2018-05-30\n",
              "40880  E4c7EE8_IX0      18.14.06  ...    12:00:11   2018-05-29\n",
              "\n",
              "[113573 rows x 27 columns]"
            ]
          },
          "metadata": {},
          "execution_count": 63
        }
      ]
    },
    {
      "cell_type": "code",
      "metadata": {
        "id": "7aD3LvtnYODx"
      },
      "source": [
        "combined_data['publish_weekday']= pd.to_datetime(combined_data['publish_time']).dt.dayofweek"
      ],
      "execution_count": 77,
      "outputs": []
    },
    {
      "cell_type": "code",
      "metadata": {
        "colab": {
          "base_uri": "https://localhost:8080/"
        },
        "id": "YLpcSByQgKiO",
        "outputId": "305fdd66-20e3-4387-db42-dd94b149c0f6"
      },
      "source": [
        "#Identifying the publish_weekday value count and storing it in video_weekday\n",
        "video_weekday = combined_data['publish_weekday'].value_counts()\n",
        "video_weekday"
      ],
      "execution_count": 66,
      "outputs": [
        {
          "output_type": "execute_result",
          "data": {
            "text/plain": [
              "4    19516\n",
              "3    17458\n",
              "2    16857\n",
              "1    16686\n",
              "0    16182\n",
              "6    14006\n",
              "5    12868\n",
              "Name: publish_weekday, dtype: int64"
            ]
          },
          "metadata": {},
          "execution_count": 66
        }
      ]
    },
    {
      "cell_type": "code",
      "metadata": {
        "colab": {
          "base_uri": "https://localhost:8080/",
          "height": 330
        },
        "id": "PmJdur-ZgUxF",
        "outputId": "fa11a24a-986e-4db5-e541-8bfffaadab6d"
      },
      "source": [
        "# Scatter plot to show the videos and which day of the week it was published\n",
        "video_day = combined_data.plot(kind='scatter',x = 'video_id', y = 'publish_weekday')\n",
        "plt.xscale(\"log\")\n",
        "plt.show()"
      ],
      "execution_count": 67,
      "outputs": [
        {
          "output_type": "stream",
          "name": "stderr",
          "text": [
            "*c* argument looks like a single numeric RGB or RGBA sequence, which should be avoided as value-mapping will have precedence in case its length matches with *x* & *y*.  Please use the *color* keyword-argument or provide a 2-D array with a single row if you intend to specify the same RGB or RGBA value for all points.\n"
          ]
        },
        {
          "output_type": "display_data",
          "data": {
            "image/png": "[encoded data removed]",
            "text/plain": [
              "<Figure size 432x288 with 1 Axes>"
            ]
          },
          "metadata": {}
        }
      ]
    },
    {
      "cell_type": "code",
      "metadata": {
        "id": "mxFnyvkYiOXG"
      },
      "source": [
        "# Converting the columns to category type\n",
        "combined_data.publish_weekday = combined_data.publish_weekday.astype('category')\n",
        "combined_data.Country = combined_data.Country.astype('category')"
      ],
      "execution_count": 68,
      "outputs": []
    },
    {
      "cell_type": "code",
      "metadata": {
        "colab": {
          "base_uri": "https://localhost:8080/",
          "height": 419
        },
        "id": "M6wEzaw5iZa1",
        "outputId": "3fa48695-f9c8-4fad-d428-159407e57020"
      },
      "source": [
        "pd.get_dummies(combined_data.Country)"
      ],
      "execution_count": 70,
      "outputs": [
        {
          "output_type": "execute_result",
          "data": {
            "text/html": [
              "<div>\n",
              "<style scoped>\n",
              "    .dataframe tbody tr th:only-of-type {\n",
              "        vertical-align: middle;\n",
              "    }\n",
              "\n",
              "    .dataframe tbody tr th {\n",
              "        vertical-align: top;\n",
              "    }\n",
              "\n",
              "    .dataframe thead th {\n",
              "        text-align: right;\n",
              "    }\n",
              "</style>\n",
              "<table border=\"1\" class=\"dataframe\">\n",
              "  <thead>\n",
              "    <tr style=\"text-align: right;\">\n",
              "      <th></th>\n",
              "      <th>Canada</th>\n",
              "      <th>France</th>\n",
              "      <th>US</th>\n",
              "    </tr>\n",
              "  </thead>\n",
              "  <tbody>\n",
              "    <tr>\n",
              "      <th>0</th>\n",
              "      <td>1</td>\n",
              "      <td>0</td>\n",
              "      <td>0</td>\n",
              "    </tr>\n",
              "    <tr>\n",
              "      <th>1</th>\n",
              "      <td>1</td>\n",
              "      <td>0</td>\n",
              "      <td>0</td>\n",
              "    </tr>\n",
              "    <tr>\n",
              "      <th>2</th>\n",
              "      <td>1</td>\n",
              "      <td>0</td>\n",
              "      <td>0</td>\n",
              "    </tr>\n",
              "    <tr>\n",
              "      <th>3</th>\n",
              "      <td>1</td>\n",
              "      <td>0</td>\n",
              "      <td>0</td>\n",
              "    </tr>\n",
              "    <tr>\n",
              "      <th>4</th>\n",
              "      <td>1</td>\n",
              "      <td>0</td>\n",
              "      <td>0</td>\n",
              "    </tr>\n",
              "    <tr>\n",
              "      <th>...</th>\n",
              "      <td>...</td>\n",
              "      <td>...</td>\n",
              "      <td>...</td>\n",
              "    </tr>\n",
              "    <tr>\n",
              "      <th>40876</th>\n",
              "      <td>0</td>\n",
              "      <td>0</td>\n",
              "      <td>1</td>\n",
              "    </tr>\n",
              "    <tr>\n",
              "      <th>40877</th>\n",
              "      <td>0</td>\n",
              "      <td>0</td>\n",
              "      <td>1</td>\n",
              "    </tr>\n",
              "    <tr>\n",
              "      <th>40878</th>\n",
              "      <td>0</td>\n",
              "      <td>0</td>\n",
              "      <td>1</td>\n",
              "    </tr>\n",
              "    <tr>\n",
              "      <th>40879</th>\n",
              "      <td>0</td>\n",
              "      <td>0</td>\n",
              "      <td>1</td>\n",
              "    </tr>\n",
              "    <tr>\n",
              "      <th>40880</th>\n",
              "      <td>0</td>\n",
              "      <td>0</td>\n",
              "      <td>1</td>\n",
              "    </tr>\n",
              "  </tbody>\n",
              "</table>\n",
              "<p>113573 rows × 3 columns</p>\n",
              "</div>"
            ],
            "text/plain": [
              "       Canada  France  US\n",
              "0           1       0   0\n",
              "1           1       0   0\n",
              "2           1       0   0\n",
              "3           1       0   0\n",
              "4           1       0   0\n",
              "...       ...     ...  ..\n",
              "40876       0       0   1\n",
              "40877       0       0   1\n",
              "40878       0       0   1\n",
              "40879       0       0   1\n",
              "40880       0       0   1\n",
              "\n",
              "[113573 rows x 3 columns]"
            ]
          },
          "metadata": {},
          "execution_count": 70
        }
      ]
    },
    {
      "cell_type": "code",
      "metadata": {
        "id": "TYdD46R4YNkv"
      },
      "source": [
        "#deleting a few columns \n",
        "del combined_data['title']\n",
        "del combined_data['views']\n",
        "del combined_data['likes']\n",
        "del combined_data['dislikes']\n",
        "del combined_data['thumbnail_link']\n",
        "del combined_data['comment_count']\n",
        "del combined_data['tags']\n",
        "del combined_data['publish_time']"
      ],
      "execution_count": 71,
      "outputs": []
    },
    {
      "cell_type": "code",
      "metadata": {
        "id": "st-9IDZWYNhk"
      },
      "source": [
        "one_hot_encoded = pd.get_dummies(combined_data, columns = ['Country'])\n",
        "one_hotencoded = pd.get_dummies(combined_data, columns = ['channel_title'])"
      ],
      "execution_count": 72,
      "outputs": []
    },
    {
      "cell_type": "code",
      "metadata": {
        "id": "Nz-34WHrYNdU",
        "colab": {
          "base_uri": "https://localhost:8080/"
        },
        "outputId": "bd1f40c9-6d23-47a9-c328-787e5e2bcfab"
      },
      "source": [
        "# Using label encoder, converting the values of the columns into numeric values\n",
        "cat_country = combined_data['Country']\n",
        "values = array(cat_country)\n",
        "print(cat_country)\n",
        "label_encoder = LabelEncoder()\n",
        "combined_data['Country']=label_encoder.fit_transform(values)\n",
        "print(combined_data['Country'])"
      ],
      "execution_count": 78,
      "outputs": [
        {
          "output_type": "stream",
          "name": "stdout",
          "text": [
            "0        2\n",
            "1        2\n",
            "2        2\n",
            "3        2\n",
            "4        2\n",
            "        ..\n",
            "40943    3\n",
            "40944    3\n",
            "40946    3\n",
            "40947    3\n",
            "40948    3\n",
            "Name: Country, Length: 154567, dtype: int64\n",
            "0        2\n",
            "1        2\n",
            "2        2\n",
            "3        2\n",
            "4        2\n",
            "        ..\n",
            "40943    3\n",
            "40944    3\n",
            "40946    3\n",
            "40947    3\n",
            "40948    3\n",
            "Name: Country, Length: 154567, dtype: int64\n"
          ]
        }
      ]
    },
    {
      "cell_type": "code",
      "metadata": {
        "id": "EmYbx3AJYMjt",
        "colab": {
          "base_uri": "https://localhost:8080/"
        },
        "outputId": "cb49f643-13e7-422d-a7df-c15702646ac9"
      },
      "source": [
        "cat_trending_date = combined_data['trending_date']\n",
        "values = array(cat_trending_date)\n",
        "print(cat_trending_date)\n",
        "label_encoder = LabelEncoder()\n",
        "combined_data['trending_date'] =label_encoder.fit_transform(values)\n",
        "print(combined_data['trending_date'])"
      ],
      "execution_count": 79,
      "outputs": [
        {
          "output_type": "stream",
          "name": "stdout",
          "text": [
            "0         13\n",
            "1         13\n",
            "2         13\n",
            "3         13\n",
            "4         13\n",
            "        ... \n",
            "40943    123\n",
            "40944    123\n",
            "40946    123\n",
            "40947    123\n",
            "40948    123\n",
            "Name: trending_date, Length: 154567, dtype: int64\n",
            "0         13\n",
            "1         13\n",
            "2         13\n",
            "3         13\n",
            "4         13\n",
            "        ... \n",
            "40943    123\n",
            "40944    123\n",
            "40946    123\n",
            "40947    123\n",
            "40948    123\n",
            "Name: trending_date, Length: 154567, dtype: int64\n"
          ]
        }
      ]
    },
    {
      "cell_type": "code",
      "metadata": {
        "id": "KCNdG2EnYMf0",
        "colab": {
          "base_uri": "https://localhost:8080/"
        },
        "outputId": "039237bd-4726-4622-bb63-fe5fb6abeeb2"
      },
      "source": [
        "cat_channel_title = combined_data['channel_title']\n",
        "values = array(cat_trending_date)\n",
        "print(cat_channel_title)\n",
        "label_encoder = LabelEncoder()\n",
        "combined_data['channel_title'] =label_encoder.fit_transform(values)\n",
        "print(combined_data['channel_title'])"
      ],
      "execution_count": 64,
      "outputs": [
        {
          "output_type": "stream",
          "name": "stdout",
          "text": [
            "0                 Lokdhun Punjabi\n",
            "1                         HJ NEWS\n",
            "2                            TFPC\n",
            "3                     Eruma Saani\n",
            "4                      Filmylooks\n",
            "                   ...           \n",
            "40943              BuzzFeed Celeb\n",
            "40944               AaronsAnimals\n",
            "40946                  Brad Mondo\n",
            "40947    How It Should Have Ended\n",
            "40948                Call of Duty\n",
            "Name: channel_title, Length: 154567, dtype: object\n",
            "0         13\n",
            "1         13\n",
            "2         13\n",
            "3         13\n",
            "4         13\n",
            "        ... \n",
            "40943    123\n",
            "40944    123\n",
            "40946    123\n",
            "40947    123\n",
            "40948    123\n",
            "Name: channel_title, Length: 154567, dtype: int64\n"
          ]
        }
      ]
    },
    {
      "cell_type": "code",
      "metadata": {
        "id": "d9u0klZ2YKSx",
        "colab": {
          "base_uri": "https://localhost:8080/"
        },
        "outputId": "5d1e89e2-adb8-40c7-8848-d888fdcb6877"
      },
      "source": [
        "cat_description = combined_data['description']\n",
        "values = array(cat_description)\n",
        "print(cat_description)\n",
        "label_encoder = LabelEncoder()\n",
        "combined_data['description'] =label_encoder.fit_transform(values)\n",
        "print(combined_data['description'])"
      ],
      "execution_count": 65,
      "outputs": [
        {
          "output_type": "stream",
          "name": "stdout",
          "text": [
            "0        Presenting Sharry Mann latest Punjabi Song  Cu...\n",
            "1        पीरियड्स के समय, पेट पर पति करता ऐसा, देखकर दं...\n",
            "2        Watch Stylish Star Allu Arjun @ ChaySam Weddin...\n",
            "3        This video showcases the difference between pe...\n",
            "4        why Samantha became EMOTIONAL @ Samantha naga ...\n",
            "                               ...                        \n",
            "40943    BTS with the PPS, the puppies. These adorable ...\n",
            "40944       The Cat Who Caught the Laser - Aaron's Animals\n",
            "40946    I had so much fun transforming Safiyas hair in...\n",
            "40947    How Black Panther Should Have EndedWatch More ...\n",
            "40948    Call of Duty: Black Ops 4 Multiplayer raises t...\n",
            "Name: description, Length: 154567, dtype: object\n",
            "0        34244\n",
            "1        56113\n",
            "2        49390\n",
            "3        44542\n",
            "4        53318\n",
            "         ...  \n",
            "40943     6426\n",
            "40944    42604\n",
            "40946    19452\n",
            "40947    19063\n",
            "40948     8639\n",
            "Name: description, Length: 154567, dtype: int64\n"
          ]
        }
      ]
    },
    {
      "cell_type": "code",
      "metadata": {
        "id": "R3n6tZnZYKP1",
        "colab": {
          "base_uri": "https://localhost:8080/"
        },
        "outputId": "5b7e852e-2d62-4f96-a04b-f50bd633ba4d"
      },
      "source": [
        "cat_publsh_time = combined_data['publsh_time']\n",
        "values = array(cat_publsh_time)\n",
        "print(cat_publsh_time)\n",
        "label_encoder = LabelEncoder()\n",
        "combined_data['publsh_time'] =label_encoder.fit_transform(values)\n",
        "print(combined_data['publsh_time'])"
      ],
      "execution_count": 80,
      "outputs": [
        {
          "output_type": "stream",
          "name": "stdout",
          "text": [
            "0        12:20:39\n",
            "1        05:43:56\n",
            "2        15:48:08\n",
            "3        07:08:48\n",
            "4        01:14:16\n",
            "           ...   \n",
            "40943    16:39:29\n",
            "40944    13:00:04\n",
            "40946    17:34:22\n",
            "40947    17:00:04\n",
            "40948    17:09:38\n",
            "Name: publsh_time, Length: 154567, dtype: object\n",
            "0        14777\n",
            "1         6236\n",
            "2        21049\n",
            "3         7790\n",
            "4         1298\n",
            "         ...  \n",
            "40943    23128\n",
            "40944    15819\n",
            "40946    25298\n",
            "40947    23903\n",
            "40948    24334\n",
            "Name: publsh_time, Length: 154567, dtype: int64\n"
          ]
        }
      ]
    },
    {
      "cell_type": "code",
      "metadata": {
        "id": "9afZF1ROYKL0",
        "colab": {
          "base_uri": "https://localhost:8080/"
        },
        "outputId": "4afb3bb7-98a2-41a2-846b-ff30f0127f94"
      },
      "source": [
        "cat_publish_date = combined_data['publish_date']\n",
        "values = array(cat_publish_date)\n",
        "print(cat_publish_date)\n",
        "label_encoder = LabelEncoder()\n",
        "combined_data['publish_date'] =label_encoder.fit_transform(values)\n",
        "print(combined_data['publish_date'])"
      ],
      "execution_count": 81,
      "outputs": [
        {
          "output_type": "stream",
          "name": "stdout",
          "text": [
            "0        2017-11-12\n",
            "1        2017-11-13\n",
            "2        2017-11-12\n",
            "3        2017-11-12\n",
            "4        2017-11-13\n",
            "            ...    \n",
            "40943    2018-05-18\n",
            "40944    2018-05-18\n",
            "40946    2018-05-18\n",
            "40947    2018-05-17\n",
            "40948    2018-05-17\n",
            "Name: publish_date, Length: 154567, dtype: object\n",
            "0        173\n",
            "1        174\n",
            "2        173\n",
            "3        173\n",
            "4        174\n",
            "        ... \n",
            "40943    360\n",
            "40944    360\n",
            "40946    360\n",
            "40947    359\n",
            "40948    359\n",
            "Name: publish_date, Length: 154567, dtype: int64\n"
          ]
        }
      ]
    },
    {
      "cell_type": "code",
      "metadata": {
        "id": "vG13sPlTYKIa",
        "colab": {
          "base_uri": "https://localhost:8080/"
        },
        "outputId": "4389b52e-6085-48dd-9d9e-4bf68be693f5"
      },
      "source": [
        "cat_video_id = combined_data['video_id']\n",
        "values = array(cat_video_id)\n",
        "print(cat_video_id)\n",
        "label_encoder = LabelEncoder()\n",
        "combined_data['video_id'] =label_encoder.fit_transform(values)\n",
        "print(combined_data['video_id'])"
      ],
      "execution_count": 82,
      "outputs": [
        {
          "output_type": "stream",
          "name": "stdout",
          "text": [
            "0        kzwfHumJyYc\n",
            "1        zUZ1z7FwLc8\n",
            "2        10L1hZ9qa58\n",
            "3        N1vE8iiEg64\n",
            "4        kJzGH0PVQHQ\n",
            "            ...     \n",
            "40943    1PhPYr_9zRY\n",
            "40944    BZt0qjTWNhw\n",
            "40946    D6Oy4LfoqsU\n",
            "40947    oV0zkMe1K8s\n",
            "40948    ooyjaVdt-jA\n",
            "Name: video_id, Length: 154567, dtype: object\n",
            "0        50513\n",
            "1        65349\n",
            "2         1944\n",
            "3        24760\n",
            "4        49851\n",
            "         ...  \n",
            "40943     2360\n",
            "40944    12873\n",
            "40946    14457\n",
            "40947    54136\n",
            "40948    54501\n",
            "Name: video_id, Length: 154567, dtype: int64\n"
          ]
        }
      ]
    },
    {
      "cell_type": "code",
      "metadata": {
        "colab": {
          "base_uri": "https://localhost:8080/",
          "height": 1000
        },
        "id": "lGlk6gZTns68",
        "outputId": "ef182dab-4d5d-4b1b-aa19-3844a1eb1a07"
      },
      "source": [
        "combined_data"
      ],
      "execution_count": 84,
      "outputs": [
        {
          "output_type": "execute_result",
          "data": {
            "text/html": [
              "<div>\n",
              "<style scoped>\n",
              "    .dataframe tbody tr th:only-of-type {\n",
              "        vertical-align: middle;\n",
              "    }\n",
              "\n",
              "    .dataframe tbody tr th {\n",
              "        vertical-align: top;\n",
              "    }\n",
              "\n",
              "    .dataframe thead th {\n",
              "        text-align: right;\n",
              "    }\n",
              "</style>\n",
              "<table border=\"1\" class=\"dataframe\">\n",
              "  <thead>\n",
              "    <tr style=\"text-align: right;\">\n",
              "      <th></th>\n",
              "      <th>video_id</th>\n",
              "      <th>trending_date</th>\n",
              "      <th>title</th>\n",
              "      <th>channel_title</th>\n",
              "      <th>category_id</th>\n",
              "      <th>publish_time</th>\n",
              "      <th>tags</th>\n",
              "      <th>views</th>\n",
              "      <th>likes</th>\n",
              "      <th>dislikes</th>\n",
              "      <th>comment_count</th>\n",
              "      <th>thumbnail_link</th>\n",
              "      <th>comments_disabled</th>\n",
              "      <th>ratings_disabled</th>\n",
              "      <th>video_error_or_removed</th>\n",
              "      <th>description</th>\n",
              "      <th>Country</th>\n",
              "      <th>views_log</th>\n",
              "      <th>likes_log</th>\n",
              "      <th>dislikes_log</th>\n",
              "      <th>comment_log</th>\n",
              "      <th>len_title</th>\n",
              "      <th>desc_len</th>\n",
              "      <th>num_tags</th>\n",
              "      <th>publsh_time</th>\n",
              "      <th>publish_date</th>\n",
              "      <th>publish_weekday</th>\n",
              "    </tr>\n",
              "  </thead>\n",
              "  <tbody>\n",
              "    <tr>\n",
              "      <th>0</th>\n",
              "      <td>50513</td>\n",
              "      <td>13</td>\n",
              "      <td>Sharry Mann: Cute Munda ( Song Teaser) | Parmi...</td>\n",
              "      <td>13</td>\n",
              "      <td>1</td>\n",
              "      <td>2017-11-12T12:20:39.000Z</td>\n",
              "      <td>sharry mann|\"sharry mann new song\"|\"sharry man...</td>\n",
              "      <td>1096328</td>\n",
              "      <td>33967</td>\n",
              "      <td>799</td>\n",
              "      <td>883</td>\n",
              "      <td>https://i.ytimg.com/vi/kzwfHumJyYc/default.jpg</td>\n",
              "      <td>False</td>\n",
              "      <td>False</td>\n",
              "      <td>False</td>\n",
              "      <td>34244</td>\n",
              "      <td>2</td>\n",
              "      <td>13.907477</td>\n",
              "      <td>10.433145</td>\n",
              "      <td>6.683361</td>\n",
              "      <td>6.783325</td>\n",
              "      <td>81</td>\n",
              "      <td>920</td>\n",
              "      <td>378</td>\n",
              "      <td>14777</td>\n",
              "      <td>173</td>\n",
              "      <td>6</td>\n",
              "    </tr>\n",
              "    <tr>\n",
              "      <th>1</th>\n",
              "      <td>65349</td>\n",
              "      <td>13</td>\n",
              "      <td>पीरियड्स के समय, पेट पर पति करता ऐसा, देखकर दं...</td>\n",
              "      <td>13</td>\n",
              "      <td>25</td>\n",
              "      <td>2017-11-13T05:43:56.000Z</td>\n",
              "      <td>पीरियड्स के समय|\"पेट पर पति करता ऐसा\"|\"देखकर द...</td>\n",
              "      <td>590102</td>\n",
              "      <td>736</td>\n",
              "      <td>905</td>\n",
              "      <td>1</td>\n",
              "      <td>https://i.ytimg.com/vi/zUZ1z7FwLc8/default.jpg</td>\n",
              "      <td>True</td>\n",
              "      <td>False</td>\n",
              "      <td>False</td>\n",
              "      <td>56113</td>\n",
              "      <td>2</td>\n",
              "      <td>13.288051</td>\n",
              "      <td>6.601230</td>\n",
              "      <td>6.807935</td>\n",
              "      <td>0.000000</td>\n",
              "      <td>58</td>\n",
              "      <td>2232</td>\n",
              "      <td>294</td>\n",
              "      <td>6236</td>\n",
              "      <td>174</td>\n",
              "      <td>0</td>\n",
              "    </tr>\n",
              "    <tr>\n",
              "      <th>2</th>\n",
              "      <td>1944</td>\n",
              "      <td>13</td>\n",
              "      <td>Stylish Star Allu Arjun @ ChaySam Wedding Rece...</td>\n",
              "      <td>13</td>\n",
              "      <td>24</td>\n",
              "      <td>2017-11-12T15:48:08.000Z</td>\n",
              "      <td>Stylish Star Allu Arjun @ ChaySam Wedding Rece...</td>\n",
              "      <td>473989</td>\n",
              "      <td>2012</td>\n",
              "      <td>244</td>\n",
              "      <td>150</td>\n",
              "      <td>https://i.ytimg.com/vi/10L1hZ9qa58/default.jpg</td>\n",
              "      <td>False</td>\n",
              "      <td>False</td>\n",
              "      <td>False</td>\n",
              "      <td>49390</td>\n",
              "      <td>2</td>\n",
              "      <td>13.068939</td>\n",
              "      <td>7.606885</td>\n",
              "      <td>5.497168</td>\n",
              "      <td>5.010635</td>\n",
              "      <td>58</td>\n",
              "      <td>482</td>\n",
              "      <td>327</td>\n",
              "      <td>21049</td>\n",
              "      <td>173</td>\n",
              "      <td>6</td>\n",
              "    </tr>\n",
              "    <tr>\n",
              "      <th>3</th>\n",
              "      <td>24760</td>\n",
              "      <td>13</td>\n",
              "      <td>Eruma Saani | Tamil vs English</td>\n",
              "      <td>13</td>\n",
              "      <td>23</td>\n",
              "      <td>2017-11-12T07:08:48.000Z</td>\n",
              "      <td>Eruma Saani|\"Tamil Comedy Videos\"|\"Films\"|\"Mov...</td>\n",
              "      <td>1242681</td>\n",
              "      <td>70354</td>\n",
              "      <td>1625</td>\n",
              "      <td>2685</td>\n",
              "      <td>https://i.ytimg.com/vi/N1vE8iiEg64/default.jpg</td>\n",
              "      <td>False</td>\n",
              "      <td>False</td>\n",
              "      <td>False</td>\n",
              "      <td>44542</td>\n",
              "      <td>2</td>\n",
              "      <td>14.032782</td>\n",
              "      <td>11.161295</td>\n",
              "      <td>7.393263</td>\n",
              "      <td>7.895436</td>\n",
              "      <td>30</td>\n",
              "      <td>263</td>\n",
              "      <td>305</td>\n",
              "      <td>7790</td>\n",
              "      <td>173</td>\n",
              "      <td>6</td>\n",
              "    </tr>\n",
              "    <tr>\n",
              "      <th>4</th>\n",
              "      <td>49851</td>\n",
              "      <td>13</td>\n",
              "      <td>why Samantha became EMOTIONAL @ Samantha naga ...</td>\n",
              "      <td>13</td>\n",
              "      <td>24</td>\n",
              "      <td>2017-11-13T01:14:16.000Z</td>\n",
              "      <td>Filmylooks|\"latest news\"|\"telugu movies\"|\"telu...</td>\n",
              "      <td>464016</td>\n",
              "      <td>493</td>\n",
              "      <td>294</td>\n",
              "      <td>67</td>\n",
              "      <td>https://i.ytimg.com/vi/kJzGH0PVQHQ/default.jpg</td>\n",
              "      <td>False</td>\n",
              "      <td>False</td>\n",
              "      <td>False</td>\n",
              "      <td>53318</td>\n",
              "      <td>2</td>\n",
              "      <td>13.047674</td>\n",
              "      <td>6.200509</td>\n",
              "      <td>5.683580</td>\n",
              "      <td>4.204693</td>\n",
              "      <td>88</td>\n",
              "      <td>753</td>\n",
              "      <td>319</td>\n",
              "      <td>1298</td>\n",
              "      <td>174</td>\n",
              "      <td>0</td>\n",
              "    </tr>\n",
              "    <tr>\n",
              "      <th>...</th>\n",
              "      <td>...</td>\n",
              "      <td>...</td>\n",
              "      <td>...</td>\n",
              "      <td>...</td>\n",
              "      <td>...</td>\n",
              "      <td>...</td>\n",
              "      <td>...</td>\n",
              "      <td>...</td>\n",
              "      <td>...</td>\n",
              "      <td>...</td>\n",
              "      <td>...</td>\n",
              "      <td>...</td>\n",
              "      <td>...</td>\n",
              "      <td>...</td>\n",
              "      <td>...</td>\n",
              "      <td>...</td>\n",
              "      <td>...</td>\n",
              "      <td>...</td>\n",
              "      <td>...</td>\n",
              "      <td>...</td>\n",
              "      <td>...</td>\n",
              "      <td>...</td>\n",
              "      <td>...</td>\n",
              "      <td>...</td>\n",
              "      <td>...</td>\n",
              "      <td>...</td>\n",
              "      <td>...</td>\n",
              "    </tr>\n",
              "    <tr>\n",
              "      <th>40943</th>\n",
              "      <td>2360</td>\n",
              "      <td>123</td>\n",
              "      <td>BTS Plays With Puppies While Answering Fan Que...</td>\n",
              "      <td>123</td>\n",
              "      <td>22</td>\n",
              "      <td>2018-05-18T16:39:29.000Z</td>\n",
              "      <td>BuzzFeed|\"BuzzFeedVideo\"|\"Puppy Interview\"|\"pu...</td>\n",
              "      <td>8259129</td>\n",
              "      <td>645889</td>\n",
              "      <td>4053</td>\n",
              "      <td>62611</td>\n",
              "      <td>https://i.ytimg.com/vi/1PhPYr_9zRY/default.jpg</td>\n",
              "      <td>False</td>\n",
              "      <td>False</td>\n",
              "      <td>False</td>\n",
              "      <td>6426</td>\n",
              "      <td>3</td>\n",
              "      <td>15.926830</td>\n",
              "      <td>13.378383</td>\n",
              "      <td>8.307213</td>\n",
              "      <td>11.044696</td>\n",
              "      <td>52</td>\n",
              "      <td>926</td>\n",
              "      <td>311</td>\n",
              "      <td>23128</td>\n",
              "      <td>360</td>\n",
              "      <td>4</td>\n",
              "    </tr>\n",
              "    <tr>\n",
              "      <th>40944</th>\n",
              "      <td>12873</td>\n",
              "      <td>123</td>\n",
              "      <td>The Cat Who Caught the Laser</td>\n",
              "      <td>123</td>\n",
              "      <td>15</td>\n",
              "      <td>2018-05-18T13:00:04.000Z</td>\n",
              "      <td>aarons animals|\"aarons\"|\"animals\"|\"cat\"|\"cats\"...</td>\n",
              "      <td>1685610</td>\n",
              "      <td>38161</td>\n",
              "      <td>1386</td>\n",
              "      <td>2658</td>\n",
              "      <td>https://i.ytimg.com/vi/BZt0qjTWNhw/default.jpg</td>\n",
              "      <td>False</td>\n",
              "      <td>False</td>\n",
              "      <td>False</td>\n",
              "      <td>42604</td>\n",
              "      <td>3</td>\n",
              "      <td>14.337638</td>\n",
              "      <td>10.549569</td>\n",
              "      <td>7.234177</td>\n",
              "      <td>7.885329</td>\n",
              "      <td>28</td>\n",
              "      <td>46</td>\n",
              "      <td>134</td>\n",
              "      <td>15819</td>\n",
              "      <td>360</td>\n",
              "      <td>4</td>\n",
              "    </tr>\n",
              "    <tr>\n",
              "      <th>40946</th>\n",
              "      <td>14457</td>\n",
              "      <td>123</td>\n",
              "      <td>I GAVE SAFIYA NYGAARD A PERFECT HAIR MAKEOVER ...</td>\n",
              "      <td>123</td>\n",
              "      <td>24</td>\n",
              "      <td>2018-05-18T17:34:22.000Z</td>\n",
              "      <td>I gave safiya nygaard a perfect hair makeover ...</td>\n",
              "      <td>1066452</td>\n",
              "      <td>48069</td>\n",
              "      <td>1033</td>\n",
              "      <td>3993</td>\n",
              "      <td>https://i.ytimg.com/vi/D6Oy4LfoqsU/default.jpg</td>\n",
              "      <td>False</td>\n",
              "      <td>False</td>\n",
              "      <td>False</td>\n",
              "      <td>19452</td>\n",
              "      <td>3</td>\n",
              "      <td>13.879848</td>\n",
              "      <td>10.780393</td>\n",
              "      <td>6.940222</td>\n",
              "      <td>8.292298</td>\n",
              "      <td>84</td>\n",
              "      <td>775</td>\n",
              "      <td>492</td>\n",
              "      <td>25298</td>\n",
              "      <td>360</td>\n",
              "      <td>4</td>\n",
              "    </tr>\n",
              "    <tr>\n",
              "      <th>40947</th>\n",
              "      <td>54136</td>\n",
              "      <td>123</td>\n",
              "      <td>How Black Panther Should Have Ended</td>\n",
              "      <td>123</td>\n",
              "      <td>1</td>\n",
              "      <td>2018-05-17T17:00:04.000Z</td>\n",
              "      <td>Black Panther|\"HISHE\"|\"Marvel\"|\"Infinity War\"|...</td>\n",
              "      <td>5660814</td>\n",
              "      <td>192958</td>\n",
              "      <td>2847</td>\n",
              "      <td>13089</td>\n",
              "      <td>https://i.ytimg.com/vi/oV0zkMe1K8s/default.jpg</td>\n",
              "      <td>False</td>\n",
              "      <td>False</td>\n",
              "      <td>False</td>\n",
              "      <td>19063</td>\n",
              "      <td>3</td>\n",
              "      <td>15.549078</td>\n",
              "      <td>12.170228</td>\n",
              "      <td>7.954021</td>\n",
              "      <td>9.479527</td>\n",
              "      <td>35</td>\n",
              "      <td>3268</td>\n",
              "      <td>295</td>\n",
              "      <td>23903</td>\n",
              "      <td>359</td>\n",
              "      <td>3</td>\n",
              "    </tr>\n",
              "    <tr>\n",
              "      <th>40948</th>\n",
              "      <td>54501</td>\n",
              "      <td>123</td>\n",
              "      <td>Official Call of Duty®: Black Ops 4 — Multipla...</td>\n",
              "      <td>123</td>\n",
              "      <td>20</td>\n",
              "      <td>2018-05-17T17:09:38.000Z</td>\n",
              "      <td>call of duty|\"cod\"|\"activision\"|\"Black Ops 4\"</td>\n",
              "      <td>10306120</td>\n",
              "      <td>357080</td>\n",
              "      <td>212977</td>\n",
              "      <td>144796</td>\n",
              "      <td>https://i.ytimg.com/vi/ooyjaVdt-jA/default.jpg</td>\n",
              "      <td>False</td>\n",
              "      <td>False</td>\n",
              "      <td>False</td>\n",
              "      <td>8639</td>\n",
              "      <td>3</td>\n",
              "      <td>16.148248</td>\n",
              "      <td>12.785715</td>\n",
              "      <td>12.268939</td>\n",
              "      <td>11.883081</td>\n",
              "      <td>64</td>\n",
              "      <td>709</td>\n",
              "      <td>45</td>\n",
              "      <td>24334</td>\n",
              "      <td>359</td>\n",
              "      <td>3</td>\n",
              "    </tr>\n",
              "  </tbody>\n",
              "</table>\n",
              "<p>154567 rows × 27 columns</p>\n",
              "</div>"
            ],
            "text/plain": [
              "       video_id  trending_date  ... publish_date  publish_weekday\n",
              "0         50513             13  ...          173                6\n",
              "1         65349             13  ...          174                0\n",
              "2          1944             13  ...          173                6\n",
              "3         24760             13  ...          173                6\n",
              "4         49851             13  ...          174                0\n",
              "...         ...            ...  ...          ...              ...\n",
              "40943      2360            123  ...          360                4\n",
              "40944     12873            123  ...          360                4\n",
              "40946     14457            123  ...          360                4\n",
              "40947     54136            123  ...          359                3\n",
              "40948     54501            123  ...          359                3\n",
              "\n",
              "[154567 rows x 27 columns]"
            ]
          },
          "metadata": {},
          "execution_count": 84
        }
      ]
    },
    {
      "cell_type": "code",
      "metadata": {
        "id": "cWbymrQaYKE4",
        "colab": {
          "base_uri": "https://localhost:8080/"
        },
        "outputId": "de87c82c-783d-4cf5-f005-4dfbc899c4b9"
      },
      "source": [
        "pd.get_dummies(combined_data.Country)\n",
        "\n",
        "print('check_final_df',(combined_data.shape))"
      ],
      "execution_count": 82,
      "outputs": [
        {
          "output_type": "stream",
          "name": "stdout",
          "text": [
            "check_final_df (113573, 20)\n"
          ]
        }
      ]
    },
    {
      "cell_type": "code",
      "metadata": {
        "id": "fD2uS9f-YJqT"
      },
      "source": [
        "# Copying the dataset into a new file\n",
        "# Modifying the views_log as the label column\n",
        "combined_data_sec_2 = combined_data.copy()\n",
        "combined_data_sec_2.rename(columns = {'views_log':'label'}, inplace = True) "
      ],
      "execution_count": 83,
      "outputs": []
    },
    {
      "cell_type": "code",
      "metadata": {
        "id": "gYTyfxzFs3KY"
      },
      "source": [
        "###############################################\n",
        "combined_data_sec_2 = combined_data.copy()\n",
        "combined_data_sec_2.rename(columns = {'views_log':'label'}, inplace = True) "
      ],
      "execution_count": 156,
      "outputs": []
    },
    {
      "cell_type": "code",
      "metadata": {
        "id": "FAfI6iizYJmj"
      },
      "source": [
        "# Loading the new csv file\n",
        "combined_data_sec_2.to_csv('/content/combined_data.csv')"
      ],
      "execution_count": 89,
      "outputs": []
    },
    {
      "cell_type": "code",
      "metadata": {
        "id": "m3r4lRhjs9OG"
      },
      "source": [
        "combined_data_sec_2.to_csv('/content/combined_data.csv')\n",
        "#########################################################################################################################"
      ],
      "execution_count": 157,
      "outputs": []
    },
    {
      "cell_type": "code",
      "metadata": {
        "id": "3dEeVy9mYJjA",
        "colab": {
          "base_uri": "https://localhost:8080/"
        },
        "outputId": "16ac41de-c382-4483-ef67-5d1dc13f0608"
      },
      "source": [
        "# Mounting the drive\n",
        "from google.colab import drive\n",
        "drive.mount('/content/gdrive')"
      ],
      "execution_count": 91,
      "outputs": [
        {
          "output_type": "stream",
          "name": "stdout",
          "text": [
            "Drive already mounted at /content/gdrive; to attempt to forcibly remount, call drive.mount(\"/content/gdrive\", force_remount=True).\n"
          ]
        }
      ]
    },
    {
      "cell_type": "code",
      "metadata": {
        "colab": {
          "base_uri": "https://localhost:8080/"
        },
        "id": "PJy8mASztB_a",
        "outputId": "6d242498-2a4c-4bee-b67e-f51eb0f9143f"
      },
      "source": [
        "###############################################################################\n",
        "from google.colab import drive\n",
        "drive.mount('/content/gdrive')"
      ],
      "execution_count": 158,
      "outputs": [
        {
          "output_type": "stream",
          "name": "stdout",
          "text": [
            "Mounted at /content/gdrive\n"
          ]
        }
      ]
    },
    {
      "cell_type": "code",
      "metadata": {
        "id": "AUM8mTQ2-nki"
      },
      "source": [
        "# Copying the file into a folder name called 'delete'\n",
        "!cp --copy-content '/content/combined_data.csv' '/content/gdrive/MyDrive/delete'"
      ],
      "execution_count": 93,
      "outputs": []
    },
    {
      "cell_type": "code",
      "metadata": {
        "id": "Vx6TpMldtGfK"
      },
      "source": [
        "###########################################################################\n",
        "# Copying the file into a folder name called 'delete'\n",
        "!cp --copy-content '/content/combined_data.csv' '/content/gdrive/MyDrive/delete'"
      ],
      "execution_count": 159,
      "outputs": []
    },
    {
      "cell_type": "code",
      "metadata": {
        "id": "hgdE2y0kYGTb"
      },
      "source": [
        "label = combined_data['views_log']"
      ],
      "execution_count": 97,
      "outputs": []
    },
    {
      "cell_type": "code",
      "metadata": {
        "id": "O6zXfZBJtLNw"
      },
      "source": [
        "########################################################################\n",
        "label = combined_data['views_log']"
      ],
      "execution_count": 160,
      "outputs": []
    },
    {
      "cell_type": "code",
      "metadata": {
        "id": "27srBqNVsJfn"
      },
      "source": [
        "# Using the views_log column as features\n",
        "features = features = combined_data.loc[:, combined_data.columns != 'views_log']"
      ],
      "execution_count": 95,
      "outputs": []
    },
    {
      "cell_type": "code",
      "metadata": {
        "id": "EofzwxjttOYw"
      },
      "source": [
        "#######################################################\n",
        "# Using the views_log column as features\n",
        "features = features = combined_data.loc[:, combined_data.columns != 'views_log']"
      ],
      "execution_count": 161,
      "outputs": []
    },
    {
      "cell_type": "code",
      "metadata": {
        "colab": {
          "base_uri": "https://localhost:8080/",
          "height": 439
        },
        "id": "yZ3GKIqEl-I_",
        "outputId": "9b298e0d-fa25-4b19-85c0-7b1619925350"
      },
      "source": [
        "features"
      ],
      "execution_count": 96,
      "outputs": [
        {
          "output_type": "execute_result",
          "data": {
            "text/html": [
              "<div>\n",
              "<style scoped>\n",
              "    .dataframe tbody tr th:only-of-type {\n",
              "        vertical-align: middle;\n",
              "    }\n",
              "\n",
              "    .dataframe tbody tr th {\n",
              "        vertical-align: top;\n",
              "    }\n",
              "\n",
              "    .dataframe thead th {\n",
              "        text-align: right;\n",
              "    }\n",
              "</style>\n",
              "<table border=\"1\" class=\"dataframe\">\n",
              "  <thead>\n",
              "    <tr style=\"text-align: right;\">\n",
              "      <th></th>\n",
              "      <th>video_id</th>\n",
              "      <th>trending_date</th>\n",
              "      <th>channel_title</th>\n",
              "      <th>category</th>\n",
              "      <th>category_id</th>\n",
              "      <th>comments_disabled</th>\n",
              "      <th>ratings_disabled</th>\n",
              "      <th>video_error_or_removed</th>\n",
              "      <th>description</th>\n",
              "      <th>Country</th>\n",
              "      <th>likes_log</th>\n",
              "      <th>dislikes_log</th>\n",
              "      <th>comment_log</th>\n",
              "      <th>len_title</th>\n",
              "      <th>desc_len</th>\n",
              "      <th>num_tags</th>\n",
              "      <th>publsh_time</th>\n",
              "      <th>publish_date</th>\n",
              "      <th>publish_weekday</th>\n",
              "    </tr>\n",
              "  </thead>\n",
              "  <tbody>\n",
              "    <tr>\n",
              "      <th>0</th>\n",
              "      <td>39758</td>\n",
              "      <td>13</td>\n",
              "      <td>13</td>\n",
              "      <td>8</td>\n",
              "      <td>10</td>\n",
              "      <td>False</td>\n",
              "      <td>False</td>\n",
              "      <td>False</td>\n",
              "      <td>11282</td>\n",
              "      <td>0</td>\n",
              "      <td>13.576525</td>\n",
              "      <td>10.678698</td>\n",
              "      <td>11.743108</td>\n",
              "      <td>42</td>\n",
              "      <td>594</td>\n",
              "      <td>61</td>\n",
              "      <td>16530</td>\n",
              "      <td>171</td>\n",
              "      <td>4</td>\n",
              "    </tr>\n",
              "    <tr>\n",
              "      <th>1</th>\n",
              "      <td>1318</td>\n",
              "      <td>13</td>\n",
              "      <td>13</td>\n",
              "      <td>1</td>\n",
              "      <td>23</td>\n",
              "      <td>False</td>\n",
              "      <td>False</td>\n",
              "      <td>False</td>\n",
              "      <td>29935</td>\n",
              "      <td>0</td>\n",
              "      <td>11.758183</td>\n",
              "      <td>7.431892</td>\n",
              "      <td>9.475086</td>\n",
              "      <td>29</td>\n",
              "      <td>704</td>\n",
              "      <td>121</td>\n",
              "      <td>16527</td>\n",
              "      <td>174</td>\n",
              "      <td>0</td>\n",
              "    </tr>\n",
              "    <tr>\n",
              "      <th>2</th>\n",
              "      <td>5413</td>\n",
              "      <td>13</td>\n",
              "      <td>13</td>\n",
              "      <td>1</td>\n",
              "      <td>23</td>\n",
              "      <td>False</td>\n",
              "      <td>False</td>\n",
              "      <td>False</td>\n",
              "      <td>38352</td>\n",
              "      <td>0</td>\n",
              "      <td>11.891608</td>\n",
              "      <td>8.582981</td>\n",
              "      <td>9.009692</td>\n",
              "      <td>53</td>\n",
              "      <td>1177</td>\n",
              "      <td>314</td>\n",
              "      <td>20571</td>\n",
              "      <td>173</td>\n",
              "      <td>6</td>\n",
              "    </tr>\n",
              "    <tr>\n",
              "      <th>3</th>\n",
              "      <td>31910</td>\n",
              "      <td>13</td>\n",
              "      <td>13</td>\n",
              "      <td>3</td>\n",
              "      <td>24</td>\n",
              "      <td>False</td>\n",
              "      <td>False</td>\n",
              "      <td>False</td>\n",
              "      <td>15385</td>\n",
              "      <td>0</td>\n",
              "      <td>11.792374</td>\n",
              "      <td>7.595890</td>\n",
              "      <td>9.771041</td>\n",
              "      <td>24</td>\n",
              "      <td>636</td>\n",
              "      <td>120</td>\n",
              "      <td>18663</td>\n",
              "      <td>173</td>\n",
              "      <td>6</td>\n",
              "    </tr>\n",
              "    <tr>\n",
              "      <th>4</th>\n",
              "      <td>2741</td>\n",
              "      <td>13</td>\n",
              "      <td>13</td>\n",
              "      <td>8</td>\n",
              "      <td>10</td>\n",
              "      <td>False</td>\n",
              "      <td>False</td>\n",
              "      <td>False</td>\n",
              "      <td>46178</td>\n",
              "      <td>0</td>\n",
              "      <td>14.306622</td>\n",
              "      <td>9.956222</td>\n",
              "      <td>11.351206</td>\n",
              "      <td>43</td>\n",
              "      <td>1250</td>\n",
              "      <td>103</td>\n",
              "      <td>8065</td>\n",
              "      <td>170</td>\n",
              "      <td>3</td>\n",
              "    </tr>\n",
              "    <tr>\n",
              "      <th>...</th>\n",
              "      <td>...</td>\n",
              "      <td>...</td>\n",
              "      <td>...</td>\n",
              "      <td>...</td>\n",
              "      <td>...</td>\n",
              "      <td>...</td>\n",
              "      <td>...</td>\n",
              "      <td>...</td>\n",
              "      <td>...</td>\n",
              "      <td>...</td>\n",
              "      <td>...</td>\n",
              "      <td>...</td>\n",
              "      <td>...</td>\n",
              "      <td>...</td>\n",
              "      <td>...</td>\n",
              "      <td>...</td>\n",
              "      <td>...</td>\n",
              "      <td>...</td>\n",
              "      <td>...</td>\n",
              "    </tr>\n",
              "    <tr>\n",
              "      <th>40876</th>\n",
              "      <td>24035</td>\n",
              "      <td>123</td>\n",
              "      <td>123</td>\n",
              "      <td>11</td>\n",
              "      <td>22</td>\n",
              "      <td>False</td>\n",
              "      <td>False</td>\n",
              "      <td>False</td>\n",
              "      <td>34653</td>\n",
              "      <td>2</td>\n",
              "      <td>12.131527</td>\n",
              "      <td>11.560114</td>\n",
              "      <td>10.865994</td>\n",
              "      <td>64</td>\n",
              "      <td>823</td>\n",
              "      <td>408</td>\n",
              "      <td>23795</td>\n",
              "      <td>371</td>\n",
              "      <td>1</td>\n",
              "    </tr>\n",
              "    <tr>\n",
              "      <th>40877</th>\n",
              "      <td>40001</td>\n",
              "      <td>123</td>\n",
              "      <td>123</td>\n",
              "      <td>3</td>\n",
              "      <td>24</td>\n",
              "      <td>False</td>\n",
              "      <td>False</td>\n",
              "      <td>False</td>\n",
              "      <td>30432</td>\n",
              "      <td>2</td>\n",
              "      <td>8.438150</td>\n",
              "      <td>7.516977</td>\n",
              "      <td>8.907612</td>\n",
              "      <td>51</td>\n",
              "      <td>149</td>\n",
              "      <td>396</td>\n",
              "      <td>2599</td>\n",
              "      <td>372</td>\n",
              "      <td>2</td>\n",
              "    </tr>\n",
              "    <tr>\n",
              "      <th>40878</th>\n",
              "      <td>45164</td>\n",
              "      <td>123</td>\n",
              "      <td>123</td>\n",
              "      <td>15</td>\n",
              "      <td>17</td>\n",
              "      <td>False</td>\n",
              "      <td>False</td>\n",
              "      <td>False</td>\n",
              "      <td>29455</td>\n",
              "      <td>2</td>\n",
              "      <td>8.767329</td>\n",
              "      <td>7.570959</td>\n",
              "      <td>9.002701</td>\n",
              "      <td>75</td>\n",
              "      <td>1759</td>\n",
              "      <td>542</td>\n",
              "      <td>16619</td>\n",
              "      <td>372</td>\n",
              "      <td>2</td>\n",
              "    </tr>\n",
              "    <tr>\n",
              "      <th>40879</th>\n",
              "      <td>30657</td>\n",
              "      <td>123</td>\n",
              "      <td>123</td>\n",
              "      <td>8</td>\n",
              "      <td>10</td>\n",
              "      <td>False</td>\n",
              "      <td>False</td>\n",
              "      <td>False</td>\n",
              "      <td>10425</td>\n",
              "      <td>2</td>\n",
              "      <td>9.446282</td>\n",
              "      <td>5.789960</td>\n",
              "      <td>6.588926</td>\n",
              "      <td>28</td>\n",
              "      <td>1615</td>\n",
              "      <td>223</td>\n",
              "      <td>10073</td>\n",
              "      <td>372</td>\n",
              "      <td>2</td>\n",
              "    </tr>\n",
              "    <tr>\n",
              "      <th>40880</th>\n",
              "      <td>11827</td>\n",
              "      <td>123</td>\n",
              "      <td>123</td>\n",
              "      <td>8</td>\n",
              "      <td>10</td>\n",
              "      <td>False</td>\n",
              "      <td>False</td>\n",
              "      <td>False</td>\n",
              "      <td>31999</td>\n",
              "      <td>2</td>\n",
              "      <td>11.654781</td>\n",
              "      <td>8.531096</td>\n",
              "      <td>9.123802</td>\n",
              "      <td>15</td>\n",
              "      <td>328</td>\n",
              "      <td>6</td>\n",
              "      <td>9051</td>\n",
              "      <td>371</td>\n",
              "      <td>1</td>\n",
              "    </tr>\n",
              "  </tbody>\n",
              "</table>\n",
              "<p>113573 rows × 19 columns</p>\n",
              "</div>"
            ],
            "text/plain": [
              "       video_id  trending_date  ...  publish_date  publish_weekday\n",
              "0         39758             13  ...           171                4\n",
              "1          1318             13  ...           174                0\n",
              "2          5413             13  ...           173                6\n",
              "3         31910             13  ...           173                6\n",
              "4          2741             13  ...           170                3\n",
              "...         ...            ...  ...           ...              ...\n",
              "40876     24035            123  ...           371                1\n",
              "40877     40001            123  ...           372                2\n",
              "40878     45164            123  ...           372                2\n",
              "40879     30657            123  ...           372                2\n",
              "40880     11827            123  ...           371                1\n",
              "\n",
              "[113573 rows x 19 columns]"
            ]
          },
          "metadata": {},
          "execution_count": 96
        }
      ]
    },
    {
      "cell_type": "code",
      "metadata": {
        "colab": {
          "base_uri": "https://localhost:8080/"
        },
        "id": "ukun2sjdsLpC",
        "outputId": "4fb1d301-b40d-4f6e-8bf9-7d9480e94fa4"
      },
      "source": [
        "print('check_x_y_split',([features.shape, label.describe()]))"
      ],
      "execution_count": 98,
      "outputs": [
        {
          "output_type": "stream",
          "name": "stdout",
          "text": [
            "check_x_y_split [(113573, 19), count    113573.000000\n",
            "mean         12.479856\n",
            "std           1.938212\n",
            "min           5.411646\n",
            "25%          11.293288\n",
            "50%          12.644311\n",
            "75%          13.808727\n",
            "max          19.232552\n",
            "Name: views_log, dtype: float64]\n"
          ]
        }
      ]
    },
    {
      "cell_type": "code",
      "metadata": {
        "colab": {
          "base_uri": "https://localhost:8080/",
          "height": 358
        },
        "id": "GaQaiqlNtib1",
        "outputId": "40128d97-220e-4aa5-f640-b926db1e70da"
      },
      "source": [
        "#Installing Scikit learn\n",
        "pip install -U \"scikit-learn==0.23.1\""
      ],
      "execution_count": 99,
      "outputs": [
        {
          "output_type": "stream",
          "name": "stdout",
          "text": [
            "Collecting scikit-learn==0.23.1\n",
            "  Downloading scikit_learn-0.23.1-cp37-cp37m-manylinux1_x86_64.whl (6.8 MB)\n",
            "\u001b[K     |████████████████████████████████| 6.8 MB 19.8 MB/s \n",
            "\u001b[?25hRequirement already satisfied: scipy>=0.19.1 in /usr/local/lib/python3.7/dist-packages (from scikit-learn==0.23.1) (1.4.1)\n",
            "Requirement already satisfied: numpy>=1.13.3 in /usr/local/lib/python3.7/dist-packages (from scikit-learn==0.23.1) (1.19.5)\n",
            "Requirement already satisfied: threadpoolctl>=2.0.0 in /usr/local/lib/python3.7/dist-packages (from scikit-learn==0.23.1) (3.0.0)\n",
            "Requirement already satisfied: joblib>=0.11 in /usr/local/lib/python3.7/dist-packages (from scikit-learn==0.23.1) (1.1.0)\n",
            "Installing collected packages: scikit-learn\n",
            "  Attempting uninstall: scikit-learn\n",
            "    Found existing installation: scikit-learn 1.0.1\n",
            "    Uninstalling scikit-learn-1.0.1:\n",
            "      Successfully uninstalled scikit-learn-1.0.1\n",
            "\u001b[31mERROR: pip's dependency resolver does not currently take into account all the packages that are installed. This behaviour is the source of the following dependency conflicts.\n",
            "imbalanced-learn 0.8.1 requires scikit-learn>=0.24, but you have scikit-learn 0.23.1 which is incompatible.\u001b[0m\n",
            "Successfully installed scikit-learn-0.23.1\n"
          ]
        },
        {
          "output_type": "display_data",
          "data": {
            "application/vnd.colab-display-data+json": {
              "pip_warning": {
                "packages": [
                  "sklearn"
                ]
              }
            }
          },
          "metadata": {}
        }
      ]
    },
    {
      "cell_type": "code",
      "metadata": {
        "id": "JwjV6Q2xuPcG"
      },
      "source": [
        "import sklearn"
      ],
      "execution_count": 1,
      "outputs": []
    },
    {
      "cell_type": "code",
      "metadata": {
        "id": "Bd3fAj-LuQ3M"
      },
      "source": [
        "# Importing the train test split\n",
        "from sklearn.model_selection import train_test_split\n"
      ],
      "execution_count": 25,
      "outputs": []
    },
    {
      "cell_type": "code",
      "metadata": {
        "id": "UpdA6fBIuYwF"
      },
      "source": [
        "y = combined_data['likes_log']"
      ],
      "execution_count": 21,
      "outputs": []
    },
    {
      "cell_type": "code",
      "metadata": {
        "colab": {
          "base_uri": "https://localhost:8080/"
        },
        "id": "qH7SjqYNi9FU",
        "outputId": "7d2609f9-82c2-4710-c7c5-9818bded789e"
      },
      "source": [
        "y"
      ],
      "execution_count": 22,
      "outputs": [
        {
          "output_type": "execute_result",
          "data": {
            "text/plain": [
              "0        10.433145\n",
              "1         6.601230\n",
              "2         7.606885\n",
              "3        11.161295\n",
              "4         6.200509\n",
              "           ...    \n",
              "40943    13.378383\n",
              "40944    10.549569\n",
              "40946    10.780393\n",
              "40947    12.170228\n",
              "40948    12.785715\n",
              "Name: likes_log, Length: 154567, dtype: float64"
            ]
          },
          "metadata": {},
          "execution_count": 22
        }
      ]
    },
    {
      "cell_type": "code",
      "metadata": {
        "id": "dDKo3UtSuamM"
      },
      "source": [
        "x = combined_data.drop(columns = 'likes_log')"
      ],
      "execution_count": 23,
      "outputs": []
    },
    {
      "cell_type": "code",
      "metadata": {
        "id": "4rz_QUYkugNc"
      },
      "source": [
        "x_train, x_test, y_train, y_test = train_test_split(x, y, test_size=0.2)"
      ],
      "execution_count": 26,
      "outputs": []
    },
    {
      "cell_type": "code",
      "metadata": {
        "colab": {
          "base_uri": "https://localhost:8080/",
          "height": 547
        },
        "id": "4XdZ6FKzuhjm",
        "outputId": "d340e7ce-d11e-4704-ecd4-20ea719f74b1"
      },
      "source": [
        "x_train.head()"
      ],
      "execution_count": 27,
      "outputs": [
        {
          "output_type": "execute_result",
          "data": {
            "text/html": [
              "<div>\n",
              "<style scoped>\n",
              "    .dataframe tbody tr th:only-of-type {\n",
              "        vertical-align: middle;\n",
              "    }\n",
              "\n",
              "    .dataframe tbody tr th {\n",
              "        vertical-align: top;\n",
              "    }\n",
              "\n",
              "    .dataframe thead th {\n",
              "        text-align: right;\n",
              "    }\n",
              "</style>\n",
              "<table border=\"1\" class=\"dataframe\">\n",
              "  <thead>\n",
              "    <tr style=\"text-align: right;\">\n",
              "      <th></th>\n",
              "      <th>video_id</th>\n",
              "      <th>trending_date</th>\n",
              "      <th>title</th>\n",
              "      <th>channel_title</th>\n",
              "      <th>category_id</th>\n",
              "      <th>publish_time</th>\n",
              "      <th>tags</th>\n",
              "      <th>views</th>\n",
              "      <th>likes</th>\n",
              "      <th>dislikes</th>\n",
              "      <th>comment_count</th>\n",
              "      <th>thumbnail_link</th>\n",
              "      <th>comments_disabled</th>\n",
              "      <th>ratings_disabled</th>\n",
              "      <th>video_error_or_removed</th>\n",
              "      <th>description</th>\n",
              "      <th>Country</th>\n",
              "      <th>views_log</th>\n",
              "      <th>dislikes_log</th>\n",
              "      <th>comment_log</th>\n",
              "    </tr>\n",
              "  </thead>\n",
              "  <tbody>\n",
              "    <tr>\n",
              "      <th>30291</th>\n",
              "      <td>oJ2faqXlU1s</td>\n",
              "      <td>18.22.04</td>\n",
              "      <td>Mirror-Polished Japanese Foil Ball Challenge C...</td>\n",
              "      <td>The Action Lab</td>\n",
              "      <td>24</td>\n",
              "      <td>2018-04-10T15:42:48.000Z</td>\n",
              "      <td>polishing foil balls|\"foil balls\"|\"japanese tr...</td>\n",
              "      <td>17719976</td>\n",
              "      <td>161079</td>\n",
              "      <td>26940</td>\n",
              "      <td>12697</td>\n",
              "      <td>https://i.ytimg.com/vi/oJ2faqXlU1s/default.jpg</td>\n",
              "      <td>False</td>\n",
              "      <td>False</td>\n",
              "      <td>False</td>\n",
              "      <td>In this video I make a Japanese polished foil ...</td>\n",
              "      <td>US</td>\n",
              "      <td>16.690203</td>\n",
              "      <td>10.201367</td>\n",
              "      <td>9.449121</td>\n",
              "    </tr>\n",
              "    <tr>\n",
              "      <th>12213</th>\n",
              "      <td>U0W_rpvm3Ys</td>\n",
              "      <td>18.16.01</td>\n",
              "      <td>Huge seal attacks and eats penguins - Wild Pat...</td>\n",
              "      <td>BBC Earth</td>\n",
              "      <td>15</td>\n",
              "      <td>2018-01-14T15:30:00.000Z</td>\n",
              "      <td>BBC|\"BBC Worldwide\"|\"Nature\"|\"Natural History\"...</td>\n",
              "      <td>384340</td>\n",
              "      <td>4960</td>\n",
              "      <td>366</td>\n",
              "      <td>1385</td>\n",
              "      <td>https://i.ytimg.com/vi/U0W_rpvm3Ys/default.jpg</td>\n",
              "      <td>False</td>\n",
              "      <td>False</td>\n",
              "      <td>False</td>\n",
              "      <td>Penguins on a mission home to feed their famil...</td>\n",
              "      <td>US</td>\n",
              "      <td>12.859283</td>\n",
              "      <td>5.902633</td>\n",
              "      <td>7.233455</td>\n",
              "    </tr>\n",
              "    <tr>\n",
              "      <th>29687</th>\n",
              "      <td>8B2esiq24Hg</td>\n",
              "      <td>18.19.04</td>\n",
              "      <td>Why Does My Cat Sleep With Me? - 5 Reasons You...</td>\n",
              "      <td>AnimalWised</td>\n",
              "      <td>15</td>\n",
              "      <td>2018-04-07T21:00:00.000Z</td>\n",
              "      <td>animal wised|\"animalwised\"|\"why does my cat sl...</td>\n",
              "      <td>686768</td>\n",
              "      <td>21065</td>\n",
              "      <td>286</td>\n",
              "      <td>2134</td>\n",
              "      <td>https://i.ytimg.com/vi/8B2esiq24Hg/default.jpg</td>\n",
              "      <td>False</td>\n",
              "      <td>False</td>\n",
              "      <td>False</td>\n",
              "      <td>Have you ever wondered why your cat sleeps wit...</td>\n",
              "      <td>US</td>\n",
              "      <td>13.439752</td>\n",
              "      <td>5.655992</td>\n",
              "      <td>7.665753</td>\n",
              "    </tr>\n",
              "    <tr>\n",
              "      <th>6044</th>\n",
              "      <td>Sc2pkWWe4Og</td>\n",
              "      <td>17.14.12</td>\n",
              "      <td>PRESQUE ADULTES EP9 - LE +1 DE SA VIE</td>\n",
              "      <td>NORMAN FAIT DES VIDÉOS</td>\n",
              "      <td>23</td>\n",
              "      <td>2017-12-13T16:19:53.000Z</td>\n",
              "      <td>norman|\"norman fait des videos\"|\"normane\"|\"vid...</td>\n",
              "      <td>1744406</td>\n",
              "      <td>96770</td>\n",
              "      <td>1352</td>\n",
              "      <td>2364</td>\n",
              "      <td>https://i.ytimg.com/vi/Sc2pkWWe4Og/default.jpg</td>\n",
              "      <td>False</td>\n",
              "      <td>False</td>\n",
              "      <td>False</td>\n",
              "      <td>9ème épisode de Presque Adultes, notre mini sé...</td>\n",
              "      <td>Canada</td>\n",
              "      <td>14.371925</td>\n",
              "      <td>7.209340</td>\n",
              "      <td>7.768110</td>\n",
              "    </tr>\n",
              "    <tr>\n",
              "      <th>5719</th>\n",
              "      <td>pTvwoS07nJY</td>\n",
              "      <td>17.12.12</td>\n",
              "      <td>Balcony Conversations - Male Rompers</td>\n",
              "      <td>LifeAccordingToJimmy</td>\n",
              "      <td>23</td>\n",
              "      <td>2017-12-11T20:12:23.000Z</td>\n",
              "      <td>balcony conversations|\"rompers\"|\"male rompers\"...</td>\n",
              "      <td>145528</td>\n",
              "      <td>11467</td>\n",
              "      <td>96</td>\n",
              "      <td>487</td>\n",
              "      <td>https://i.ytimg.com/vi/pTvwoS07nJY/default.jpg</td>\n",
              "      <td>False</td>\n",
              "      <td>False</td>\n",
              "      <td>False</td>\n",
              "      <td>Just a heads up, we filmed this in mid July, b...</td>\n",
              "      <td>Canada</td>\n",
              "      <td>11.888124</td>\n",
              "      <td>4.564348</td>\n",
              "      <td>6.188264</td>\n",
              "    </tr>\n",
              "  </tbody>\n",
              "</table>\n",
              "</div>"
            ],
            "text/plain": [
              "          video_id trending_date  ... dislikes_log comment_log\n",
              "30291  oJ2faqXlU1s      18.22.04  ...    10.201367    9.449121\n",
              "12213  U0W_rpvm3Ys      18.16.01  ...     5.902633    7.233455\n",
              "29687  8B2esiq24Hg      18.19.04  ...     5.655992    7.665753\n",
              "6044   Sc2pkWWe4Og      17.14.12  ...     7.209340    7.768110\n",
              "5719   pTvwoS07nJY      17.12.12  ...     4.564348    6.188264\n",
              "\n",
              "[5 rows x 20 columns]"
            ]
          },
          "metadata": {},
          "execution_count": 27
        }
      ]
    },
    {
      "cell_type": "code",
      "metadata": {
        "colab": {
          "base_uri": "https://localhost:8080/"
        },
        "id": "8lwqOKteiMzF",
        "outputId": "01a644ae-b224-4cb4-8e1a-c78249c93d88"
      },
      "source": [
        "y_train"
      ],
      "execution_count": 28,
      "outputs": [
        {
          "output_type": "execute_result",
          "data": {
            "text/plain": [
              "30291    11.989650\n",
              "12213     8.509161\n",
              "29687     9.955368\n",
              "6044     11.480092\n",
              "5719      9.347229\n",
              "           ...    \n",
              "34338     8.152198\n",
              "11114     4.624973\n",
              "39772    12.262089\n",
              "6784      8.885026\n",
              "25236     9.697385\n",
              "Name: likes_log, Length: 123653, dtype: float64"
            ]
          },
          "metadata": {},
          "execution_count": 28
        }
      ]
    },
    {
      "cell_type": "code",
      "metadata": {
        "colab": {
          "base_uri": "https://localhost:8080/"
        },
        "id": "w4aqgRegujet",
        "outputId": "4e2acf22-64bb-4e60-909f-bd89093dd0ad"
      },
      "source": [
        "print('check_data_split',[x_train.shape,x_test.shape,y_train.shape,y_test.shape])"
      ],
      "execution_count": 29,
      "outputs": [
        {
          "output_type": "stream",
          "name": "stdout",
          "text": [
            "check_data_split [(123653, 20), (30914, 20), (123653,), (30914,)]\n"
          ]
        }
      ]
    },
    {
      "cell_type": "code",
      "metadata": {
        "id": "1KtFE39bulP-"
      },
      "source": [
        "from sklearn.linear_model import LinearRegression\n",
        "from sklearn.metrics import mean_squared_error"
      ],
      "execution_count": 30,
      "outputs": []
    },
    {
      "cell_type": "code",
      "metadata": {
        "colab": {
          "base_uri": "https://localhost:8080/"
        },
        "id": "gDrjbiP8kgYa",
        "outputId": "77608076-3d8a-47ff-efbf-589569280bed"
      },
      "source": [
        "y.shape"
      ],
      "execution_count": 31,
      "outputs": [
        {
          "output_type": "execute_result",
          "data": {
            "text/plain": [
              "(154567,)"
            ]
          },
          "metadata": {},
          "execution_count": 31
        }
      ]
    },
    {
      "cell_type": "code",
      "metadata": {
        "id": "R_5GbMoAu4RB"
      },
      "source": [
        "regr = LinearRegression()"
      ],
      "execution_count": 32,
      "outputs": []
    },
    {
      "cell_type": "code",
      "metadata": {
        "id": "UPalhJhFwSZX"
      },
      "source": [
        "x = combined_data['len_title']\n",
        "y = combined_data['desc_len']"
      ],
      "execution_count": 35,
      "outputs": []
    },
    {
      "cell_type": "code",
      "metadata": {
        "id": "tcmyEBvZE7eW"
      },
      "source": [
        "len_title_series = combined_data['len_title']\n",
        "desc_len_series = combined_data['desc_len']"
      ],
      "execution_count": 37,
      "outputs": []
    },
    {
      "cell_type": "code",
      "metadata": {
        "colab": {
          "base_uri": "https://localhost:8080/"
        },
        "id": "zu0pA-fYFGFs",
        "outputId": "0620ef9f-2fc2-4f48-91de-30074d8baa3c"
      },
      "source": [
        "len_title_series.shape"
      ],
      "execution_count": null,
      "outputs": [
        {
          "output_type": "execute_result",
          "data": {
            "text/plain": [
              "(113573,)"
            ]
          },
          "metadata": {},
          "execution_count": 276
        }
      ]
    },
    {
      "cell_type": "code",
      "metadata": {
        "id": "Qy043zdNG1Js"
      },
      "source": [
        "len_title_df = combined_data[['len_title']]\n",
        "desc_len_df = combined_data[['desc_len']]"
      ],
      "execution_count": 38,
      "outputs": []
    },
    {
      "cell_type": "code",
      "metadata": {
        "colab": {
          "base_uri": "https://localhost:8080/"
        },
        "id": "YQjXuPgvHB6d",
        "outputId": "18a755b7-aef2-43a0-f01e-95ab1c2dad9d"
      },
      "source": [
        "#type(len_title_df)\n",
        "#type(desc_len_df)"
      ],
      "execution_count": null,
      "outputs": [
        {
          "output_type": "execute_result",
          "data": {
            "text/plain": [
              "pandas.core.frame.DataFrame"
            ]
          },
          "metadata": {},
          "execution_count": 148
        }
      ]
    },
    {
      "cell_type": "code",
      "metadata": {
        "id": "cotIleesHB39"
      },
      "source": [
        "x = len_title_df\n",
        "y = desc_len_df"
      ],
      "execution_count": 39,
      "outputs": []
    },
    {
      "cell_type": "code",
      "metadata": {
        "colab": {
          "base_uri": "https://localhost:8080/"
        },
        "id": "7pn_8Ff-lDey",
        "outputId": "4ef7b946-ef82-4f57-c13a-8610bb6aeee8"
      },
      "source": [
        "y.shape"
      ],
      "execution_count": null,
      "outputs": [
        {
          "output_type": "execute_result",
          "data": {
            "text/plain": [
              "(113573, 1)"
            ]
          },
          "metadata": {},
          "execution_count": 255
        }
      ]
    },
    {
      "cell_type": "code",
      "metadata": {
        "id": "egrM2_D9HB1E"
      },
      "source": [
        "x_train, x_test, y_train, y_test = train_test_split(x, y, test_size=0.2)"
      ],
      "execution_count": 40,
      "outputs": []
    },
    {
      "cell_type": "code",
      "metadata": {
        "colab": {
          "base_uri": "https://localhost:8080/",
          "height": 419
        },
        "id": "GzZCis9CYCIg",
        "outputId": "e198de19-6d80-4dab-df98-6334e52b23d0"
      },
      "source": [
        "y_train"
      ],
      "execution_count": 41,
      "outputs": [
        {
          "output_type": "execute_result",
          "data": {
            "text/html": [
              "<div>\n",
              "<style scoped>\n",
              "    .dataframe tbody tr th:only-of-type {\n",
              "        vertical-align: middle;\n",
              "    }\n",
              "\n",
              "    .dataframe tbody tr th {\n",
              "        vertical-align: top;\n",
              "    }\n",
              "\n",
              "    .dataframe thead th {\n",
              "        text-align: right;\n",
              "    }\n",
              "</style>\n",
              "<table border=\"1\" class=\"dataframe\">\n",
              "  <thead>\n",
              "    <tr style=\"text-align: right;\">\n",
              "      <th></th>\n",
              "      <th>desc_len</th>\n",
              "    </tr>\n",
              "  </thead>\n",
              "  <tbody>\n",
              "    <tr>\n",
              "      <th>10233</th>\n",
              "      <td>202</td>\n",
              "    </tr>\n",
              "    <tr>\n",
              "      <th>5682</th>\n",
              "      <td>287</td>\n",
              "    </tr>\n",
              "    <tr>\n",
              "      <th>18824</th>\n",
              "      <td>1072</td>\n",
              "    </tr>\n",
              "    <tr>\n",
              "      <th>28970</th>\n",
              "      <td>1372</td>\n",
              "    </tr>\n",
              "    <tr>\n",
              "      <th>28295</th>\n",
              "      <td>1322</td>\n",
              "    </tr>\n",
              "    <tr>\n",
              "      <th>...</th>\n",
              "      <td>...</td>\n",
              "    </tr>\n",
              "    <tr>\n",
              "      <th>22931</th>\n",
              "      <td>1061</td>\n",
              "    </tr>\n",
              "    <tr>\n",
              "      <th>4860</th>\n",
              "      <td>388</td>\n",
              "    </tr>\n",
              "    <tr>\n",
              "      <th>29841</th>\n",
              "      <td>942</td>\n",
              "    </tr>\n",
              "    <tr>\n",
              "      <th>3006</th>\n",
              "      <td>1007</td>\n",
              "    </tr>\n",
              "    <tr>\n",
              "      <th>33920</th>\n",
              "      <td>2522</td>\n",
              "    </tr>\n",
              "  </tbody>\n",
              "</table>\n",
              "<p>123653 rows × 1 columns</p>\n",
              "</div>"
            ],
            "text/plain": [
              "       desc_len\n",
              "10233       202\n",
              "5682        287\n",
              "18824      1072\n",
              "28970      1372\n",
              "28295      1322\n",
              "...         ...\n",
              "22931      1061\n",
              "4860        388\n",
              "29841       942\n",
              "3006       1007\n",
              "33920      2522\n",
              "\n",
              "[123653 rows x 1 columns]"
            ]
          },
          "metadata": {},
          "execution_count": 41
        }
      ]
    },
    {
      "cell_type": "code",
      "metadata": {
        "id": "Gahs6WYLwqyd"
      },
      "source": [
        "regr = LinearRegression()"
      ],
      "execution_count": 42,
      "outputs": []
    },
    {
      "cell_type": "code",
      "metadata": {
        "id": "0j6EKz2cu6Jg"
      },
      "source": [
        "reg = regr.fit(x_train, y_train)# Train the model using the training sets"
      ],
      "execution_count": 43,
      "outputs": []
    },
    {
      "cell_type": "code",
      "metadata": {
        "colab": {
          "base_uri": "https://localhost:8080/"
        },
        "id": "PK9ZQhJnjKqr",
        "outputId": "c0267082-c5aa-4d79-c919-ca2410a21480"
      },
      "source": [
        "print(regr.score(x_test, y_test))"
      ],
      "execution_count": 44,
      "outputs": [
        {
          "output_type": "stream",
          "name": "stdout",
          "text": [
            "0.006435099620828888\n"
          ]
        }
      ]
    },
    {
      "cell_type": "code",
      "metadata": {
        "id": "ozos7FhZLGaa"
      },
      "source": [
        "y_pred = regr.predict(x_test)# Make predictions using the testing set"
      ],
      "execution_count": 45,
      "outputs": []
    },
    {
      "cell_type": "code",
      "metadata": {
        "colab": {
          "base_uri": "https://localhost:8080/"
        },
        "id": "p0jmaSQMMJHo",
        "outputId": "c62212ef-e68e-4d14-f0a5-36585b7c6ed2"
      },
      "source": [
        "y_pred"
      ],
      "execution_count": null,
      "outputs": [
        {
          "output_type": "execute_result",
          "data": {
            "text/plain": [
              "array([[ 898.2831596 ],\n",
              "       [ 997.79235626],\n",
              "       [1063.18411407],\n",
              "       ...,\n",
              "       [ 966.51803731],\n",
              "       [1029.06667521],\n",
              "       [ 955.14555769]])"
            ]
          },
          "metadata": {},
          "execution_count": 285
        }
      ]
    },
    {
      "cell_type": "code",
      "metadata": {
        "colab": {
          "base_uri": "https://localhost:8080/"
        },
        "id": "lB-D-oNMMRGI",
        "outputId": "3be6fcbf-b332-408e-856b-c9c9d4f8a7b2"
      },
      "source": [
        "print('Coefficients: \\n', regr.coef_)# The coefficients"
      ],
      "execution_count": 46,
      "outputs": [
        {
          "output_type": "stream",
          "name": "stdout",
          "text": [
            "Coefficients: \n",
            " [[2.82833925]]\n"
          ]
        }
      ]
    },
    {
      "cell_type": "code",
      "metadata": {
        "colab": {
          "base_uri": "https://localhost:8080/"
        },
        "id": "AY6-RvUcTn1V",
        "outputId": "09240e6e-91ae-4b50-94da-671f666087ec"
      },
      "source": [
        "# The mean squared error\n",
        "print('Mean squared error: %.2f'% mean_squared_error(y_test, y_pred))"
      ],
      "execution_count": 47,
      "outputs": [
        {
          "output_type": "stream",
          "name": "stdout",
          "text": [
            "Mean squared error: 739813.93\n"
          ]
        }
      ]
    },
    {
      "cell_type": "code",
      "metadata": {
        "colab": {
          "base_uri": "https://localhost:8080/"
        },
        "id": "TaB5gl-5VhxN",
        "outputId": "229b012f-bf40-4edd-eb5f-db896d33ce38"
      },
      "source": [
        "print('check_lr', (np.sqrt(mean_squared_error(y_test, y_pred))))"
      ],
      "execution_count": 48,
      "outputs": [
        {
          "output_type": "stream",
          "name": "stdout",
          "text": [
            "check_lr 860.1243713181761\n"
          ]
        }
      ]
    },
    {
      "cell_type": "code",
      "metadata": {
        "id": "pcCh50jjUNHa"
      },
      "source": [
        "# The coefficient of determination: 1 is perfect prediction\n",
        "#print('Coefficient of determination: %.2f'% r2_score(y_test, y_pred))"
      ],
      "execution_count": null,
      "outputs": []
    },
    {
      "cell_type": "code",
      "metadata": {
        "colab": {
          "base_uri": "https://localhost:8080/",
          "height": 419
        },
        "id": "YZkc9yYbhumm",
        "outputId": "5cb98298-ee83-4a56-e673-335af119b226"
      },
      "source": [
        "x_test"
      ],
      "execution_count": 49,
      "outputs": [
        {
          "output_type": "execute_result",
          "data": {
            "text/html": [
              "<div>\n",
              "<style scoped>\n",
              "    .dataframe tbody tr th:only-of-type {\n",
              "        vertical-align: middle;\n",
              "    }\n",
              "\n",
              "    .dataframe tbody tr th {\n",
              "        vertical-align: top;\n",
              "    }\n",
              "\n",
              "    .dataframe thead th {\n",
              "        text-align: right;\n",
              "    }\n",
              "</style>\n",
              "<table border=\"1\" class=\"dataframe\">\n",
              "  <thead>\n",
              "    <tr style=\"text-align: right;\">\n",
              "      <th></th>\n",
              "      <th>len_title</th>\n",
              "    </tr>\n",
              "  </thead>\n",
              "  <tbody>\n",
              "    <tr>\n",
              "      <th>35011</th>\n",
              "      <td>70</td>\n",
              "    </tr>\n",
              "    <tr>\n",
              "      <th>16667</th>\n",
              "      <td>57</td>\n",
              "    </tr>\n",
              "    <tr>\n",
              "      <th>34780</th>\n",
              "      <td>27</td>\n",
              "    </tr>\n",
              "    <tr>\n",
              "      <th>22366</th>\n",
              "      <td>63</td>\n",
              "    </tr>\n",
              "    <tr>\n",
              "      <th>9340</th>\n",
              "      <td>73</td>\n",
              "    </tr>\n",
              "    <tr>\n",
              "      <th>...</th>\n",
              "      <td>...</td>\n",
              "    </tr>\n",
              "    <tr>\n",
              "      <th>18085</th>\n",
              "      <td>50</td>\n",
              "    </tr>\n",
              "    <tr>\n",
              "      <th>10780</th>\n",
              "      <td>23</td>\n",
              "    </tr>\n",
              "    <tr>\n",
              "      <th>6890</th>\n",
              "      <td>37</td>\n",
              "    </tr>\n",
              "    <tr>\n",
              "      <th>20973</th>\n",
              "      <td>55</td>\n",
              "    </tr>\n",
              "    <tr>\n",
              "      <th>32301</th>\n",
              "      <td>80</td>\n",
              "    </tr>\n",
              "  </tbody>\n",
              "</table>\n",
              "<p>30914 rows × 1 columns</p>\n",
              "</div>"
            ],
            "text/plain": [
              "       len_title\n",
              "35011         70\n",
              "16667         57\n",
              "34780         27\n",
              "22366         63\n",
              "9340          73\n",
              "...          ...\n",
              "18085         50\n",
              "10780         23\n",
              "6890          37\n",
              "20973         55\n",
              "32301         80\n",
              "\n",
              "[30914 rows x 1 columns]"
            ]
          },
          "metadata": {},
          "execution_count": 49
        }
      ]
    },
    {
      "cell_type": "code",
      "metadata": {
        "colab": {
          "base_uri": "https://localhost:8080/",
          "height": 419
        },
        "id": "kfj2MT5Whw_w",
        "outputId": "bf8e41cc-8d98-4fbd-eb75-699c3c00b6e2"
      },
      "source": [
        "y_test"
      ],
      "execution_count": 50,
      "outputs": [
        {
          "output_type": "execute_result",
          "data": {
            "text/html": [
              "<div>\n",
              "<style scoped>\n",
              "    .dataframe tbody tr th:only-of-type {\n",
              "        vertical-align: middle;\n",
              "    }\n",
              "\n",
              "    .dataframe tbody tr th {\n",
              "        vertical-align: top;\n",
              "    }\n",
              "\n",
              "    .dataframe thead th {\n",
              "        text-align: right;\n",
              "    }\n",
              "</style>\n",
              "<table border=\"1\" class=\"dataframe\">\n",
              "  <thead>\n",
              "    <tr style=\"text-align: right;\">\n",
              "      <th></th>\n",
              "      <th>desc_len</th>\n",
              "    </tr>\n",
              "  </thead>\n",
              "  <tbody>\n",
              "    <tr>\n",
              "      <th>35011</th>\n",
              "      <td>1995</td>\n",
              "    </tr>\n",
              "    <tr>\n",
              "      <th>16667</th>\n",
              "      <td>806</td>\n",
              "    </tr>\n",
              "    <tr>\n",
              "      <th>34780</th>\n",
              "      <td>1722</td>\n",
              "    </tr>\n",
              "    <tr>\n",
              "      <th>22366</th>\n",
              "      <td>2724</td>\n",
              "    </tr>\n",
              "    <tr>\n",
              "      <th>9340</th>\n",
              "      <td>1014</td>\n",
              "    </tr>\n",
              "    <tr>\n",
              "      <th>...</th>\n",
              "      <td>...</td>\n",
              "    </tr>\n",
              "    <tr>\n",
              "      <th>18085</th>\n",
              "      <td>180</td>\n",
              "    </tr>\n",
              "    <tr>\n",
              "      <th>10780</th>\n",
              "      <td>60</td>\n",
              "    </tr>\n",
              "    <tr>\n",
              "      <th>6890</th>\n",
              "      <td>507</td>\n",
              "    </tr>\n",
              "    <tr>\n",
              "      <th>20973</th>\n",
              "      <td>1947</td>\n",
              "    </tr>\n",
              "    <tr>\n",
              "      <th>32301</th>\n",
              "      <td>266</td>\n",
              "    </tr>\n",
              "  </tbody>\n",
              "</table>\n",
              "<p>30914 rows × 1 columns</p>\n",
              "</div>"
            ],
            "text/plain": [
              "       desc_len\n",
              "35011      1995\n",
              "16667       806\n",
              "34780      1722\n",
              "22366      2724\n",
              "9340       1014\n",
              "...         ...\n",
              "18085       180\n",
              "10780        60\n",
              "6890        507\n",
              "20973      1947\n",
              "32301       266\n",
              "\n",
              "[30914 rows x 1 columns]"
            ]
          },
          "metadata": {},
          "execution_count": 50
        }
      ]
    },
    {
      "cell_type": "code",
      "metadata": {
        "id": "LbP_iwQ2q87j"
      },
      "source": [
        "from sklearn.decomposition import PCA"
      ],
      "execution_count": 51,
      "outputs": []
    },
    {
      "cell_type": "code",
      "metadata": {
        "id": "H42yKLeruKcr"
      },
      "source": [
        "from sklearn.preprocessing import StandardScaler"
      ],
      "execution_count": 52,
      "outputs": []
    },
    {
      "cell_type": "code",
      "metadata": {
        "id": "3Gl_m6sduTaE"
      },
      "source": [
        "sc = StandardScaler()"
      ],
      "execution_count": 53,
      "outputs": []
    },
    {
      "cell_type": "code",
      "metadata": {
        "colab": {
          "base_uri": "https://localhost:8080/",
          "height": 1000
        },
        "id": "sK1YUIckYuWA",
        "outputId": "3530d5c4-94c9-4a64-9f7b-c382e3731e4c"
      },
      "source": [
        "combined_data"
      ],
      "execution_count": 54,
      "outputs": [
        {
          "output_type": "execute_result",
          "data": {
            "text/html": [
              "<div>\n",
              "<style scoped>\n",
              "    .dataframe tbody tr th:only-of-type {\n",
              "        vertical-align: middle;\n",
              "    }\n",
              "\n",
              "    .dataframe tbody tr th {\n",
              "        vertical-align: top;\n",
              "    }\n",
              "\n",
              "    .dataframe thead th {\n",
              "        text-align: right;\n",
              "    }\n",
              "</style>\n",
              "<table border=\"1\" class=\"dataframe\">\n",
              "  <thead>\n",
              "    <tr style=\"text-align: right;\">\n",
              "      <th></th>\n",
              "      <th>video_id</th>\n",
              "      <th>trending_date</th>\n",
              "      <th>title</th>\n",
              "      <th>channel_title</th>\n",
              "      <th>category_id</th>\n",
              "      <th>publish_time</th>\n",
              "      <th>tags</th>\n",
              "      <th>views</th>\n",
              "      <th>likes</th>\n",
              "      <th>dislikes</th>\n",
              "      <th>comment_count</th>\n",
              "      <th>thumbnail_link</th>\n",
              "      <th>comments_disabled</th>\n",
              "      <th>ratings_disabled</th>\n",
              "      <th>video_error_or_removed</th>\n",
              "      <th>description</th>\n",
              "      <th>Country</th>\n",
              "      <th>views_log</th>\n",
              "      <th>likes_log</th>\n",
              "      <th>dislikes_log</th>\n",
              "      <th>comment_log</th>\n",
              "      <th>len_title</th>\n",
              "      <th>desc_len</th>\n",
              "      <th>num_tags</th>\n",
              "    </tr>\n",
              "  </thead>\n",
              "  <tbody>\n",
              "    <tr>\n",
              "      <th>0</th>\n",
              "      <td>kzwfHumJyYc</td>\n",
              "      <td>17.14.11</td>\n",
              "      <td>Sharry Mann: Cute Munda ( Song Teaser) | Parmi...</td>\n",
              "      <td>Lokdhun Punjabi</td>\n",
              "      <td>1</td>\n",
              "      <td>2017-11-12T12:20:39.000Z</td>\n",
              "      <td>sharry mann|\"sharry mann new song\"|\"sharry man...</td>\n",
              "      <td>1096328</td>\n",
              "      <td>33967</td>\n",
              "      <td>799</td>\n",
              "      <td>883</td>\n",
              "      <td>https://i.ytimg.com/vi/kzwfHumJyYc/default.jpg</td>\n",
              "      <td>False</td>\n",
              "      <td>False</td>\n",
              "      <td>False</td>\n",
              "      <td>Presenting Sharry Mann latest Punjabi Song  Cu...</td>\n",
              "      <td>India</td>\n",
              "      <td>13.907477</td>\n",
              "      <td>10.433145</td>\n",
              "      <td>6.683361</td>\n",
              "      <td>6.783325</td>\n",
              "      <td>81</td>\n",
              "      <td>920</td>\n",
              "      <td>378</td>\n",
              "    </tr>\n",
              "    <tr>\n",
              "      <th>1</th>\n",
              "      <td>zUZ1z7FwLc8</td>\n",
              "      <td>17.14.11</td>\n",
              "      <td>पीरियड्स के समय, पेट पर पति करता ऐसा, देखकर दं...</td>\n",
              "      <td>HJ NEWS</td>\n",
              "      <td>25</td>\n",
              "      <td>2017-11-13T05:43:56.000Z</td>\n",
              "      <td>पीरियड्स के समय|\"पेट पर पति करता ऐसा\"|\"देखकर द...</td>\n",
              "      <td>590102</td>\n",
              "      <td>736</td>\n",
              "      <td>905</td>\n",
              "      <td>1</td>\n",
              "      <td>https://i.ytimg.com/vi/zUZ1z7FwLc8/default.jpg</td>\n",
              "      <td>True</td>\n",
              "      <td>False</td>\n",
              "      <td>False</td>\n",
              "      <td>पीरियड्स के समय, पेट पर पति करता ऐसा, देखकर दं...</td>\n",
              "      <td>India</td>\n",
              "      <td>13.288051</td>\n",
              "      <td>6.601230</td>\n",
              "      <td>6.807935</td>\n",
              "      <td>0.000000</td>\n",
              "      <td>58</td>\n",
              "      <td>2232</td>\n",
              "      <td>294</td>\n",
              "    </tr>\n",
              "    <tr>\n",
              "      <th>2</th>\n",
              "      <td>10L1hZ9qa58</td>\n",
              "      <td>17.14.11</td>\n",
              "      <td>Stylish Star Allu Arjun @ ChaySam Wedding Rece...</td>\n",
              "      <td>TFPC</td>\n",
              "      <td>24</td>\n",
              "      <td>2017-11-12T15:48:08.000Z</td>\n",
              "      <td>Stylish Star Allu Arjun @ ChaySam Wedding Rece...</td>\n",
              "      <td>473989</td>\n",
              "      <td>2012</td>\n",
              "      <td>244</td>\n",
              "      <td>150</td>\n",
              "      <td>https://i.ytimg.com/vi/10L1hZ9qa58/default.jpg</td>\n",
              "      <td>False</td>\n",
              "      <td>False</td>\n",
              "      <td>False</td>\n",
              "      <td>Watch Stylish Star Allu Arjun @ ChaySam Weddin...</td>\n",
              "      <td>India</td>\n",
              "      <td>13.068939</td>\n",
              "      <td>7.606885</td>\n",
              "      <td>5.497168</td>\n",
              "      <td>5.010635</td>\n",
              "      <td>58</td>\n",
              "      <td>482</td>\n",
              "      <td>327</td>\n",
              "    </tr>\n",
              "    <tr>\n",
              "      <th>3</th>\n",
              "      <td>N1vE8iiEg64</td>\n",
              "      <td>17.14.11</td>\n",
              "      <td>Eruma Saani | Tamil vs English</td>\n",
              "      <td>Eruma Saani</td>\n",
              "      <td>23</td>\n",
              "      <td>2017-11-12T07:08:48.000Z</td>\n",
              "      <td>Eruma Saani|\"Tamil Comedy Videos\"|\"Films\"|\"Mov...</td>\n",
              "      <td>1242681</td>\n",
              "      <td>70354</td>\n",
              "      <td>1625</td>\n",
              "      <td>2685</td>\n",
              "      <td>https://i.ytimg.com/vi/N1vE8iiEg64/default.jpg</td>\n",
              "      <td>False</td>\n",
              "      <td>False</td>\n",
              "      <td>False</td>\n",
              "      <td>This video showcases the difference between pe...</td>\n",
              "      <td>India</td>\n",
              "      <td>14.032782</td>\n",
              "      <td>11.161295</td>\n",
              "      <td>7.393263</td>\n",
              "      <td>7.895436</td>\n",
              "      <td>30</td>\n",
              "      <td>263</td>\n",
              "      <td>305</td>\n",
              "    </tr>\n",
              "    <tr>\n",
              "      <th>4</th>\n",
              "      <td>kJzGH0PVQHQ</td>\n",
              "      <td>17.14.11</td>\n",
              "      <td>why Samantha became EMOTIONAL @ Samantha naga ...</td>\n",
              "      <td>Filmylooks</td>\n",
              "      <td>24</td>\n",
              "      <td>2017-11-13T01:14:16.000Z</td>\n",
              "      <td>Filmylooks|\"latest news\"|\"telugu movies\"|\"telu...</td>\n",
              "      <td>464016</td>\n",
              "      <td>493</td>\n",
              "      <td>294</td>\n",
              "      <td>67</td>\n",
              "      <td>https://i.ytimg.com/vi/kJzGH0PVQHQ/default.jpg</td>\n",
              "      <td>False</td>\n",
              "      <td>False</td>\n",
              "      <td>False</td>\n",
              "      <td>why Samantha became EMOTIONAL @ Samantha naga ...</td>\n",
              "      <td>India</td>\n",
              "      <td>13.047674</td>\n",
              "      <td>6.200509</td>\n",
              "      <td>5.683580</td>\n",
              "      <td>4.204693</td>\n",
              "      <td>88</td>\n",
              "      <td>753</td>\n",
              "      <td>319</td>\n",
              "    </tr>\n",
              "    <tr>\n",
              "      <th>...</th>\n",
              "      <td>...</td>\n",
              "      <td>...</td>\n",
              "      <td>...</td>\n",
              "      <td>...</td>\n",
              "      <td>...</td>\n",
              "      <td>...</td>\n",
              "      <td>...</td>\n",
              "      <td>...</td>\n",
              "      <td>...</td>\n",
              "      <td>...</td>\n",
              "      <td>...</td>\n",
              "      <td>...</td>\n",
              "      <td>...</td>\n",
              "      <td>...</td>\n",
              "      <td>...</td>\n",
              "      <td>...</td>\n",
              "      <td>...</td>\n",
              "      <td>...</td>\n",
              "      <td>...</td>\n",
              "      <td>...</td>\n",
              "      <td>...</td>\n",
              "      <td>...</td>\n",
              "      <td>...</td>\n",
              "      <td>...</td>\n",
              "    </tr>\n",
              "    <tr>\n",
              "      <th>40943</th>\n",
              "      <td>1PhPYr_9zRY</td>\n",
              "      <td>18.14.06</td>\n",
              "      <td>BTS Plays With Puppies While Answering Fan Que...</td>\n",
              "      <td>BuzzFeed Celeb</td>\n",
              "      <td>22</td>\n",
              "      <td>2018-05-18T16:39:29.000Z</td>\n",
              "      <td>BuzzFeed|\"BuzzFeedVideo\"|\"Puppy Interview\"|\"pu...</td>\n",
              "      <td>8259129</td>\n",
              "      <td>645889</td>\n",
              "      <td>4053</td>\n",
              "      <td>62611</td>\n",
              "      <td>https://i.ytimg.com/vi/1PhPYr_9zRY/default.jpg</td>\n",
              "      <td>False</td>\n",
              "      <td>False</td>\n",
              "      <td>False</td>\n",
              "      <td>BTS with the PPS, the puppies. These adorable ...</td>\n",
              "      <td>US</td>\n",
              "      <td>15.926830</td>\n",
              "      <td>13.378383</td>\n",
              "      <td>8.307213</td>\n",
              "      <td>11.044696</td>\n",
              "      <td>52</td>\n",
              "      <td>926</td>\n",
              "      <td>311</td>\n",
              "    </tr>\n",
              "    <tr>\n",
              "      <th>40944</th>\n",
              "      <td>BZt0qjTWNhw</td>\n",
              "      <td>18.14.06</td>\n",
              "      <td>The Cat Who Caught the Laser</td>\n",
              "      <td>AaronsAnimals</td>\n",
              "      <td>15</td>\n",
              "      <td>2018-05-18T13:00:04.000Z</td>\n",
              "      <td>aarons animals|\"aarons\"|\"animals\"|\"cat\"|\"cats\"...</td>\n",
              "      <td>1685610</td>\n",
              "      <td>38161</td>\n",
              "      <td>1386</td>\n",
              "      <td>2658</td>\n",
              "      <td>https://i.ytimg.com/vi/BZt0qjTWNhw/default.jpg</td>\n",
              "      <td>False</td>\n",
              "      <td>False</td>\n",
              "      <td>False</td>\n",
              "      <td>The Cat Who Caught the Laser - Aaron's Animals</td>\n",
              "      <td>US</td>\n",
              "      <td>14.337638</td>\n",
              "      <td>10.549569</td>\n",
              "      <td>7.234177</td>\n",
              "      <td>7.885329</td>\n",
              "      <td>28</td>\n",
              "      <td>46</td>\n",
              "      <td>134</td>\n",
              "    </tr>\n",
              "    <tr>\n",
              "      <th>40946</th>\n",
              "      <td>D6Oy4LfoqsU</td>\n",
              "      <td>18.14.06</td>\n",
              "      <td>I GAVE SAFIYA NYGAARD A PERFECT HAIR MAKEOVER ...</td>\n",
              "      <td>Brad Mondo</td>\n",
              "      <td>24</td>\n",
              "      <td>2018-05-18T17:34:22.000Z</td>\n",
              "      <td>I gave safiya nygaard a perfect hair makeover ...</td>\n",
              "      <td>1066452</td>\n",
              "      <td>48069</td>\n",
              "      <td>1033</td>\n",
              "      <td>3993</td>\n",
              "      <td>https://i.ytimg.com/vi/D6Oy4LfoqsU/default.jpg</td>\n",
              "      <td>False</td>\n",
              "      <td>False</td>\n",
              "      <td>False</td>\n",
              "      <td>I had so much fun transforming Safiyas hair in...</td>\n",
              "      <td>US</td>\n",
              "      <td>13.879848</td>\n",
              "      <td>10.780393</td>\n",
              "      <td>6.940222</td>\n",
              "      <td>8.292298</td>\n",
              "      <td>84</td>\n",
              "      <td>775</td>\n",
              "      <td>492</td>\n",
              "    </tr>\n",
              "    <tr>\n",
              "      <th>40947</th>\n",
              "      <td>oV0zkMe1K8s</td>\n",
              "      <td>18.14.06</td>\n",
              "      <td>How Black Panther Should Have Ended</td>\n",
              "      <td>How It Should Have Ended</td>\n",
              "      <td>1</td>\n",
              "      <td>2018-05-17T17:00:04.000Z</td>\n",
              "      <td>Black Panther|\"HISHE\"|\"Marvel\"|\"Infinity War\"|...</td>\n",
              "      <td>5660814</td>\n",
              "      <td>192958</td>\n",
              "      <td>2847</td>\n",
              "      <td>13089</td>\n",
              "      <td>https://i.ytimg.com/vi/oV0zkMe1K8s/default.jpg</td>\n",
              "      <td>False</td>\n",
              "      <td>False</td>\n",
              "      <td>False</td>\n",
              "      <td>How Black Panther Should Have EndedWatch More ...</td>\n",
              "      <td>US</td>\n",
              "      <td>15.549078</td>\n",
              "      <td>12.170228</td>\n",
              "      <td>7.954021</td>\n",
              "      <td>9.479527</td>\n",
              "      <td>35</td>\n",
              "      <td>3268</td>\n",
              "      <td>295</td>\n",
              "    </tr>\n",
              "    <tr>\n",
              "      <th>40948</th>\n",
              "      <td>ooyjaVdt-jA</td>\n",
              "      <td>18.14.06</td>\n",
              "      <td>Official Call of Duty®: Black Ops 4 — Multipla...</td>\n",
              "      <td>Call of Duty</td>\n",
              "      <td>20</td>\n",
              "      <td>2018-05-17T17:09:38.000Z</td>\n",
              "      <td>call of duty|\"cod\"|\"activision\"|\"Black Ops 4\"</td>\n",
              "      <td>10306120</td>\n",
              "      <td>357080</td>\n",
              "      <td>212977</td>\n",
              "      <td>144796</td>\n",
              "      <td>https://i.ytimg.com/vi/ooyjaVdt-jA/default.jpg</td>\n",
              "      <td>False</td>\n",
              "      <td>False</td>\n",
              "      <td>False</td>\n",
              "      <td>Call of Duty: Black Ops 4 Multiplayer raises t...</td>\n",
              "      <td>US</td>\n",
              "      <td>16.148248</td>\n",
              "      <td>12.785715</td>\n",
              "      <td>12.268939</td>\n",
              "      <td>11.883081</td>\n",
              "      <td>64</td>\n",
              "      <td>709</td>\n",
              "      <td>45</td>\n",
              "    </tr>\n",
              "  </tbody>\n",
              "</table>\n",
              "<p>154567 rows × 24 columns</p>\n",
              "</div>"
            ],
            "text/plain": [
              "          video_id trending_date  ... desc_len num_tags\n",
              "0      kzwfHumJyYc      17.14.11  ...      920      378\n",
              "1      zUZ1z7FwLc8      17.14.11  ...     2232      294\n",
              "2      10L1hZ9qa58      17.14.11  ...      482      327\n",
              "3      N1vE8iiEg64      17.14.11  ...      263      305\n",
              "4      kJzGH0PVQHQ      17.14.11  ...      753      319\n",
              "...            ...           ...  ...      ...      ...\n",
              "40943  1PhPYr_9zRY      18.14.06  ...      926      311\n",
              "40944  BZt0qjTWNhw      18.14.06  ...       46      134\n",
              "40946  D6Oy4LfoqsU      18.14.06  ...      775      492\n",
              "40947  oV0zkMe1K8s      18.14.06  ...     3268      295\n",
              "40948  ooyjaVdt-jA      18.14.06  ...      709       45\n",
              "\n",
              "[154567 rows x 24 columns]"
            ]
          },
          "metadata": {},
          "execution_count": 54
        }
      ]
    },
    {
      "cell_type": "code",
      "metadata": {
        "colab": {
          "base_uri": "https://localhost:8080/",
          "height": 1000
        },
        "id": "hkdtjcXToVO3",
        "outputId": "63f438f9-b303-4b03-f1ac-33fd1c57fe03"
      },
      "source": [
        "combined_data.set_index('video_id')"
      ],
      "execution_count": 87,
      "outputs": [
        {
          "output_type": "execute_result",
          "data": {
            "text/html": [
              "<div>\n",
              "<style scoped>\n",
              "    .dataframe tbody tr th:only-of-type {\n",
              "        vertical-align: middle;\n",
              "    }\n",
              "\n",
              "    .dataframe tbody tr th {\n",
              "        vertical-align: top;\n",
              "    }\n",
              "\n",
              "    .dataframe thead th {\n",
              "        text-align: right;\n",
              "    }\n",
              "</style>\n",
              "<table border=\"1\" class=\"dataframe\">\n",
              "  <thead>\n",
              "    <tr style=\"text-align: right;\">\n",
              "      <th></th>\n",
              "      <th>trending_date</th>\n",
              "      <th>title</th>\n",
              "      <th>channel_title</th>\n",
              "      <th>category_id</th>\n",
              "      <th>publish_time</th>\n",
              "      <th>tags</th>\n",
              "      <th>views</th>\n",
              "      <th>likes</th>\n",
              "      <th>dislikes</th>\n",
              "      <th>comment_count</th>\n",
              "      <th>thumbnail_link</th>\n",
              "      <th>comments_disabled</th>\n",
              "      <th>ratings_disabled</th>\n",
              "      <th>video_error_or_removed</th>\n",
              "      <th>description</th>\n",
              "      <th>Country</th>\n",
              "      <th>views_log</th>\n",
              "      <th>likes_log</th>\n",
              "      <th>dislikes_log</th>\n",
              "      <th>comment_log</th>\n",
              "      <th>len_title</th>\n",
              "      <th>desc_len</th>\n",
              "      <th>num_tags</th>\n",
              "      <th>publsh_time</th>\n",
              "      <th>publish_date</th>\n",
              "      <th>publish_weekday</th>\n",
              "    </tr>\n",
              "    <tr>\n",
              "      <th>video_id</th>\n",
              "      <th></th>\n",
              "      <th></th>\n",
              "      <th></th>\n",
              "      <th></th>\n",
              "      <th></th>\n",
              "      <th></th>\n",
              "      <th></th>\n",
              "      <th></th>\n",
              "      <th></th>\n",
              "      <th></th>\n",
              "      <th></th>\n",
              "      <th></th>\n",
              "      <th></th>\n",
              "      <th></th>\n",
              "      <th></th>\n",
              "      <th></th>\n",
              "      <th></th>\n",
              "      <th></th>\n",
              "      <th></th>\n",
              "      <th></th>\n",
              "      <th></th>\n",
              "      <th></th>\n",
              "      <th></th>\n",
              "      <th></th>\n",
              "      <th></th>\n",
              "      <th></th>\n",
              "    </tr>\n",
              "  </thead>\n",
              "  <tbody>\n",
              "    <tr>\n",
              "      <th>50513</th>\n",
              "      <td>13</td>\n",
              "      <td>Sharry Mann: Cute Munda ( Song Teaser) | Parmi...</td>\n",
              "      <td>13</td>\n",
              "      <td>1</td>\n",
              "      <td>2017-11-12T12:20:39.000Z</td>\n",
              "      <td>sharry mann|\"sharry mann new song\"|\"sharry man...</td>\n",
              "      <td>1096328</td>\n",
              "      <td>33967</td>\n",
              "      <td>799</td>\n",
              "      <td>883</td>\n",
              "      <td>https://i.ytimg.com/vi/kzwfHumJyYc/default.jpg</td>\n",
              "      <td>False</td>\n",
              "      <td>False</td>\n",
              "      <td>False</td>\n",
              "      <td>34244</td>\n",
              "      <td>2</td>\n",
              "      <td>13.907477</td>\n",
              "      <td>10.433145</td>\n",
              "      <td>6.683361</td>\n",
              "      <td>6.783325</td>\n",
              "      <td>81</td>\n",
              "      <td>920</td>\n",
              "      <td>378</td>\n",
              "      <td>14777</td>\n",
              "      <td>173</td>\n",
              "      <td>6</td>\n",
              "    </tr>\n",
              "    <tr>\n",
              "      <th>65349</th>\n",
              "      <td>13</td>\n",
              "      <td>पीरियड्स के समय, पेट पर पति करता ऐसा, देखकर दं...</td>\n",
              "      <td>13</td>\n",
              "      <td>25</td>\n",
              "      <td>2017-11-13T05:43:56.000Z</td>\n",
              "      <td>पीरियड्स के समय|\"पेट पर पति करता ऐसा\"|\"देखकर द...</td>\n",
              "      <td>590102</td>\n",
              "      <td>736</td>\n",
              "      <td>905</td>\n",
              "      <td>1</td>\n",
              "      <td>https://i.ytimg.com/vi/zUZ1z7FwLc8/default.jpg</td>\n",
              "      <td>True</td>\n",
              "      <td>False</td>\n",
              "      <td>False</td>\n",
              "      <td>56113</td>\n",
              "      <td>2</td>\n",
              "      <td>13.288051</td>\n",
              "      <td>6.601230</td>\n",
              "      <td>6.807935</td>\n",
              "      <td>0.000000</td>\n",
              "      <td>58</td>\n",
              "      <td>2232</td>\n",
              "      <td>294</td>\n",
              "      <td>6236</td>\n",
              "      <td>174</td>\n",
              "      <td>0</td>\n",
              "    </tr>\n",
              "    <tr>\n",
              "      <th>1944</th>\n",
              "      <td>13</td>\n",
              "      <td>Stylish Star Allu Arjun @ ChaySam Wedding Rece...</td>\n",
              "      <td>13</td>\n",
              "      <td>24</td>\n",
              "      <td>2017-11-12T15:48:08.000Z</td>\n",
              "      <td>Stylish Star Allu Arjun @ ChaySam Wedding Rece...</td>\n",
              "      <td>473989</td>\n",
              "      <td>2012</td>\n",
              "      <td>244</td>\n",
              "      <td>150</td>\n",
              "      <td>https://i.ytimg.com/vi/10L1hZ9qa58/default.jpg</td>\n",
              "      <td>False</td>\n",
              "      <td>False</td>\n",
              "      <td>False</td>\n",
              "      <td>49390</td>\n",
              "      <td>2</td>\n",
              "      <td>13.068939</td>\n",
              "      <td>7.606885</td>\n",
              "      <td>5.497168</td>\n",
              "      <td>5.010635</td>\n",
              "      <td>58</td>\n",
              "      <td>482</td>\n",
              "      <td>327</td>\n",
              "      <td>21049</td>\n",
              "      <td>173</td>\n",
              "      <td>6</td>\n",
              "    </tr>\n",
              "    <tr>\n",
              "      <th>24760</th>\n",
              "      <td>13</td>\n",
              "      <td>Eruma Saani | Tamil vs English</td>\n",
              "      <td>13</td>\n",
              "      <td>23</td>\n",
              "      <td>2017-11-12T07:08:48.000Z</td>\n",
              "      <td>Eruma Saani|\"Tamil Comedy Videos\"|\"Films\"|\"Mov...</td>\n",
              "      <td>1242681</td>\n",
              "      <td>70354</td>\n",
              "      <td>1625</td>\n",
              "      <td>2685</td>\n",
              "      <td>https://i.ytimg.com/vi/N1vE8iiEg64/default.jpg</td>\n",
              "      <td>False</td>\n",
              "      <td>False</td>\n",
              "      <td>False</td>\n",
              "      <td>44542</td>\n",
              "      <td>2</td>\n",
              "      <td>14.032782</td>\n",
              "      <td>11.161295</td>\n",
              "      <td>7.393263</td>\n",
              "      <td>7.895436</td>\n",
              "      <td>30</td>\n",
              "      <td>263</td>\n",
              "      <td>305</td>\n",
              "      <td>7790</td>\n",
              "      <td>173</td>\n",
              "      <td>6</td>\n",
              "    </tr>\n",
              "    <tr>\n",
              "      <th>49851</th>\n",
              "      <td>13</td>\n",
              "      <td>why Samantha became EMOTIONAL @ Samantha naga ...</td>\n",
              "      <td>13</td>\n",
              "      <td>24</td>\n",
              "      <td>2017-11-13T01:14:16.000Z</td>\n",
              "      <td>Filmylooks|\"latest news\"|\"telugu movies\"|\"telu...</td>\n",
              "      <td>464016</td>\n",
              "      <td>493</td>\n",
              "      <td>294</td>\n",
              "      <td>67</td>\n",
              "      <td>https://i.ytimg.com/vi/kJzGH0PVQHQ/default.jpg</td>\n",
              "      <td>False</td>\n",
              "      <td>False</td>\n",
              "      <td>False</td>\n",
              "      <td>53318</td>\n",
              "      <td>2</td>\n",
              "      <td>13.047674</td>\n",
              "      <td>6.200509</td>\n",
              "      <td>5.683580</td>\n",
              "      <td>4.204693</td>\n",
              "      <td>88</td>\n",
              "      <td>753</td>\n",
              "      <td>319</td>\n",
              "      <td>1298</td>\n",
              "      <td>174</td>\n",
              "      <td>0</td>\n",
              "    </tr>\n",
              "    <tr>\n",
              "      <th>...</th>\n",
              "      <td>...</td>\n",
              "      <td>...</td>\n",
              "      <td>...</td>\n",
              "      <td>...</td>\n",
              "      <td>...</td>\n",
              "      <td>...</td>\n",
              "      <td>...</td>\n",
              "      <td>...</td>\n",
              "      <td>...</td>\n",
              "      <td>...</td>\n",
              "      <td>...</td>\n",
              "      <td>...</td>\n",
              "      <td>...</td>\n",
              "      <td>...</td>\n",
              "      <td>...</td>\n",
              "      <td>...</td>\n",
              "      <td>...</td>\n",
              "      <td>...</td>\n",
              "      <td>...</td>\n",
              "      <td>...</td>\n",
              "      <td>...</td>\n",
              "      <td>...</td>\n",
              "      <td>...</td>\n",
              "      <td>...</td>\n",
              "      <td>...</td>\n",
              "      <td>...</td>\n",
              "    </tr>\n",
              "    <tr>\n",
              "      <th>2360</th>\n",
              "      <td>123</td>\n",
              "      <td>BTS Plays With Puppies While Answering Fan Que...</td>\n",
              "      <td>123</td>\n",
              "      <td>22</td>\n",
              "      <td>2018-05-18T16:39:29.000Z</td>\n",
              "      <td>BuzzFeed|\"BuzzFeedVideo\"|\"Puppy Interview\"|\"pu...</td>\n",
              "      <td>8259129</td>\n",
              "      <td>645889</td>\n",
              "      <td>4053</td>\n",
              "      <td>62611</td>\n",
              "      <td>https://i.ytimg.com/vi/1PhPYr_9zRY/default.jpg</td>\n",
              "      <td>False</td>\n",
              "      <td>False</td>\n",
              "      <td>False</td>\n",
              "      <td>6426</td>\n",
              "      <td>3</td>\n",
              "      <td>15.926830</td>\n",
              "      <td>13.378383</td>\n",
              "      <td>8.307213</td>\n",
              "      <td>11.044696</td>\n",
              "      <td>52</td>\n",
              "      <td>926</td>\n",
              "      <td>311</td>\n",
              "      <td>23128</td>\n",
              "      <td>360</td>\n",
              "      <td>4</td>\n",
              "    </tr>\n",
              "    <tr>\n",
              "      <th>12873</th>\n",
              "      <td>123</td>\n",
              "      <td>The Cat Who Caught the Laser</td>\n",
              "      <td>123</td>\n",
              "      <td>15</td>\n",
              "      <td>2018-05-18T13:00:04.000Z</td>\n",
              "      <td>aarons animals|\"aarons\"|\"animals\"|\"cat\"|\"cats\"...</td>\n",
              "      <td>1685610</td>\n",
              "      <td>38161</td>\n",
              "      <td>1386</td>\n",
              "      <td>2658</td>\n",
              "      <td>https://i.ytimg.com/vi/BZt0qjTWNhw/default.jpg</td>\n",
              "      <td>False</td>\n",
              "      <td>False</td>\n",
              "      <td>False</td>\n",
              "      <td>42604</td>\n",
              "      <td>3</td>\n",
              "      <td>14.337638</td>\n",
              "      <td>10.549569</td>\n",
              "      <td>7.234177</td>\n",
              "      <td>7.885329</td>\n",
              "      <td>28</td>\n",
              "      <td>46</td>\n",
              "      <td>134</td>\n",
              "      <td>15819</td>\n",
              "      <td>360</td>\n",
              "      <td>4</td>\n",
              "    </tr>\n",
              "    <tr>\n",
              "      <th>14457</th>\n",
              "      <td>123</td>\n",
              "      <td>I GAVE SAFIYA NYGAARD A PERFECT HAIR MAKEOVER ...</td>\n",
              "      <td>123</td>\n",
              "      <td>24</td>\n",
              "      <td>2018-05-18T17:34:22.000Z</td>\n",
              "      <td>I gave safiya nygaard a perfect hair makeover ...</td>\n",
              "      <td>1066452</td>\n",
              "      <td>48069</td>\n",
              "      <td>1033</td>\n",
              "      <td>3993</td>\n",
              "      <td>https://i.ytimg.com/vi/D6Oy4LfoqsU/default.jpg</td>\n",
              "      <td>False</td>\n",
              "      <td>False</td>\n",
              "      <td>False</td>\n",
              "      <td>19452</td>\n",
              "      <td>3</td>\n",
              "      <td>13.879848</td>\n",
              "      <td>10.780393</td>\n",
              "      <td>6.940222</td>\n",
              "      <td>8.292298</td>\n",
              "      <td>84</td>\n",
              "      <td>775</td>\n",
              "      <td>492</td>\n",
              "      <td>25298</td>\n",
              "      <td>360</td>\n",
              "      <td>4</td>\n",
              "    </tr>\n",
              "    <tr>\n",
              "      <th>54136</th>\n",
              "      <td>123</td>\n",
              "      <td>How Black Panther Should Have Ended</td>\n",
              "      <td>123</td>\n",
              "      <td>1</td>\n",
              "      <td>2018-05-17T17:00:04.000Z</td>\n",
              "      <td>Black Panther|\"HISHE\"|\"Marvel\"|\"Infinity War\"|...</td>\n",
              "      <td>5660814</td>\n",
              "      <td>192958</td>\n",
              "      <td>2847</td>\n",
              "      <td>13089</td>\n",
              "      <td>https://i.ytimg.com/vi/oV0zkMe1K8s/default.jpg</td>\n",
              "      <td>False</td>\n",
              "      <td>False</td>\n",
              "      <td>False</td>\n",
              "      <td>19063</td>\n",
              "      <td>3</td>\n",
              "      <td>15.549078</td>\n",
              "      <td>12.170228</td>\n",
              "      <td>7.954021</td>\n",
              "      <td>9.479527</td>\n",
              "      <td>35</td>\n",
              "      <td>3268</td>\n",
              "      <td>295</td>\n",
              "      <td>23903</td>\n",
              "      <td>359</td>\n",
              "      <td>3</td>\n",
              "    </tr>\n",
              "    <tr>\n",
              "      <th>54501</th>\n",
              "      <td>123</td>\n",
              "      <td>Official Call of Duty®: Black Ops 4 — Multipla...</td>\n",
              "      <td>123</td>\n",
              "      <td>20</td>\n",
              "      <td>2018-05-17T17:09:38.000Z</td>\n",
              "      <td>call of duty|\"cod\"|\"activision\"|\"Black Ops 4\"</td>\n",
              "      <td>10306120</td>\n",
              "      <td>357080</td>\n",
              "      <td>212977</td>\n",
              "      <td>144796</td>\n",
              "      <td>https://i.ytimg.com/vi/ooyjaVdt-jA/default.jpg</td>\n",
              "      <td>False</td>\n",
              "      <td>False</td>\n",
              "      <td>False</td>\n",
              "      <td>8639</td>\n",
              "      <td>3</td>\n",
              "      <td>16.148248</td>\n",
              "      <td>12.785715</td>\n",
              "      <td>12.268939</td>\n",
              "      <td>11.883081</td>\n",
              "      <td>64</td>\n",
              "      <td>709</td>\n",
              "      <td>45</td>\n",
              "      <td>24334</td>\n",
              "      <td>359</td>\n",
              "      <td>3</td>\n",
              "    </tr>\n",
              "  </tbody>\n",
              "</table>\n",
              "<p>154567 rows × 26 columns</p>\n",
              "</div>"
            ],
            "text/plain": [
              "          trending_date  ... publish_weekday\n",
              "video_id                 ...                \n",
              "50513                13  ...               6\n",
              "65349                13  ...               0\n",
              "1944                 13  ...               6\n",
              "24760                13  ...               6\n",
              "49851                13  ...               0\n",
              "...                 ...  ...             ...\n",
              "2360                123  ...               4\n",
              "12873               123  ...               4\n",
              "14457               123  ...               4\n",
              "54136               123  ...               3\n",
              "54501               123  ...               3\n",
              "\n",
              "[154567 rows x 26 columns]"
            ]
          },
          "metadata": {},
          "execution_count": 87
        }
      ]
    },
    {
      "cell_type": "code",
      "metadata": {
        "id": "3gkKtbIpYrqY"
      },
      "source": [
        "y = combined_data['views_log']\n",
        "x = combined_data['likes']\n"
      ],
      "execution_count": 100,
      "outputs": []
    },
    {
      "cell_type": "code",
      "metadata": {
        "id": "NQzhwpyctgbo"
      },
      "source": [
        "y = combined_data['views_log']\n",
        "x = combined_data['likes']"
      ],
      "execution_count": 166,
      "outputs": []
    },
    {
      "cell_type": "code",
      "metadata": {
        "id": "8ypeyPm0o4g6"
      },
      "source": [
        "x = x.values.reshape(-1,1)\n",
        "y = y.values.reshape(-1,1)"
      ],
      "execution_count": 101,
      "outputs": []
    },
    {
      "cell_type": "code",
      "metadata": {
        "id": "jqqcBZkMZFuh"
      },
      "source": [
        "x_train, x_test, y_train, y_test = train_test_split(x, y, test_size=0.2)"
      ],
      "execution_count": 102,
      "outputs": []
    },
    {
      "cell_type": "code",
      "metadata": {
        "colab": {
          "base_uri": "https://localhost:8080/"
        },
        "id": "GGoVI2ldZKl_",
        "outputId": "3db00a91-00a0-48bb-b36c-5da54ad982d0"
      },
      "source": [
        "y_train"
      ],
      "execution_count": 95,
      "outputs": [
        {
          "output_type": "execute_result",
          "data": {
            "text/plain": [
              "34315    10.120291\n",
              "3662     13.140763\n",
              "26279    17.748479\n",
              "27175    12.789335\n",
              "26420    14.824853\n",
              "           ...    \n",
              "16426    12.723982\n",
              "15548    13.756674\n",
              "14862    13.379321\n",
              "40268    12.644921\n",
              "18837    10.621742\n",
              "Name: views_log, Length: 123653, dtype: float64"
            ]
          },
          "metadata": {},
          "execution_count": 95
        }
      ]
    },
    {
      "cell_type": "code",
      "metadata": {
        "colab": {
          "base_uri": "https://localhost:8080/",
          "height": 1000
        },
        "id": "rodHtuOBX1Cd",
        "outputId": "acd108f0-38de-432d-8804-466fda604a8f"
      },
      "source": [
        "combined_data"
      ],
      "execution_count": 58,
      "outputs": [
        {
          "output_type": "execute_result",
          "data": {
            "text/html": [
              "<div>\n",
              "<style scoped>\n",
              "    .dataframe tbody tr th:only-of-type {\n",
              "        vertical-align: middle;\n",
              "    }\n",
              "\n",
              "    .dataframe tbody tr th {\n",
              "        vertical-align: top;\n",
              "    }\n",
              "\n",
              "    .dataframe thead th {\n",
              "        text-align: right;\n",
              "    }\n",
              "</style>\n",
              "<table border=\"1\" class=\"dataframe\">\n",
              "  <thead>\n",
              "    <tr style=\"text-align: right;\">\n",
              "      <th></th>\n",
              "      <th>video_id</th>\n",
              "      <th>trending_date</th>\n",
              "      <th>title</th>\n",
              "      <th>channel_title</th>\n",
              "      <th>category_id</th>\n",
              "      <th>publish_time</th>\n",
              "      <th>tags</th>\n",
              "      <th>views</th>\n",
              "      <th>likes</th>\n",
              "      <th>dislikes</th>\n",
              "      <th>comment_count</th>\n",
              "      <th>thumbnail_link</th>\n",
              "      <th>comments_disabled</th>\n",
              "      <th>ratings_disabled</th>\n",
              "      <th>video_error_or_removed</th>\n",
              "      <th>description</th>\n",
              "      <th>Country</th>\n",
              "      <th>views_log</th>\n",
              "      <th>likes_log</th>\n",
              "      <th>dislikes_log</th>\n",
              "      <th>comment_log</th>\n",
              "      <th>len_title</th>\n",
              "      <th>desc_len</th>\n",
              "      <th>num_tags</th>\n",
              "    </tr>\n",
              "  </thead>\n",
              "  <tbody>\n",
              "    <tr>\n",
              "      <th>0</th>\n",
              "      <td>kzwfHumJyYc</td>\n",
              "      <td>17.14.11</td>\n",
              "      <td>Sharry Mann: Cute Munda ( Song Teaser) | Parmi...</td>\n",
              "      <td>Lokdhun Punjabi</td>\n",
              "      <td>1</td>\n",
              "      <td>2017-11-12T12:20:39.000Z</td>\n",
              "      <td>sharry mann|\"sharry mann new song\"|\"sharry man...</td>\n",
              "      <td>1096328</td>\n",
              "      <td>33967</td>\n",
              "      <td>799</td>\n",
              "      <td>883</td>\n",
              "      <td>https://i.ytimg.com/vi/kzwfHumJyYc/default.jpg</td>\n",
              "      <td>False</td>\n",
              "      <td>False</td>\n",
              "      <td>False</td>\n",
              "      <td>Presenting Sharry Mann latest Punjabi Song  Cu...</td>\n",
              "      <td>India</td>\n",
              "      <td>13.907477</td>\n",
              "      <td>10.433145</td>\n",
              "      <td>6.683361</td>\n",
              "      <td>6.783325</td>\n",
              "      <td>81</td>\n",
              "      <td>920</td>\n",
              "      <td>378</td>\n",
              "    </tr>\n",
              "    <tr>\n",
              "      <th>1</th>\n",
              "      <td>zUZ1z7FwLc8</td>\n",
              "      <td>17.14.11</td>\n",
              "      <td>पीरियड्स के समय, पेट पर पति करता ऐसा, देखकर दं...</td>\n",
              "      <td>HJ NEWS</td>\n",
              "      <td>25</td>\n",
              "      <td>2017-11-13T05:43:56.000Z</td>\n",
              "      <td>पीरियड्स के समय|\"पेट पर पति करता ऐसा\"|\"देखकर द...</td>\n",
              "      <td>590102</td>\n",
              "      <td>736</td>\n",
              "      <td>905</td>\n",
              "      <td>1</td>\n",
              "      <td>https://i.ytimg.com/vi/zUZ1z7FwLc8/default.jpg</td>\n",
              "      <td>True</td>\n",
              "      <td>False</td>\n",
              "      <td>False</td>\n",
              "      <td>पीरियड्स के समय, पेट पर पति करता ऐसा, देखकर दं...</td>\n",
              "      <td>India</td>\n",
              "      <td>13.288051</td>\n",
              "      <td>6.601230</td>\n",
              "      <td>6.807935</td>\n",
              "      <td>0.000000</td>\n",
              "      <td>58</td>\n",
              "      <td>2232</td>\n",
              "      <td>294</td>\n",
              "    </tr>\n",
              "    <tr>\n",
              "      <th>2</th>\n",
              "      <td>10L1hZ9qa58</td>\n",
              "      <td>17.14.11</td>\n",
              "      <td>Stylish Star Allu Arjun @ ChaySam Wedding Rece...</td>\n",
              "      <td>TFPC</td>\n",
              "      <td>24</td>\n",
              "      <td>2017-11-12T15:48:08.000Z</td>\n",
              "      <td>Stylish Star Allu Arjun @ ChaySam Wedding Rece...</td>\n",
              "      <td>473989</td>\n",
              "      <td>2012</td>\n",
              "      <td>244</td>\n",
              "      <td>150</td>\n",
              "      <td>https://i.ytimg.com/vi/10L1hZ9qa58/default.jpg</td>\n",
              "      <td>False</td>\n",
              "      <td>False</td>\n",
              "      <td>False</td>\n",
              "      <td>Watch Stylish Star Allu Arjun @ ChaySam Weddin...</td>\n",
              "      <td>India</td>\n",
              "      <td>13.068939</td>\n",
              "      <td>7.606885</td>\n",
              "      <td>5.497168</td>\n",
              "      <td>5.010635</td>\n",
              "      <td>58</td>\n",
              "      <td>482</td>\n",
              "      <td>327</td>\n",
              "    </tr>\n",
              "    <tr>\n",
              "      <th>3</th>\n",
              "      <td>N1vE8iiEg64</td>\n",
              "      <td>17.14.11</td>\n",
              "      <td>Eruma Saani | Tamil vs English</td>\n",
              "      <td>Eruma Saani</td>\n",
              "      <td>23</td>\n",
              "      <td>2017-11-12T07:08:48.000Z</td>\n",
              "      <td>Eruma Saani|\"Tamil Comedy Videos\"|\"Films\"|\"Mov...</td>\n",
              "      <td>1242681</td>\n",
              "      <td>70354</td>\n",
              "      <td>1625</td>\n",
              "      <td>2685</td>\n",
              "      <td>https://i.ytimg.com/vi/N1vE8iiEg64/default.jpg</td>\n",
              "      <td>False</td>\n",
              "      <td>False</td>\n",
              "      <td>False</td>\n",
              "      <td>This video showcases the difference between pe...</td>\n",
              "      <td>India</td>\n",
              "      <td>14.032782</td>\n",
              "      <td>11.161295</td>\n",
              "      <td>7.393263</td>\n",
              "      <td>7.895436</td>\n",
              "      <td>30</td>\n",
              "      <td>263</td>\n",
              "      <td>305</td>\n",
              "    </tr>\n",
              "    <tr>\n",
              "      <th>4</th>\n",
              "      <td>kJzGH0PVQHQ</td>\n",
              "      <td>17.14.11</td>\n",
              "      <td>why Samantha became EMOTIONAL @ Samantha naga ...</td>\n",
              "      <td>Filmylooks</td>\n",
              "      <td>24</td>\n",
              "      <td>2017-11-13T01:14:16.000Z</td>\n",
              "      <td>Filmylooks|\"latest news\"|\"telugu movies\"|\"telu...</td>\n",
              "      <td>464016</td>\n",
              "      <td>493</td>\n",
              "      <td>294</td>\n",
              "      <td>67</td>\n",
              "      <td>https://i.ytimg.com/vi/kJzGH0PVQHQ/default.jpg</td>\n",
              "      <td>False</td>\n",
              "      <td>False</td>\n",
              "      <td>False</td>\n",
              "      <td>why Samantha became EMOTIONAL @ Samantha naga ...</td>\n",
              "      <td>India</td>\n",
              "      <td>13.047674</td>\n",
              "      <td>6.200509</td>\n",
              "      <td>5.683580</td>\n",
              "      <td>4.204693</td>\n",
              "      <td>88</td>\n",
              "      <td>753</td>\n",
              "      <td>319</td>\n",
              "    </tr>\n",
              "    <tr>\n",
              "      <th>...</th>\n",
              "      <td>...</td>\n",
              "      <td>...</td>\n",
              "      <td>...</td>\n",
              "      <td>...</td>\n",
              "      <td>...</td>\n",
              "      <td>...</td>\n",
              "      <td>...</td>\n",
              "      <td>...</td>\n",
              "      <td>...</td>\n",
              "      <td>...</td>\n",
              "      <td>...</td>\n",
              "      <td>...</td>\n",
              "      <td>...</td>\n",
              "      <td>...</td>\n",
              "      <td>...</td>\n",
              "      <td>...</td>\n",
              "      <td>...</td>\n",
              "      <td>...</td>\n",
              "      <td>...</td>\n",
              "      <td>...</td>\n",
              "      <td>...</td>\n",
              "      <td>...</td>\n",
              "      <td>...</td>\n",
              "      <td>...</td>\n",
              "    </tr>\n",
              "    <tr>\n",
              "      <th>40943</th>\n",
              "      <td>1PhPYr_9zRY</td>\n",
              "      <td>18.14.06</td>\n",
              "      <td>BTS Plays With Puppies While Answering Fan Que...</td>\n",
              "      <td>BuzzFeed Celeb</td>\n",
              "      <td>22</td>\n",
              "      <td>2018-05-18T16:39:29.000Z</td>\n",
              "      <td>BuzzFeed|\"BuzzFeedVideo\"|\"Puppy Interview\"|\"pu...</td>\n",
              "      <td>8259129</td>\n",
              "      <td>645889</td>\n",
              "      <td>4053</td>\n",
              "      <td>62611</td>\n",
              "      <td>https://i.ytimg.com/vi/1PhPYr_9zRY/default.jpg</td>\n",
              "      <td>False</td>\n",
              "      <td>False</td>\n",
              "      <td>False</td>\n",
              "      <td>BTS with the PPS, the puppies. These adorable ...</td>\n",
              "      <td>US</td>\n",
              "      <td>15.926830</td>\n",
              "      <td>13.378383</td>\n",
              "      <td>8.307213</td>\n",
              "      <td>11.044696</td>\n",
              "      <td>52</td>\n",
              "      <td>926</td>\n",
              "      <td>311</td>\n",
              "    </tr>\n",
              "    <tr>\n",
              "      <th>40944</th>\n",
              "      <td>BZt0qjTWNhw</td>\n",
              "      <td>18.14.06</td>\n",
              "      <td>The Cat Who Caught the Laser</td>\n",
              "      <td>AaronsAnimals</td>\n",
              "      <td>15</td>\n",
              "      <td>2018-05-18T13:00:04.000Z</td>\n",
              "      <td>aarons animals|\"aarons\"|\"animals\"|\"cat\"|\"cats\"...</td>\n",
              "      <td>1685610</td>\n",
              "      <td>38161</td>\n",
              "      <td>1386</td>\n",
              "      <td>2658</td>\n",
              "      <td>https://i.ytimg.com/vi/BZt0qjTWNhw/default.jpg</td>\n",
              "      <td>False</td>\n",
              "      <td>False</td>\n",
              "      <td>False</td>\n",
              "      <td>The Cat Who Caught the Laser - Aaron's Animals</td>\n",
              "      <td>US</td>\n",
              "      <td>14.337638</td>\n",
              "      <td>10.549569</td>\n",
              "      <td>7.234177</td>\n",
              "      <td>7.885329</td>\n",
              "      <td>28</td>\n",
              "      <td>46</td>\n",
              "      <td>134</td>\n",
              "    </tr>\n",
              "    <tr>\n",
              "      <th>40946</th>\n",
              "      <td>D6Oy4LfoqsU</td>\n",
              "      <td>18.14.06</td>\n",
              "      <td>I GAVE SAFIYA NYGAARD A PERFECT HAIR MAKEOVER ...</td>\n",
              "      <td>Brad Mondo</td>\n",
              "      <td>24</td>\n",
              "      <td>2018-05-18T17:34:22.000Z</td>\n",
              "      <td>I gave safiya nygaard a perfect hair makeover ...</td>\n",
              "      <td>1066452</td>\n",
              "      <td>48069</td>\n",
              "      <td>1033</td>\n",
              "      <td>3993</td>\n",
              "      <td>https://i.ytimg.com/vi/D6Oy4LfoqsU/default.jpg</td>\n",
              "      <td>False</td>\n",
              "      <td>False</td>\n",
              "      <td>False</td>\n",
              "      <td>I had so much fun transforming Safiyas hair in...</td>\n",
              "      <td>US</td>\n",
              "      <td>13.879848</td>\n",
              "      <td>10.780393</td>\n",
              "      <td>6.940222</td>\n",
              "      <td>8.292298</td>\n",
              "      <td>84</td>\n",
              "      <td>775</td>\n",
              "      <td>492</td>\n",
              "    </tr>\n",
              "    <tr>\n",
              "      <th>40947</th>\n",
              "      <td>oV0zkMe1K8s</td>\n",
              "      <td>18.14.06</td>\n",
              "      <td>How Black Panther Should Have Ended</td>\n",
              "      <td>How It Should Have Ended</td>\n",
              "      <td>1</td>\n",
              "      <td>2018-05-17T17:00:04.000Z</td>\n",
              "      <td>Black Panther|\"HISHE\"|\"Marvel\"|\"Infinity War\"|...</td>\n",
              "      <td>5660814</td>\n",
              "      <td>192958</td>\n",
              "      <td>2847</td>\n",
              "      <td>13089</td>\n",
              "      <td>https://i.ytimg.com/vi/oV0zkMe1K8s/default.jpg</td>\n",
              "      <td>False</td>\n",
              "      <td>False</td>\n",
              "      <td>False</td>\n",
              "      <td>How Black Panther Should Have EndedWatch More ...</td>\n",
              "      <td>US</td>\n",
              "      <td>15.549078</td>\n",
              "      <td>12.170228</td>\n",
              "      <td>7.954021</td>\n",
              "      <td>9.479527</td>\n",
              "      <td>35</td>\n",
              "      <td>3268</td>\n",
              "      <td>295</td>\n",
              "    </tr>\n",
              "    <tr>\n",
              "      <th>40948</th>\n",
              "      <td>ooyjaVdt-jA</td>\n",
              "      <td>18.14.06</td>\n",
              "      <td>Official Call of Duty®: Black Ops 4 — Multipla...</td>\n",
              "      <td>Call of Duty</td>\n",
              "      <td>20</td>\n",
              "      <td>2018-05-17T17:09:38.000Z</td>\n",
              "      <td>call of duty|\"cod\"|\"activision\"|\"Black Ops 4\"</td>\n",
              "      <td>10306120</td>\n",
              "      <td>357080</td>\n",
              "      <td>212977</td>\n",
              "      <td>144796</td>\n",
              "      <td>https://i.ytimg.com/vi/ooyjaVdt-jA/default.jpg</td>\n",
              "      <td>False</td>\n",
              "      <td>False</td>\n",
              "      <td>False</td>\n",
              "      <td>Call of Duty: Black Ops 4 Multiplayer raises t...</td>\n",
              "      <td>US</td>\n",
              "      <td>16.148248</td>\n",
              "      <td>12.785715</td>\n",
              "      <td>12.268939</td>\n",
              "      <td>11.883081</td>\n",
              "      <td>64</td>\n",
              "      <td>709</td>\n",
              "      <td>45</td>\n",
              "    </tr>\n",
              "  </tbody>\n",
              "</table>\n",
              "<p>154567 rows × 24 columns</p>\n",
              "</div>"
            ],
            "text/plain": [
              "          video_id trending_date  ... desc_len num_tags\n",
              "0      kzwfHumJyYc      17.14.11  ...      920      378\n",
              "1      zUZ1z7FwLc8      17.14.11  ...     2232      294\n",
              "2      10L1hZ9qa58      17.14.11  ...      482      327\n",
              "3      N1vE8iiEg64      17.14.11  ...      263      305\n",
              "4      kJzGH0PVQHQ      17.14.11  ...      753      319\n",
              "...            ...           ...  ...      ...      ...\n",
              "40943  1PhPYr_9zRY      18.14.06  ...      926      311\n",
              "40944  BZt0qjTWNhw      18.14.06  ...       46      134\n",
              "40946  D6Oy4LfoqsU      18.14.06  ...      775      492\n",
              "40947  oV0zkMe1K8s      18.14.06  ...     3268      295\n",
              "40948  ooyjaVdt-jA      18.14.06  ...      709       45\n",
              "\n",
              "[154567 rows x 24 columns]"
            ]
          },
          "metadata": {},
          "execution_count": 58
        }
      ]
    },
    {
      "cell_type": "code",
      "metadata": {
        "colab": {
          "base_uri": "https://localhost:8080/"
        },
        "id": "gyMkItnxoZzo",
        "outputId": "cc73a253-4702-4de0-82b6-dc2fa1a582c0"
      },
      "source": [
        "sc.fit(x_train)"
      ],
      "execution_count": 103,
      "outputs": [
        {
          "output_type": "execute_result",
          "data": {
            "text/plain": [
              "StandardScaler()"
            ]
          },
          "metadata": {},
          "execution_count": 103
        }
      ]
    },
    {
      "cell_type": "code",
      "metadata": {
        "id": "tV7N4EJ0xp5E"
      },
      "source": [
        "scaled_data=sc.transform(x_train)"
      ],
      "execution_count": 104,
      "outputs": []
    },
    {
      "cell_type": "code",
      "metadata": {
        "colab": {
          "base_uri": "https://localhost:8080/"
        },
        "id": "XwflODLXxu5P",
        "outputId": "8c4f3e2d-1800-45a2-9a61-f82b506eadbc"
      },
      "source": [
        "scaled_data"
      ],
      "execution_count": 105,
      "outputs": [
        {
          "output_type": "execute_result",
          "data": {
            "text/plain": [
              "array([[11.26170504],\n",
              "       [ 1.7821385 ],\n",
              "       [-0.14243719],\n",
              "       ...,\n",
              "       [ 0.06465378],\n",
              "       [-0.25883833],\n",
              "       [-0.26729485]])"
            ]
          },
          "metadata": {},
          "execution_count": 105
        }
      ]
    },
    {
      "cell_type": "code",
      "metadata": {
        "id": "zWVUDpZxwoPR"
      },
      "source": [
        "from sklearn.decomposition import PCA"
      ],
      "execution_count": 106,
      "outputs": []
    },
    {
      "cell_type": "code",
      "metadata": {
        "colab": {
          "base_uri": "https://localhost:8080/"
        },
        "id": "2gvO2WvfwwX0",
        "outputId": "89d2b4a0-f02d-4f29-a5e7-67d43748a1ca"
      },
      "source": [
        "x_train.shape"
      ],
      "execution_count": 107,
      "outputs": [
        {
          "output_type": "execute_result",
          "data": {
            "text/plain": [
              "(123653, 1)"
            ]
          },
          "metadata": {},
          "execution_count": 107
        }
      ]
    },
    {
      "cell_type": "code",
      "metadata": {
        "id": "HH6-nwa1w16f"
      },
      "source": [
        "pca=PCA(n_components=1)"
      ],
      "execution_count": 110,
      "outputs": []
    },
    {
      "cell_type": "code",
      "metadata": {
        "colab": {
          "base_uri": "https://localhost:8080/"
        },
        "id": "Bm66TaRNw6Nf",
        "outputId": "81a8018d-abc0-4b27-a6cf-7c76348fb6ba"
      },
      "source": [
        "pca.fit(x_test)"
      ],
      "execution_count": 111,
      "outputs": [
        {
          "output_type": "execute_result",
          "data": {
            "text/plain": [
              "PCA(n_components=1)"
            ]
          },
          "metadata": {},
          "execution_count": 111
        }
      ]
    },
    {
      "cell_type": "code",
      "metadata": {
        "id": "vq1A0WNDx6Z6"
      },
      "source": [
        "x_pca = pca.transform(x_test)"
      ],
      "execution_count": 112,
      "outputs": []
    },
    {
      "cell_type": "code",
      "metadata": {
        "colab": {
          "base_uri": "https://localhost:8080/"
        },
        "id": "EyQTx1qRyBIS",
        "outputId": "f7bac38c-fddf-461d-c479-9427fe9789d9"
      },
      "source": [
        "x_test.shape"
      ],
      "execution_count": 113,
      "outputs": [
        {
          "output_type": "execute_result",
          "data": {
            "text/plain": [
              "(30914, 1)"
            ]
          },
          "metadata": {},
          "execution_count": 113
        }
      ]
    },
    {
      "cell_type": "code",
      "metadata": {
        "colab": {
          "base_uri": "https://localhost:8080/"
        },
        "id": "W_JhWd1vyEcR",
        "outputId": "896fbd03-6c6c-4c1d-f50e-a48933627fdf"
      },
      "source": [
        "x_pca.shape"
      ],
      "execution_count": 114,
      "outputs": [
        {
          "output_type": "execute_result",
          "data": {
            "text/plain": [
              "(30914, 1)"
            ]
          },
          "metadata": {},
          "execution_count": 114
        }
      ]
    },
    {
      "cell_type": "code",
      "metadata": {
        "colab": {
          "base_uri": "https://localhost:8080/"
        },
        "id": "owtf6g554Mao",
        "outputId": "30f1d3eb-f4d7-4ac0-8392-c455fe3af5e0"
      },
      "source": [
        "x_pca"
      ],
      "execution_count": 115,
      "outputs": [
        {
          "output_type": "execute_result",
          "data": {
            "text/plain": [
              "array([[-37697.39076147],\n",
              "       [-38407.39076147],\n",
              "       [-40685.39076147],\n",
              "       ...,\n",
              "       [-40493.39076147],\n",
              "       [-12146.39076147],\n",
              "       [-21961.39076147]])"
            ]
          },
          "metadata": {},
          "execution_count": 115
        }
      ]
    },
    {
      "cell_type": "code",
      "metadata": {
        "colab": {
          "base_uri": "https://localhost:8080/",
          "height": 306
        },
        "id": "NOAe1d9H598O",
        "outputId": "86ff6ea9-5de6-46f3-9227-5ab19566c227"
      },
      "source": [
        "plt.figure(figsize=(6,4))\n",
        "plt.scatter(x_pca[:,0],x_pca[:,0])\n",
        "#plt.xlabel\n",
        "#plt.ylabel"
      ],
      "execution_count": 118,
      "outputs": [
        {
          "output_type": "execute_result",
          "data": {
            "text/plain": [
              "<matplotlib.collections.PathCollection at 0x7f7b257e9e10>"
            ]
          },
          "metadata": {},
          "execution_count": 118
        },
        {
          "output_type": "display_data",
          "data": {
            "image/png": "[encoded data removed]",
            "text/plain": [
              "<Figure size 432x288 with 1 Axes>"
            ]
          },
          "metadata": {
            "needs_background": "light"
          }
        }
      ]
    },
    {
      "cell_type": "code",
      "metadata": {
        "colab": {
          "base_uri": "https://localhost:8080/"
        },
        "id": "_uZ8HncPcGY3",
        "outputId": "3dd60e40-65ed-41f5-d8bb-142279dd5f08"
      },
      "source": [
        "print('check_pca', (x_train[:10,:]))"
      ],
      "execution_count": 119,
      "outputs": [
        {
          "output_type": "stream",
          "name": "stdout",
          "text": [
            "check_pca [[1721385]\n",
            " [ 306712]\n",
            " [  19500]\n",
            " [   9504]\n",
            " [   3648]\n",
            " [    883]\n",
            " [   2217]\n",
            " [  17833]\n",
            " [    995]\n",
            " [     29]]\n"
          ]
        }
      ]
    },
    {
      "cell_type": "code",
      "metadata": {
        "id": "f2EzDq4X2j7M"
      },
      "source": [
        "#from sklearn.ensemble import RandomForestRegressor\n",
        "from sklearn.ensemble import RandomForestClassifier\n",
        "from sklearn.model_selection import GridSearchCV\n",
        "from sklearn import preprocessing\n",
        "from sklearn import utils"
      ],
      "execution_count": 162,
      "outputs": []
    },
    {
      "cell_type": "code",
      "metadata": {
        "id": "OAaOMUtCprW_"
      },
      "source": [
        "y = combined_data['len_title']\n",
        "x = combined_data['desc_len']"
      ],
      "execution_count": 163,
      "outputs": []
    },
    {
      "cell_type": "code",
      "metadata": {
        "id": "B4Z9QQsYex0y"
      },
      "source": [
        "rf_model = RandomForestClassifier( )"
      ],
      "execution_count": 170,
      "outputs": []
    },
    {
      "cell_type": "code",
      "metadata": {
        "id": "itHqW07d2p0M"
      },
      "source": [
        "n_estimators = [int(x) for x in np.linspace(start = 10, stop = 80, num = 10)]\n",
        "max_features = ['auto','sqrt']\n",
        "max_depth = [2,4]\n",
        "min_samples_split = [2,5]\n",
        "min_samples_leaf = [1,2]\n",
        "bootstrap = [True, False]"
      ],
      "execution_count": null,
      "outputs": []
    },
    {
      "cell_type": "code",
      "metadata": {
        "colab": {
          "base_uri": "https://localhost:8080/"
        },
        "id": "cYuTdvBa6tXT",
        "outputId": "7c8f2e74-4d92-4022-8e25-b1ddc11d4ad4"
      },
      "source": [
        "param_grid = {'n_estimators' : n_estimators,\n",
        "              'max_features' : max_features,\n",
        "              'max_depth': max_depth,\n",
        "              'min_samples_split' : min_samples_split,\n",
        "              'min_samples_leaf':min_samples_leaf,\n",
        "              'bootstrap':bootstrap}\n",
        "print(param_grid)"
      ],
      "execution_count": null,
      "outputs": [
        {
          "output_type": "stream",
          "name": "stdout",
          "text": [
            "{'n_estimators': [10, 17, 25, 33, 41, 48, 56, 64, 72, 80], 'max_features': ['auto', 'sqrt'], 'max_depth': [2, 4], 'min_samples_split': [2, 5], 'min_samples_leaf': [1, 2], 'bootstrap': [True, False]}\n"
          ]
        }
      ]
    },
    {
      "cell_type": "code",
      "metadata": {
        "id": "eWYC0k0D8wME"
      },
      "source": [
        "rf_grid = GridSearchCV(estimator= rf_Model, param_grid = param_grid,cv=3,verbose=2,n_jobs=4)"
      ],
      "execution_count": null,
      "outputs": []
    },
    {
      "cell_type": "code",
      "metadata": {
        "colab": {
          "base_uri": "https://localhost:8080/"
        },
        "id": "VkF7N7RJ9Vp6",
        "outputId": "87ee8d27-549f-4a2a-b67d-86ebd1c5087f"
      },
      "source": [
        "rf_grid.fit(x_train,y_train)"
      ],
      "execution_count": null,
      "outputs": [
        {
          "metadata": {
            "tags": null
          },
          "name": "stdout",
          "output_type": "stream",
          "text": [
            "Fitting 3 folds for each of 320 candidates, totalling 960 fits\n"
          ]
        },
        {
          "output_type": "stream",
          "name": "stderr",
          "text": [
            "[Parallel(n_jobs=4)]: Using backend LokyBackend with 4 concurrent workers.\n",
            "[Parallel(n_jobs=4)]: Done  33 tasks      | elapsed:  1.8min\n",
            "[Parallel(n_jobs=4)]: Done 154 tasks      | elapsed:  7.4min\n",
            "[Parallel(n_jobs=4)]: Done 357 tasks      | elapsed: 21.6min\n",
            "[Parallel(n_jobs=4)]: Done 640 tasks      | elapsed: 35.7min\n",
            "[Parallel(n_jobs=4)]: Done 960 out of 960 | elapsed: 61.1min finished\n"
          ]
        },
        {
          "output_type": "execute_result",
          "data": {
            "text/plain": [
              "GridSearchCV(cv=3, estimator=RandomForestRegressor(), n_jobs=4,\n",
              "             param_grid={'bootstrap': [True, False], 'max_depth': [2, 4],\n",
              "                         'max_features': ['auto', 'sqrt'],\n",
              "                         'min_samples_leaf': [1, 2],\n",
              "                         'min_samples_split': [2, 5],\n",
              "                         'n_estimators': [10, 17, 25, 33, 41, 48, 56, 64, 72,\n",
              "                                          80]},\n",
              "             verbose=2)"
            ]
          },
          "metadata": {},
          "execution_count": 309
        }
      ]
    },
    {
      "cell_type": "code",
      "metadata": {
        "id": "y8Mcbp98Y2VS"
      },
      "source": [
        "################################################################################################################"
      ],
      "execution_count": null,
      "outputs": []
    },
    {
      "cell_type": "code",
      "metadata": {
        "colab": {
          "base_uri": "https://localhost:8080/"
        },
        "id": "ddJiLoIYY4Mz",
        "outputId": "882a6f8d-dae6-4b4c-8668-7e020d91f1ac"
      },
      "source": [
        "!apt install libkrb5-dev\n",
        "!wget https://www.apache.org/dyn/closer.lua/spark/spark-3.1.2/spark-3.1.2-bin-hadoop3.2.tgz #https://www-us.apache.org/dist/spark/spark-2.4.5/spark-2.4.5-bin-hadoop2.7.tgz\n",
        "!tar xf spark-3.1.2-bin-hadoop3.2.tgz\n",
        "!pip install findspark\n",
        "!pip install sparkmagic\n",
        "!pip install pyspark\n",
        "!pip install pyspark --user\n",
        "!pip install seaborn --user\n",
        "!pip install plotly --user\n",
        "!pip install imageio --user\n",
        "!pip install folium --user"
      ],
      "execution_count": null,
      "outputs": [
        {
          "output_type": "stream",
          "name": "stdout",
          "text": [
            "Reading package lists... Done\n",
            "Building dependency tree       \n",
            "Reading state information... Done\n",
            "The following additional packages will be installed:\n",
            "  comerr-dev krb5-multidev libgssrpc4 libkadm5clnt-mit11 libkadm5srv-mit11\n",
            "  libkdb5-9\n",
            "Suggested packages:\n",
            "  doc-base krb5-doc krb5-user\n",
            "The following NEW packages will be installed:\n",
            "  comerr-dev krb5-multidev libgssrpc4 libkadm5clnt-mit11 libkadm5srv-mit11\n",
            "  libkdb5-9 libkrb5-dev\n",
            "0 upgraded, 7 newly installed, 0 to remove and 37 not upgraded.\n",
            "Need to get 349 kB of archives.\n",
            "After this operation, 1,992 kB of additional disk space will be used.\n",
            "Get:1 http://archive.ubuntu.com/ubuntu bionic-updates/main amd64 libgssrpc4 amd64 1.16-2ubuntu0.2 [54.4 kB]\n",
            "Get:2 http://archive.ubuntu.com/ubuntu bionic-updates/main amd64 libkdb5-9 amd64 1.16-2ubuntu0.2 [37.3 kB]\n",
            "Get:3 http://archive.ubuntu.com/ubuntu bionic-updates/main amd64 libkadm5srv-mit11 amd64 1.16-2ubuntu0.2 [49.7 kB]\n",
            "Get:4 http://archive.ubuntu.com/ubuntu bionic-updates/main amd64 libkadm5clnt-mit11 amd64 1.16-2ubuntu0.2 [38.0 kB]\n",
            "Get:5 http://archive.ubuntu.com/ubuntu bionic-updates/main amd64 comerr-dev amd64 2.1-1.44.1-1ubuntu1.3 [38.5 kB]\n",
            "Get:6 http://archive.ubuntu.com/ubuntu bionic-updates/main amd64 krb5-multidev amd64 1.16-2ubuntu0.2 [120 kB]\n",
            "Get:7 http://archive.ubuntu.com/ubuntu bionic-updates/main amd64 libkrb5-dev amd64 1.16-2ubuntu0.2 [11.7 kB]\n",
            "Fetched 349 kB in 1s (520 kB/s)\n",
            "Selecting previously unselected package libgssrpc4:amd64.\n",
            "(Reading database ... 155047 files and directories currently installed.)\n",
            "Preparing to unpack .../0-libgssrpc4_1.16-2ubuntu0.2_amd64.deb ...\n",
            "Unpacking libgssrpc4:amd64 (1.16-2ubuntu0.2) ...\n",
            "Selecting previously unselected package libkdb5-9:amd64.\n",
            "Preparing to unpack .../1-libkdb5-9_1.16-2ubuntu0.2_amd64.deb ...\n",
            "Unpacking libkdb5-9:amd64 (1.16-2ubuntu0.2) ...\n",
            "Selecting previously unselected package libkadm5srv-mit11:amd64.\n",
            "Preparing to unpack .../2-libkadm5srv-mit11_1.16-2ubuntu0.2_amd64.deb ...\n",
            "Unpacking libkadm5srv-mit11:amd64 (1.16-2ubuntu0.2) ...\n",
            "Selecting previously unselected package libkadm5clnt-mit11:amd64.\n",
            "Preparing to unpack .../3-libkadm5clnt-mit11_1.16-2ubuntu0.2_amd64.deb ...\n",
            "Unpacking libkadm5clnt-mit11:amd64 (1.16-2ubuntu0.2) ...\n",
            "Selecting previously unselected package comerr-dev:amd64.\n",
            "Preparing to unpack .../4-comerr-dev_2.1-1.44.1-1ubuntu1.3_amd64.deb ...\n",
            "Unpacking comerr-dev:amd64 (2.1-1.44.1-1ubuntu1.3) ...\n",
            "Selecting previously unselected package krb5-multidev:amd64.\n",
            "Preparing to unpack .../5-krb5-multidev_1.16-2ubuntu0.2_amd64.deb ...\n",
            "Unpacking krb5-multidev:amd64 (1.16-2ubuntu0.2) ...\n",
            "Selecting previously unselected package libkrb5-dev:amd64.\n",
            "Preparing to unpack .../6-libkrb5-dev_1.16-2ubuntu0.2_amd64.deb ...\n",
            "Unpacking libkrb5-dev:amd64 (1.16-2ubuntu0.2) ...\n",
            "Setting up libgssrpc4:amd64 (1.16-2ubuntu0.2) ...\n",
            "Setting up comerr-dev:amd64 (2.1-1.44.1-1ubuntu1.3) ...\n",
            "Setting up libkdb5-9:amd64 (1.16-2ubuntu0.2) ...\n",
            "Setting up libkadm5srv-mit11:amd64 (1.16-2ubuntu0.2) ...\n",
            "Setting up libkadm5clnt-mit11:amd64 (1.16-2ubuntu0.2) ...\n",
            "Setting up krb5-multidev:amd64 (1.16-2ubuntu0.2) ...\n",
            "Setting up libkrb5-dev:amd64 (1.16-2ubuntu0.2) ...\n",
            "Processing triggers for man-db (2.8.3-2ubuntu0.1) ...\n",
            "Processing triggers for libc-bin (2.27-3ubuntu1.3) ...\n",
            "/sbin/ldconfig.real: /usr/local/lib/python3.7/dist-packages/ideep4py/lib/libmkldnn.so.0 is not a symbolic link\n",
            "\n",
            "--2021-10-20 21:17:34--  https://www.apache.org/dyn/closer.lua/spark/spark-3.1.2/spark-3.1.2-bin-hadoop3.2.tgz\n",
            "Resolving www.apache.org (www.apache.org)... 151.101.2.132, 2a04:4e42::644\n",
            "Connecting to www.apache.org (www.apache.org)|151.101.2.132|:443... connected.\n",
            "HTTP request sent, awaiting response... 200 OK\n",
            "Length: unspecified [text/html]\n",
            "Saving to: ‘spark-3.1.2-bin-hadoop3.2.tgz’\n",
            "\n",
            "spark-3.1.2-bin-had     [ <=>                ]  28.63K  --.-KB/s    in 0.01s   \n",
            "\n",
            "2021-10-20 21:17:34 (2.21 MB/s) - ‘spark-3.1.2-bin-hadoop3.2.tgz’ saved [29313]\n",
            "\n",
            "\n",
            "gzip: stdin: not in gzip format\n",
            "tar: Child returned status 1\n",
            "tar: Error is not recoverable: exiting now\n",
            "Collecting findspark\n",
            "  Downloading findspark-1.4.2-py2.py3-none-any.whl (4.2 kB)\n",
            "Installing collected packages: findspark\n",
            "Successfully installed findspark-1.4.2\n",
            "Collecting sparkmagic\n",
            "  Downloading sparkmagic-0.19.1.tar.gz (43 kB)\n",
            "\u001b[K     |████████████████████████████████| 43 kB 1.7 MB/s \n",
            "\u001b[?25hCollecting hdijupyterutils>=0.6\n",
            "  Downloading hdijupyterutils-0.19.1.tar.gz (5.0 kB)\n",
            "Collecting autovizwidget>=0.6\n",
            "  Downloading autovizwidget-0.19.1.tar.gz (8.7 kB)\n",
            "Requirement already satisfied: ipython>=4.0.2 in /usr/local/lib/python3.7/dist-packages (from sparkmagic) (5.5.0)\n",
            "Collecting nose\n",
            "  Downloading nose-1.3.7-py3-none-any.whl (154 kB)\n",
            "\u001b[K     |████████████████████████████████| 154 kB 39.8 MB/s \n",
            "\u001b[?25hCollecting mock\n",
            "  Downloading mock-4.0.3-py3-none-any.whl (28 kB)\n",
            "Requirement already satisfied: pandas>=0.17.1 in /usr/local/lib/python3.7/dist-packages (from sparkmagic) (1.1.5)\n",
            "Requirement already satisfied: numpy in /usr/local/lib/python3.7/dist-packages (from sparkmagic) (1.19.5)\n",
            "Requirement already satisfied: requests in /usr/local/lib/python3.7/dist-packages (from sparkmagic) (2.23.0)\n",
            "Requirement already satisfied: ipykernel<6.0.0 in /usr/local/lib/python3.7/dist-packages (from sparkmagic) (4.10.1)\n",
            "Requirement already satisfied: ipywidgets>5.0.0 in /usr/local/lib/python3.7/dist-packages (from sparkmagic) (7.6.5)\n",
            "Requirement already satisfied: notebook>=4.2 in /usr/local/lib/python3.7/dist-packages (from sparkmagic) (5.3.1)\n",
            "Requirement already satisfied: tornado>=4 in /usr/local/lib/python3.7/dist-packages (from sparkmagic) (5.1.1)\n",
            "Collecting requests_kerberos>=0.8.0\n",
            "  Downloading requests_kerberos-0.12.0-py2.py3-none-any.whl (14 kB)\n",
            "Requirement already satisfied: plotly>=3 in /usr/local/lib/python3.7/dist-packages (from autovizwidget>=0.6->sparkmagic) (4.4.1)\n",
            "Requirement already satisfied: jupyter>=1 in /usr/local/lib/python3.7/dist-packages (from hdijupyterutils>=0.6->sparkmagic) (1.0.0)\n",
            "Requirement already satisfied: jupyter-client in /usr/local/lib/python3.7/dist-packages (from ipykernel<6.0.0->sparkmagic) (5.3.5)\n",
            "Requirement already satisfied: traitlets>=4.1.0 in /usr/local/lib/python3.7/dist-packages (from ipykernel<6.0.0->sparkmagic) (5.1.0)\n",
            "Requirement already satisfied: simplegeneric>0.8 in /usr/local/lib/python3.7/dist-packages (from ipython>=4.0.2->sparkmagic) (0.8.1)\n",
            "Requirement already satisfied: decorator in /usr/local/lib/python3.7/dist-packages (from ipython>=4.0.2->sparkmagic) (4.4.2)\n",
            "Requirement already satisfied: prompt-toolkit<2.0.0,>=1.0.4 in /usr/local/lib/python3.7/dist-packages (from ipython>=4.0.2->sparkmagic) (1.0.18)\n",
            "Requirement already satisfied: pexpect in /usr/local/lib/python3.7/dist-packages (from ipython>=4.0.2->sparkmagic) (4.8.0)\n",
            "Requirement already satisfied: setuptools>=18.5 in /usr/local/lib/python3.7/dist-packages (from ipython>=4.0.2->sparkmagic) (57.4.0)\n",
            "Requirement already satisfied: pickleshare in /usr/local/lib/python3.7/dist-packages (from ipython>=4.0.2->sparkmagic) (0.7.5)\n",
            "Requirement already satisfied: pygments in /usr/local/lib/python3.7/dist-packages (from ipython>=4.0.2->sparkmagic) (2.6.1)\n",
            "Requirement already satisfied: nbformat>=4.2.0 in /usr/local/lib/python3.7/dist-packages (from ipywidgets>5.0.0->sparkmagic) (5.1.3)\n",
            "Requirement already satisfied: ipython-genutils~=0.2.0 in /usr/local/lib/python3.7/dist-packages (from ipywidgets>5.0.0->sparkmagic) (0.2.0)\n",
            "Requirement already satisfied: widgetsnbextension~=3.5.0 in /usr/local/lib/python3.7/dist-packages (from ipywidgets>5.0.0->sparkmagic) (3.5.1)\n",
            "Requirement already satisfied: jupyterlab-widgets>=1.0.0 in /usr/local/lib/python3.7/dist-packages (from ipywidgets>5.0.0->sparkmagic) (1.0.2)\n",
            "Requirement already satisfied: nbconvert in /usr/local/lib/python3.7/dist-packages (from jupyter>=1->hdijupyterutils>=0.6->sparkmagic) (5.6.1)\n",
            "Requirement already satisfied: qtconsole in /usr/local/lib/python3.7/dist-packages (from jupyter>=1->hdijupyterutils>=0.6->sparkmagic) (5.1.1)\n",
            "Requirement already satisfied: jupyter-console in /usr/local/lib/python3.7/dist-packages (from jupyter>=1->hdijupyterutils>=0.6->sparkmagic) (5.2.0)\n",
            "Requirement already satisfied: jupyter-core in /usr/local/lib/python3.7/dist-packages (from nbformat>=4.2.0->ipywidgets>5.0.0->sparkmagic) (4.8.1)\n",
            "Requirement already satisfied: jsonschema!=2.5.0,>=2.4 in /usr/local/lib/python3.7/dist-packages (from nbformat>=4.2.0->ipywidgets>5.0.0->sparkmagic) (2.6.0)\n",
            "Requirement already satisfied: Send2Trash in /usr/local/lib/python3.7/dist-packages (from notebook>=4.2->sparkmagic) (1.8.0)\n",
            "Requirement already satisfied: jinja2 in /usr/local/lib/python3.7/dist-packages (from notebook>=4.2->sparkmagic) (2.11.3)\n",
            "Requirement already satisfied: terminado>=0.8.1 in /usr/local/lib/python3.7/dist-packages (from notebook>=4.2->sparkmagic) (0.12.1)\n",
            "Requirement already satisfied: python-dateutil>=2.1 in /usr/local/lib/python3.7/dist-packages (from jupyter-client->ipykernel<6.0.0->sparkmagic) (2.8.2)\n",
            "Requirement already satisfied: pyzmq>=13 in /usr/local/lib/python3.7/dist-packages (from jupyter-client->ipykernel<6.0.0->sparkmagic) (22.3.0)\n",
            "Requirement already satisfied: pytz>=2017.2 in /usr/local/lib/python3.7/dist-packages (from pandas>=0.17.1->sparkmagic) (2018.9)\n",
            "Requirement already satisfied: six in /usr/local/lib/python3.7/dist-packages (from plotly>=3->autovizwidget>=0.6->sparkmagic) (1.15.0)\n",
            "Requirement already satisfied: retrying>=1.3.3 in /usr/local/lib/python3.7/dist-packages (from plotly>=3->autovizwidget>=0.6->sparkmagic) (1.3.3)\n",
            "Requirement already satisfied: wcwidth in /usr/local/lib/python3.7/dist-packages (from prompt-toolkit<2.0.0,>=1.0.4->ipython>=4.0.2->sparkmagic) (0.2.5)\n",
            "Collecting pykerberos<2.0.0,>=1.1.8\n",
            "  Downloading pykerberos-1.2.1.tar.gz (24 kB)\n",
            "Collecting cryptography>=1.3\n",
            "  Downloading cryptography-35.0.0-cp36-abi3-manylinux_2_24_x86_64.whl (3.5 MB)\n",
            "\u001b[K     |████████████████████████████████| 3.5 MB 45.2 MB/s \n",
            "\u001b[?25hRequirement already satisfied: cffi>=1.12 in /usr/local/lib/python3.7/dist-packages (from cryptography>=1.3->requests_kerberos>=0.8.0->sparkmagic) (1.14.6)\n",
            "Requirement already satisfied: pycparser in /usr/local/lib/python3.7/dist-packages (from cffi>=1.12->cryptography>=1.3->requests_kerberos>=0.8.0->sparkmagic) (2.20)\n",
            "Requirement already satisfied: certifi>=2017.4.17 in /usr/local/lib/python3.7/dist-packages (from requests->sparkmagic) (2021.5.30)\n",
            "Requirement already satisfied: idna<3,>=2.5 in /usr/local/lib/python3.7/dist-packages (from requests->sparkmagic) (2.10)\n",
            "Requirement already satisfied: urllib3!=1.25.0,!=1.25.1,<1.26,>=1.21.1 in /usr/local/lib/python3.7/dist-packages (from requests->sparkmagic) (1.24.3)\n",
            "Requirement already satisfied: chardet<4,>=3.0.2 in /usr/local/lib/python3.7/dist-packages (from requests->sparkmagic) (3.0.4)\n",
            "Requirement already satisfied: ptyprocess in /usr/local/lib/python3.7/dist-packages (from terminado>=0.8.1->notebook>=4.2->sparkmagic) (0.7.0)\n",
            "Requirement already satisfied: MarkupSafe>=0.23 in /usr/local/lib/python3.7/dist-packages (from jinja2->notebook>=4.2->sparkmagic) (2.0.1)\n",
            "Requirement already satisfied: testpath in /usr/local/lib/python3.7/dist-packages (from nbconvert->jupyter>=1->hdijupyterutils>=0.6->sparkmagic) (0.5.0)\n",
            "Requirement already satisfied: pandocfilters>=1.4.1 in /usr/local/lib/python3.7/dist-packages (from nbconvert->jupyter>=1->hdijupyterutils>=0.6->sparkmagic) (1.5.0)\n",
            "Requirement already satisfied: bleach in /usr/local/lib/python3.7/dist-packages (from nbconvert->jupyter>=1->hdijupyterutils>=0.6->sparkmagic) (4.1.0)\n",
            "Requirement already satisfied: mistune<2,>=0.8.1 in /usr/local/lib/python3.7/dist-packages (from nbconvert->jupyter>=1->hdijupyterutils>=0.6->sparkmagic) (0.8.4)\n",
            "Requirement already satisfied: entrypoints>=0.2.2 in /usr/local/lib/python3.7/dist-packages (from nbconvert->jupyter>=1->hdijupyterutils>=0.6->sparkmagic) (0.3)\n",
            "Requirement already satisfied: defusedxml in /usr/local/lib/python3.7/dist-packages (from nbconvert->jupyter>=1->hdijupyterutils>=0.6->sparkmagic) (0.7.1)\n",
            "Requirement already satisfied: webencodings in /usr/local/lib/python3.7/dist-packages (from bleach->nbconvert->jupyter>=1->hdijupyterutils>=0.6->sparkmagic) (0.5.1)\n",
            "Requirement already satisfied: packaging in /usr/local/lib/python3.7/dist-packages (from bleach->nbconvert->jupyter>=1->hdijupyterutils>=0.6->sparkmagic) (21.0)\n",
            "Requirement already satisfied: pyparsing>=2.0.2 in /usr/local/lib/python3.7/dist-packages (from packaging->bleach->nbconvert->jupyter>=1->hdijupyterutils>=0.6->sparkmagic) (2.4.7)\n",
            "Requirement already satisfied: qtpy in /usr/local/lib/python3.7/dist-packages (from qtconsole->jupyter>=1->hdijupyterutils>=0.6->sparkmagic) (1.11.2)\n",
            "Building wheels for collected packages: sparkmagic, autovizwidget, hdijupyterutils, pykerberos\n",
            "  Building wheel for sparkmagic (setup.py) ... \u001b[?25l\u001b[?25hdone\n",
            "  Created wheel for sparkmagic: filename=sparkmagic-0.19.1-py3-none-any.whl size=64701 sha256=3a6831baab5ff7561a127d2b3850784407a6ffa9ff3e32360dbe036be138bc4d\n",
            "  Stored in directory: /root/.cache/pip/wheels/77/00/d5/153197547803fa423ee3d0a7a1ff19f138cbcc385a5d11e0dd\n",
            "  Building wheel for autovizwidget (setup.py) ... \u001b[?25l\u001b[?25hdone\n",
            "  Created wheel for autovizwidget: filename=autovizwidget-0.19.1-py3-none-any.whl size=14544 sha256=796c65ae08fbedf06efc6c5f4abc2858e6b2479513144bee4d99c4fa1c88c628\n",
            "  Stored in directory: /root/.cache/pip/wheels/09/76/d9/ff313b7bd4ff55b1ff8c299f31889f525dc5129556853e1330\n",
            "  Building wheel for hdijupyterutils (setup.py) ... \u001b[?25l\u001b[?25hdone\n",
            "  Created wheel for hdijupyterutils: filename=hdijupyterutils-0.19.1-py3-none-any.whl size=7675 sha256=7465d37c0d985773133e0743c23795e26a6b8d7de831a12c7ea11f954d008090\n",
            "  Stored in directory: /root/.cache/pip/wheels/18/64/eb/292698b4780fb4eed0d7521f8e8acac011eda244f368b88aa0\n",
            "  Building wheel for pykerberos (setup.py) ... \u001b[?25l\u001b[?25hdone\n",
            "  Created wheel for pykerberos: filename=pykerberos-1.2.1-cp37-cp37m-linux_x86_64.whl size=71547 sha256=babd12d94c702d5ea64904f7c6cb556e0b41f6a52010c8da41c0baa930cb70f9\n",
            "  Stored in directory: /root/.cache/pip/wheels/49/70/e2/33a356bfc619e7cfa71c2a14f6fb976c0963d1bfa02e885151\n",
            "Successfully built sparkmagic autovizwidget hdijupyterutils pykerberos\n",
            "Installing collected packages: nose, mock, pykerberos, hdijupyterutils, cryptography, requests-kerberos, autovizwidget, sparkmagic\n",
            "Successfully installed autovizwidget-0.19.1 cryptography-35.0.0 hdijupyterutils-0.19.1 mock-4.0.3 nose-1.3.7 pykerberos-1.2.1 requests-kerberos-0.12.0 sparkmagic-0.19.1\n",
            "Collecting pyspark\n",
            "  Downloading pyspark-3.2.0.tar.gz (281.3 MB)\n",
            "\u001b[K     |████████████████████████████████| 281.3 MB 27 kB/s \n",
            "\u001b[?25hCollecting py4j==0.10.9.2\n",
            "  Downloading py4j-0.10.9.2-py2.py3-none-any.whl (198 kB)\n",
            "\u001b[K     |████████████████████████████████| 198 kB 54.5 MB/s \n",
            "\u001b[?25hBuilding wheels for collected packages: pyspark\n",
            "  Building wheel for pyspark (setup.py) ... \u001b[?25l\u001b[?25hdone\n",
            "  Created wheel for pyspark: filename=pyspark-3.2.0-py2.py3-none-any.whl size=281805912 sha256=db3dd767b386b10ccf1d60a7d63640197dd75a56fdf5e3118f2fc00b80558ca5\n",
            "  Stored in directory: /root/.cache/pip/wheels/0b/de/d2/9be5d59d7331c6c2a7c1b6d1a4f463ce107332b1ecd4e80718\n",
            "Successfully built pyspark\n",
            "Installing collected packages: py4j, pyspark\n",
            "Successfully installed py4j-0.10.9.2 pyspark-3.2.0\n",
            "Requirement already satisfied: pyspark in /usr/local/lib/python3.7/dist-packages (3.2.0)\n",
            "Requirement already satisfied: py4j==0.10.9.2 in /usr/local/lib/python3.7/dist-packages (from pyspark) (0.10.9.2)\n",
            "Requirement already satisfied: seaborn in /usr/local/lib/python3.7/dist-packages (0.11.2)\n",
            "Requirement already satisfied: matplotlib>=2.2 in /usr/local/lib/python3.7/dist-packages (from seaborn) (3.2.2)\n",
            "Requirement already satisfied: numpy>=1.15 in /usr/local/lib/python3.7/dist-packages (from seaborn) (1.19.5)\n",
            "Requirement already satisfied: pandas>=0.23 in /usr/local/lib/python3.7/dist-packages (from seaborn) (1.1.5)\n",
            "Requirement already satisfied: scipy>=1.0 in /usr/local/lib/python3.7/dist-packages (from seaborn) (1.4.1)\n",
            "Requirement already satisfied: kiwisolver>=1.0.1 in /usr/local/lib/python3.7/dist-packages (from matplotlib>=2.2->seaborn) (1.3.2)\n",
            "Requirement already satisfied: cycler>=0.10 in /usr/local/lib/python3.7/dist-packages (from matplotlib>=2.2->seaborn) (0.10.0)\n",
            "Requirement already satisfied: python-dateutil>=2.1 in /usr/local/lib/python3.7/dist-packages (from matplotlib>=2.2->seaborn) (2.8.2)\n",
            "Requirement already satisfied: pyparsing!=2.0.4,!=2.1.2,!=2.1.6,>=2.0.1 in /usr/local/lib/python3.7/dist-packages (from matplotlib>=2.2->seaborn) (2.4.7)\n",
            "Requirement already satisfied: six in /usr/local/lib/python3.7/dist-packages (from cycler>=0.10->matplotlib>=2.2->seaborn) (1.15.0)\n",
            "Requirement already satisfied: pytz>=2017.2 in /usr/local/lib/python3.7/dist-packages (from pandas>=0.23->seaborn) (2018.9)\n",
            "Requirement already satisfied: plotly in /usr/local/lib/python3.7/dist-packages (4.4.1)\n",
            "Requirement already satisfied: six in /usr/local/lib/python3.7/dist-packages (from plotly) (1.15.0)\n",
            "Requirement already satisfied: retrying>=1.3.3 in /usr/local/lib/python3.7/dist-packages (from plotly) (1.3.3)\n",
            "Requirement already satisfied: imageio in /usr/local/lib/python3.7/dist-packages (2.4.1)\n",
            "Requirement already satisfied: numpy in /usr/local/lib/python3.7/dist-packages (from imageio) (1.19.5)\n",
            "Requirement already satisfied: pillow in /usr/local/lib/python3.7/dist-packages (from imageio) (7.1.2)\n",
            "Requirement already satisfied: folium in /usr/local/lib/python3.7/dist-packages (0.8.3)\n",
            "Requirement already satisfied: branca>=0.3.0 in /usr/local/lib/python3.7/dist-packages (from folium) (0.4.2)\n",
            "Requirement already satisfied: jinja2 in /usr/local/lib/python3.7/dist-packages (from folium) (2.11.3)\n",
            "Requirement already satisfied: six in /usr/local/lib/python3.7/dist-packages (from folium) (1.15.0)\n",
            "Requirement already satisfied: requests in /usr/local/lib/python3.7/dist-packages (from folium) (2.23.0)\n",
            "Requirement already satisfied: numpy in /usr/local/lib/python3.7/dist-packages (from folium) (1.19.5)\n",
            "Requirement already satisfied: MarkupSafe>=0.23 in /usr/local/lib/python3.7/dist-packages (from jinja2->folium) (2.0.1)\n",
            "Requirement already satisfied: certifi>=2017.4.17 in /usr/local/lib/python3.7/dist-packages (from requests->folium) (2021.5.30)\n",
            "Requirement already satisfied: idna<3,>=2.5 in /usr/local/lib/python3.7/dist-packages (from requests->folium) (2.10)\n",
            "Requirement already satisfied: urllib3!=1.25.0,!=1.25.1,<1.26,>=1.21.1 in /usr/local/lib/python3.7/dist-packages (from requests->folium) (1.24.3)\n",
            "Requirement already satisfied: chardet<4,>=3.0.2 in /usr/local/lib/python3.7/dist-packages (from requests->folium) (3.0.4)\n"
          ]
        }
      ]
    },
    {
      "cell_type": "code",
      "metadata": {
        "colab": {
          "base_uri": "https://localhost:8080/"
        },
        "id": "Y2AXcRpP0V6w",
        "outputId": "ef441822-a39b-4ed2-f091-b719c9c4036c"
      },
      "source": [
        "!apt update\n",
        "!apt install gcc python-dev libkrb5-dev"
      ],
      "execution_count": null,
      "outputs": [
        {
          "output_type": "stream",
          "name": "stdout",
          "text": [
            "\u001b[33m\r0% [Working]\u001b[0m\r            \rGet:1 http://security.ubuntu.com/ubuntu bionic-security InRelease [88.7 kB]\n",
            "Get:2 https://cloud.r-project.org/bin/linux/ubuntu bionic-cran40/ InRelease [3,626 B]\n",
            "Get:3 http://ppa.launchpad.net/c2d4u.team/c2d4u4.0+/ubuntu bionic InRelease [15.9 kB]\n",
            "Ign:4 https://developer.download.nvidia.com/compute/cuda/repos/ubuntu1804/x86_64  InRelease\n",
            "Hit:5 http://archive.ubuntu.com/ubuntu bionic InRelease\n",
            "Ign:6 https://developer.download.nvidia.com/compute/machine-learning/repos/ubuntu1804/x86_64  InRelease\n",
            "Get:7 https://developer.download.nvidia.com/compute/cuda/repos/ubuntu1804/x86_64  Release [696 B]\n",
            "Hit:8 https://developer.download.nvidia.com/compute/machine-learning/repos/ubuntu1804/x86_64  Release\n",
            "Get:9 https://developer.download.nvidia.com/compute/cuda/repos/ubuntu1804/x86_64  Release.gpg [836 B]\n",
            "Get:10 http://archive.ubuntu.com/ubuntu bionic-updates InRelease [88.7 kB]\n",
            "Get:11 http://security.ubuntu.com/ubuntu bionic-security/main amd64 Packages [2,385 kB]\n",
            "Hit:12 http://ppa.launchpad.net/cran/libgit2/ubuntu bionic InRelease\n",
            "Get:13 http://security.ubuntu.com/ubuntu bionic-security/restricted amd64 Packages [626 kB]\n",
            "Get:14 http://security.ubuntu.com/ubuntu bionic-security/universe amd64 Packages [1,434 kB]\n",
            "Hit:15 http://ppa.launchpad.net/deadsnakes/ppa/ubuntu bionic InRelease\n",
            "Get:16 http://archive.ubuntu.com/ubuntu bionic-backports InRelease [74.6 kB]\n",
            "Hit:17 http://ppa.launchpad.net/graphics-drivers/ppa/ubuntu bionic InRelease\n",
            "Get:18 https://cloud.r-project.org/bin/linux/ubuntu bionic-cran40/ Packages [69.5 kB]\n",
            "Get:19 http://ppa.launchpad.net/c2d4u.team/c2d4u4.0+/ubuntu bionic/main Sources [1,809 kB]\n",
            "Get:21 https://developer.download.nvidia.com/compute/cuda/repos/ubuntu1804/x86_64  Packages [753 kB]\n",
            "Get:22 http://ppa.launchpad.net/c2d4u.team/c2d4u4.0+/ubuntu bionic/main amd64 Packages [926 kB]\n",
            "Get:23 http://archive.ubuntu.com/ubuntu bionic-updates/universe amd64 Packages [2,213 kB]\n",
            "Get:24 http://archive.ubuntu.com/ubuntu bionic-updates/restricted amd64 Packages [664 kB]\n",
            "Get:25 http://archive.ubuntu.com/ubuntu bionic-updates/main amd64 Packages [2,832 kB]\n",
            "Fetched 14.0 MB in 3s (4,179 kB/s)\n",
            "Reading package lists... Done\n",
            "Building dependency tree       \n",
            "Reading state information... Done\n",
            "67 packages can be upgraded. Run 'apt list --upgradable' to see them.\n",
            "Reading package lists... Done\n",
            "Building dependency tree       \n",
            "Reading state information... Done\n",
            "python-dev is already the newest version (2.7.15~rc1-1).\n",
            "gcc is already the newest version (4:7.4.0-1ubuntu2.3).\n",
            "gcc set to manually installed.\n",
            "libkrb5-dev is already the newest version (1.16-2ubuntu0.2).\n",
            "0 upgraded, 0 newly installed, 0 to remove and 67 not upgraded.\n"
          ]
        }
      ]
    },
    {
      "cell_type": "code",
      "metadata": {
        "id": "xzD-eyFy0Y7f"
      },
      "source": [
        "from pyspark.sql import SparkSession\n",
        "from pyspark.sql.types import *\n",
        "import pyspark.sql.functions as F\n",
        "\n",
        "import os\n",
        "\n",
        "spark = SparkSession.builder.appName('CA-5').getOrCreate()"
      ],
      "execution_count": null,
      "outputs": []
    },
    {
      "cell_type": "code",
      "metadata": {
        "id": "9PLkye100bvv"
      },
      "source": [
        "%load_ext sparkmagic.magics"
      ],
      "execution_count": null,
      "outputs": []
    },
    {
      "cell_type": "code",
      "metadata": {
        "id": "ODI9t5VO0el_"
      },
      "source": [
        "#graph section\n",
        "import networkx as nx\n",
        "# SQLite RDBMS\n",
        "import sqlite3\n",
        "# Parallel processing\n",
        "# import swifter\n",
        "import pandas as pd\n",
        "# NoSQL DB\n",
        "from pymongo import MongoClient\n",
        "from pymongo.errors import DuplicateKeyError, OperationFailure\n",
        "\n",
        "import os\n",
        "os.environ['SPARK_HOME'] = '/content/spark-3.1.2-bin-hadoop3.2'\n",
        "os.environ[\"JAVA_HOME\"] = \"/usr/lib/jvm/java-8-openjdk-amd64\"\n",
        "import pyspark\n",
        "from pyspark.sql import SQLContext"
      ],
      "execution_count": null,
      "outputs": []
    },
    {
      "cell_type": "code",
      "metadata": {
        "id": "EtSv-NW30fgR"
      },
      "source": [
        "try:\n",
        "    if(spark == None):\n",
        "        spark = SparkSession.builder.appName('Initial').getOrCreate()\n",
        "        sqlContext=SQLContext(spark)\n",
        "except NameError:\n",
        "    spark = SparkSession.builder.appName('Initial').getOrCreate()\n",
        "    sqlContext=SQLContext(spark)\n"
      ],
      "execution_count": null,
      "outputs": []
    },
    {
      "cell_type": "code",
      "metadata": {
        "id": "xaxzl1Lzw6WS"
      },
      "source": [
        "#!fusermount -u drive"
      ],
      "execution_count": null,
      "outputs": []
    },
    {
      "cell_type": "code",
      "metadata": {
        "id": "xXQTHSbArdv5"
      },
      "source": [
        "from google.colab import drive"
      ],
      "execution_count": null,
      "outputs": []
    },
    {
      "cell_type": "code",
      "metadata": {
        "colab": {
          "base_uri": "https://localhost:8080/"
        },
        "id": "PkEFjlcDwvNC",
        "outputId": "2ebf5981-cb46-48b7-cf7f-b78dda3a1697"
      },
      "source": [
        "drive.mount('/content/gdrive')#/MyDrive/combined_data/combined_data.csv')"
      ],
      "execution_count": null,
      "outputs": [
        {
          "output_type": "stream",
          "name": "stdout",
          "text": [
            "Mounted at /content/gdrive\n"
          ]
        }
      ]
    },
    {
      "cell_type": "code",
      "metadata": {
        "id": "ks6jo069wIHe"
      },
      "source": [
        "train_sdf = spark.read.format(\"csv\").option(\"header\", \"true\").option(\"inferSchema\", \"true\").load('/content/gdrive/MyDrive/combined_data/combined_data.csv')"
      ],
      "execution_count": null,
      "outputs": []
    },
    {
      "cell_type": "code",
      "metadata": {
        "id": "ZJOB3KfXxDja"
      },
      "source": [
        "#!mkdir -p /content/drive"
      ],
      "execution_count": null,
      "outputs": []
    },
    {
      "cell_type": "code",
      "metadata": {
        "id": "fj2HzH9pqI9A"
      },
      "source": [
        "#root_dir = \"/content/gdrive/My Drive/\""
      ],
      "execution_count": null,
      "outputs": []
    },
    {
      "cell_type": "code",
      "metadata": {
        "id": "7rwC4ReQqU5M"
      },
      "source": [
        "#base_dir = root_dir + 'combined_data/combined_data.csv'"
      ],
      "execution_count": null,
      "outputs": []
    },
    {
      "cell_type": "code",
      "metadata": {
        "colab": {
          "base_uri": "https://localhost:8080/"
        },
        "id": "2mnCLjTvyB5H",
        "outputId": "d015c60c-95b9-46f0-c35c-dab90e77335f"
      },
      "source": [
        "train_sdf.show()"
      ],
      "execution_count": null,
      "outputs": [
        {
          "output_type": "stream",
          "name": "stdout",
          "text": [
            "+---+--------+-------------+-------------+--------+-----------+-----------------+----------------+----------------------+-----------+-------+------------------+------------------+------------------+------------------+---------+--------+--------+-----------+------------+---------------+\n",
            "|_c0|video_id|trending_date|channel_title|category|category_id|comments_disabled|ratings_disabled|video_error_or_removed|description|Country|             label|         likes_log|      dislikes_log|       comment_log|len_title|desc_len|num_tags|publsh_time|publish_date|publish_weekday|\n",
            "+---+--------+-------------+-------------+--------+-----------+-----------------+----------------+----------------------+-----------+-------+------------------+------------------+------------------+------------------+---------+--------+--------+-----------+------------+---------------+\n",
            "|  0|   39758|           13|           13|       8|         10|            false|           false|                 false|      11282|      0| 16.65800889801732|13.576524677012664|10.678698474028431|11.743108183115524|       42|     594|      61|      16530|         171|              4|\n",
            "|  1|    1318|           13|           13|       1|         23|            false|           false|                 false|      29935|      0| 13.83005625452622| 11.75818269652955|   7.4318919168078| 9.475086413144906|       29|     704|     121|      16527|         174|              0|\n",
            "|  2|    5413|           13|           13|       1|         23|            false|           false|                 false|      38352|      0| 14.97598121687207|11.891608445638235| 8.582980931954241| 9.009691898489343|       53|    1177|     314|      20571|         173|              6|\n",
            "|  3|   31910|           13|           13|       3|         24|            false|           false|                 false|      15385|      0|14.555459737125451|11.792373732494905| 7.595889917718538| 9.771041285235823|       24|     636|     120|      18663|         173|              6|\n",
            "|  4|    2741|           13|           13|       8|         10|            false|           false|                 false|      46178|      0| 17.32776091246296|14.306621722547163| 9.956222307519994|11.351206215643018|       43|    1250|     103|       8065|         170|              3|\n",
            "|  5|    1571|           13|           13|       9|         25|            false|           false|                 false|      44586|      0|14.085308661317494| 11.54979726774608|   8.4368504387337| 9.404590499635411|       93|     901|     241|       5224|         174|              0|\n",
            "|  6|   29486|           13|           13|       1|         23|            false|           false|                 false|      37544|      0|14.910096752782383|12.141347440301546|  9.19532825185568|10.189793678807979|       38|    2532|     310|      27637|         173|              6|\n",
            "|  7|    2969|           13|           13|      11|         22|            false|           false|                 false|      29775|      0|13.525659468227653|10.960148737257558| 7.995643604287271|   9.6778408710038|       34|    1410|      15|      17058|         174|              0|\n",
            "|  8|   16338|           13|           13|       3|         24|            false|           false|                 false|      18129|      0|15.314595066548549|12.587374834069179|  8.32457884513685| 10.50210424924984|       36|     748|     380|      22700|         173|              6|\n",
            "|  9|    3982|           13|           13|      11|         22|            false|           false|                 false|      30948|      0|13.132634448893928| 8.327484416188264| 6.884486652042782|   7.3031700512368|       65|      75|      36|      11597|         171|              4|\n",
            "| 10|   14040|           13|           13|       8|         10|            false|           false|                 false|      38843|      0|  15.4385022021874|12.482176700665605| 9.057888248784506|10.274257690847406|       47|     427|     412|      20367|         171|              4|\n",
            "| 11|   24252|           13|           13|       6|         26|            false|           false|                 false|      32092|      0|14.963936296590095|10.255973735853406| 7.734558844354756| 8.105609402299896|       62|    2481|     403|      12828|         173|              6|\n",
            "| 12|   13210|           13|           13|       4|          1|            false|           false|                 false|      33499|      0|11.975501578387167| 5.389071729816501|3.4339872044851463| 5.231108616854587|       42|     764|     231|      14453|         173|              6|\n",
            "| 13|    6554|           13|           13|       8|         10|            false|           false|                 false|      31492|      0|15.559263780679146|11.755699079672715| 8.872767529910936|  8.99516499031115|       96|    1411|     293|      15904|         172|              5|\n",
            "| 14|   17539|           13|           13|       3|         24|            false|           false|                 false|       6526|      0|13.775467426717924|10.367567420904209| 6.505784060128229|  8.58223158759546|       54|    2945|     498|      25334|         173|              6|\n",
            "| 15|    8946|           13|           13|      11|         22|            false|           false|                 false|      16241|      0|14.241574708172283|10.896035374127038| 7.437206366871292| 8.361240889642351|       39|    3452|     291|      14495|         172|              5|\n",
            "| 16|   34878|           13|           13|       1|         23|            false|           false|                 false|       1186|      0|13.231906334447643|10.704569432697642| 6.432940092739179| 9.171599543659752|       30|     352|      45|       1285|         174|              0|\n",
            "| 17|    7326|           13|           13|       3|         24|            false|           false|                 false|      15491|      0|14.218456495625425| 9.687629894522718|5.4680601411351315| 6.406879986069314|       71|     153|     294|      20601|         171|              4|\n",
            "| 18|   34261|           13|           13|       4|          1|            false|           false|                 false|      23314|      0|12.639700760203693| 9.880321274504288|4.2626798770413155| 6.206575926724928|       54|     734|     556|      11297|         174|              0|\n",
            "| 19|   38157|           13|           13|       4|          1|            false|           false|                 false|      27586|      0|13.907476971790734|10.433144744037243| 6.683360945766275|  6.78332520060396|       81|     920|     378|       9394|         173|              6|\n",
            "+---+--------+-------------+-------------+--------+-----------+-----------------+----------------+----------------------+-----------+-------+------------------+------------------+------------------+------------------+---------+--------+--------+-----------+------------+---------------+\n",
            "only showing top 20 rows\n",
            "\n"
          ]
        }
      ]
    },
    {
      "cell_type": "code",
      "metadata": {
        "colab": {
          "base_uri": "https://localhost:8080/"
        },
        "id": "IYOk8WQc0j78",
        "outputId": "242c31e2-5ce8-44e9-bdb5-6b1d3af88d2a"
      },
      "source": [
        "train_sdf.printSchema"
      ],
      "execution_count": null,
      "outputs": [
        {
          "output_type": "execute_result",
          "data": {
            "text/plain": [
              "<bound method DataFrame.printSchema of DataFrame[_c0: int, video_id: int, trending_date: int, channel_title: int, category: int, category_id: int, comments_disabled: boolean, ratings_disabled: boolean, video_error_or_removed: boolean, description: int, Country: int, label: double, likes_log: double, dislikes_log: double, comment_log: double, len_title: int, desc_len: int, num_tags: int, publsh_time: int, publish_date: int, publish_weekday: int]>"
            ]
          },
          "metadata": {},
          "execution_count": 11
        }
      ]
    },
    {
      "cell_type": "code",
      "metadata": {
        "colab": {
          "base_uri": "https://localhost:8080/"
        },
        "id": "8q997JZp4M-k",
        "outputId": "89bcb0c9-dd89-44b7-a37f-e338459d520c"
      },
      "source": [
        "train_sdf.dtypes"
      ],
      "execution_count": null,
      "outputs": [
        {
          "output_type": "execute_result",
          "data": {
            "text/plain": [
              "[('_c0', 'int'),\n",
              " ('video_id', 'int'),\n",
              " ('trending_date', 'int'),\n",
              " ('channel_title', 'int'),\n",
              " ('category', 'int'),\n",
              " ('category_id', 'int'),\n",
              " ('comments_disabled', 'boolean'),\n",
              " ('ratings_disabled', 'boolean'),\n",
              " ('video_error_or_removed', 'boolean'),\n",
              " ('description', 'int'),\n",
              " ('Country', 'int'),\n",
              " ('label', 'double'),\n",
              " ('likes_log', 'double'),\n",
              " ('dislikes_log', 'double'),\n",
              " ('comment_log', 'double'),\n",
              " ('len_title', 'int'),\n",
              " ('desc_len', 'int'),\n",
              " ('num_tags', 'int'),\n",
              " ('publsh_time', 'int'),\n",
              " ('publish_date', 'int'),\n",
              " ('publish_weekday', 'int')]"
            ]
          },
          "metadata": {},
          "execution_count": 12
        }
      ]
    },
    {
      "cell_type": "code",
      "metadata": {
        "id": "OJQcw5nv_5yw"
      },
      "source": [
        "from pyspark.ml.feature import StringIndexer, VectorAssembler"
      ],
      "execution_count": null,
      "outputs": []
    },
    {
      "cell_type": "code",
      "metadata": {
        "id": "IsnsOU6iBoNo"
      },
      "source": [
        "#assembler = VectorAssembler(inputCols=[x for x in train_sdf.columns],outputCol='features')"
      ],
      "execution_count": null,
      "outputs": []
    },
    {
      "cell_type": "code",
      "metadata": {
        "colab": {
          "base_uri": "https://localhost:8080/"
        },
        "id": "Jx9JBkTUB8Ko",
        "outputId": "68025681-f6c4-40f6-b772-789200480374"
      },
      "source": [
        "train_sdf.columns"
      ],
      "execution_count": null,
      "outputs": [
        {
          "output_type": "execute_result",
          "data": {
            "text/plain": [
              "['_c0',\n",
              " 'video_id',\n",
              " 'trending_date',\n",
              " 'channel_title',\n",
              " 'category',\n",
              " 'category_id',\n",
              " 'comments_disabled',\n",
              " 'ratings_disabled',\n",
              " 'video_error_or_removed',\n",
              " 'description',\n",
              " 'Country',\n",
              " 'label',\n",
              " 'likes_log',\n",
              " 'dislikes_log',\n",
              " 'comment_log',\n",
              " 'len_title',\n",
              " 'desc_len',\n",
              " 'num_tags',\n",
              " 'publsh_time',\n",
              " 'publish_date',\n",
              " 'publish_weekday']"
            ]
          },
          "metadata": {},
          "execution_count": 14
        }
      ]
    },
    {
      "cell_type": "code",
      "metadata": {
        "id": "Nu_VIAGtbQm1"
      },
      "source": [
        "all_columns = train_sdf.columns"
      ],
      "execution_count": null,
      "outputs": []
    },
    {
      "cell_type": "code",
      "metadata": {
        "colab": {
          "base_uri": "https://localhost:8080/"
        },
        "id": "bpIbrKoobU09",
        "outputId": "7f1d22da-54dd-47f6-c580-eb78e415a7d1"
      },
      "source": [
        "all_columns"
      ],
      "execution_count": null,
      "outputs": [
        {
          "output_type": "execute_result",
          "data": {
            "text/plain": [
              "['_c0',\n",
              " 'video_id',\n",
              " 'trending_date',\n",
              " 'channel_title',\n",
              " 'category',\n",
              " 'category_id',\n",
              " 'comments_disabled',\n",
              " 'ratings_disabled',\n",
              " 'video_error_or_removed',\n",
              " 'description',\n",
              " 'Country',\n",
              " 'label',\n",
              " 'likes_log',\n",
              " 'dislikes_log',\n",
              " 'comment_log',\n",
              " 'len_title',\n",
              " 'desc_len',\n",
              " 'num_tags',\n",
              " 'publsh_time',\n",
              " 'publish_date',\n",
              " 'publish_weekday']"
            ]
          },
          "metadata": {},
          "execution_count": 16
        }
      ]
    },
    {
      "cell_type": "code",
      "metadata": {
        "id": "Ufz9yd2xbf4d"
      },
      "source": [
        "drop_columns = ['video_id','category_id','video_error_or_removed','publish_weekday','ratings_disabled','comments_disabled']"
      ],
      "execution_count": null,
      "outputs": []
    },
    {
      "cell_type": "code",
      "metadata": {
        "id": "-xeCvnFhdJC9"
      },
      "source": [
        "columns_to_use = [i for i in all_columns if i not in drop_columns]"
      ],
      "execution_count": null,
      "outputs": []
    },
    {
      "cell_type": "code",
      "metadata": {
        "id": "cDg0oXWndW21"
      },
      "source": [
        "assembler = VectorAssembler(inputCols=[x for x in columns_to_use],outputCol='features')"
      ],
      "execution_count": null,
      "outputs": []
    },
    {
      "cell_type": "code",
      "metadata": {
        "colab": {
          "base_uri": "https://localhost:8080/"
        },
        "id": "InNeRVyDdm4I",
        "outputId": "ed61c0c4-18b8-4263-fd47-4854dc1c34fe"
      },
      "source": [
        "print('stat_assembler', (str(assembler.params), columns_to_use))"
      ],
      "execution_count": null,
      "outputs": [
        {
          "output_type": "stream",
          "name": "stdout",
          "text": [
            "stat_assembler ('[Param(parent=\\'VectorAssembler_5abf55e602cf\\', name=\\'handleInvalid\\', doc=\"How to handle invalid data (NULL and NaN values). Options are \\'skip\\' (filter out rows with invalid data), \\'error\\' (throw an error), or \\'keep\\' (return relevant number of NaN in the output). Column lengths are taken from the size of ML Attribute Group, which can be set using `VectorSizeHint` in a pipeline before `VectorAssembler`. Column lengths can also be inferred from first rows of the data since it is safe to do so but only in case of \\'error\\' or \\'skip\\').\"), Param(parent=\\'VectorAssembler_5abf55e602cf\\', name=\\'inputCols\\', doc=\\'input column names.\\'), Param(parent=\\'VectorAssembler_5abf55e602cf\\', name=\\'outputCol\\', doc=\\'output column name.\\')]', ['_c0', 'trending_date', 'channel_title', 'category', 'description', 'Country', 'label', 'likes_log', 'dislikes_log', 'comment_log', 'len_title', 'desc_len', 'num_tags', 'publsh_time', 'publish_date'])\n"
          ]
        }
      ]
    },
    {
      "cell_type": "code",
      "metadata": {
        "id": "BNEgWe6ciwP9"
      },
      "source": [
        "from pyspark.ml import Pipeline"
      ],
      "execution_count": null,
      "outputs": []
    },
    {
      "cell_type": "code",
      "metadata": {
        "id": "if_IayjyizWT"
      },
      "source": [
        "pipeline = Pipeline(stages=[assembler])\n",
        "model = pipeline.fit(assembler)"
      ],
      "execution_count": null,
      "outputs": []
    },
    {
      "cell_type": "code",
      "metadata": {
        "id": "DioRMY5ZkMGU"
      },
      "source": [
        "modified_data_sdf = model.transform(train_sdf)"
      ],
      "execution_count": null,
      "outputs": []
    },
    {
      "cell_type": "code",
      "metadata": {
        "colab": {
          "base_uri": "https://localhost:8080/"
        },
        "id": "O91ckhP4jikf",
        "outputId": "77f61063-5b33-4bff-a558-22e8db572376"
      },
      "source": [
        "pipeline_stat = pd.DataFrame(modified_data_sdf.take(100), columns=modified_data_sdf.columns)\n",
        "print('check_pipeline', (pipeline_stat.columns.values, pipeline_stat['features'][0].size))"
      ],
      "execution_count": null,
      "outputs": [
        {
          "output_type": "stream",
          "name": "stdout",
          "text": [
            "check_pipeline (array(['_c0', 'video_id', 'trending_date', 'channel_title', 'category',\n",
            "       'category_id', 'comments_disabled', 'ratings_disabled',\n",
            "       'video_error_or_removed', 'description', 'Country', 'label',\n",
            "       'likes_log', 'dislikes_log', 'comment_log', 'len_title',\n",
            "       'desc_len', 'num_tags', 'publsh_time', 'publish_date',\n",
            "       'publish_weekday', 'features'], dtype=object), 15)\n"
          ]
        }
      ]
    },
    {
      "cell_type": "code",
      "metadata": {
        "id": "3nh5KPyHrdNU"
      },
      "source": [
        "from sklearn.model_selection import train_test_split"
      ],
      "execution_count": null,
      "outputs": []
    },
    {
      "cell_type": "code",
      "metadata": {
        "id": "sh5jtuyqqiUL"
      },
      "source": [
        "train_sdf,test_sdf = train_test_split(pipeline_stat,test_size=0.2,random_state=42)"
      ],
      "execution_count": null,
      "outputs": []
    },
    {
      "cell_type": "code",
      "metadata": {
        "id": "1iv9UKdTubWc",
        "colab": {
          "base_uri": "https://localhost:8080/"
        },
        "outputId": "bf3bda9e-34f5-4c4e-caa6-dcb3e66505ba"
      },
      "source": [
        "print('check_split', (train_sdf.count(), test_sdf.count()))"
      ],
      "execution_count": null,
      "outputs": [
        {
          "output_type": "stream",
          "name": "stdout",
          "text": [
            "check_split (_c0                       80\n",
            "video_id                  80\n",
            "trending_date             80\n",
            "channel_title             80\n",
            "category                  80\n",
            "category_id               80\n",
            "comments_disabled         80\n",
            "ratings_disabled          80\n",
            "video_error_or_removed    80\n",
            "description               80\n",
            "Country                   80\n",
            "label                     80\n",
            "likes_log                 80\n",
            "dislikes_log              80\n",
            "comment_log               80\n",
            "len_title                 80\n",
            "desc_len                  80\n",
            "num_tags                  80\n",
            "publsh_time               80\n",
            "publish_date              80\n",
            "publish_weekday           80\n",
            "features                  80\n",
            "dtype: int64, _c0                       20\n",
            "video_id                  20\n",
            "trending_date             20\n",
            "channel_title             20\n",
            "category                  20\n",
            "category_id               20\n",
            "comments_disabled         20\n",
            "ratings_disabled          20\n",
            "video_error_or_removed    20\n",
            "description               20\n",
            "Country                   20\n",
            "label                     20\n",
            "likes_log                 20\n",
            "dislikes_log              20\n",
            "comment_log               20\n",
            "len_title                 20\n",
            "desc_len                  20\n",
            "num_tags                  20\n",
            "publsh_time               20\n",
            "publish_date              20\n",
            "publish_weekday           20\n",
            "features                  20\n",
            "dtype: int64)\n"
          ]
        }
      ]
    },
    {
      "cell_type": "code",
      "metadata": {
        "id": "P37zRE0X2Pco"
      },
      "source": [
        "from pyspark.ml.regression import LinearRegression"
      ],
      "execution_count": null,
      "outputs": []
    },
    {
      "cell_type": "code",
      "metadata": {
        "id": "o5nSA1fH5-Hf"
      },
      "source": [
        "lr = LinearRegression(featuresCol = 'features',labelCol='label')# maxIter=10, regParam=0.3, elasticNetParam=0.8)"
      ],
      "execution_count": null,
      "outputs": []
    },
    {
      "cell_type": "code",
      "metadata": {
        "id": "RpZCT_Y06Bie"
      },
      "source": [
        "lr_model=lr.fit(modified_data_sdf)"
      ],
      "execution_count": null,
      "outputs": []
    },
    {
      "cell_type": "code",
      "metadata": {
        "id": "ve_glv7I3SDk"
      },
      "source": [
        "trainingSum = lr_model.summary"
      ],
      "execution_count": null,
      "outputs": []
    },
    {
      "cell_type": "code",
      "metadata": {
        "colab": {
          "base_uri": "https://localhost:8080/"
        },
        "id": "hzoOAVDL3i8L",
        "outputId": "cede5382-5881-4947-a103-e8dbaed50fe7"
      },
      "source": [
        "print(\"RMSE: %f\" % trainingSum.rootMeanSquaredError)\n",
        "print(\"r2: %f\" % trainingSum.r2)"
      ],
      "execution_count": null,
      "outputs": [
        {
          "output_type": "stream",
          "name": "stdout",
          "text": [
            "RMSE: 0.000000\n",
            "r2: 1.000000\n"
          ]
        }
      ]
    },
    {
      "cell_type": "code",
      "metadata": {
        "colab": {
          "base_uri": "https://localhost:8080/"
        },
        "id": "IyhsGOtI3DKt",
        "outputId": "2e917e64-019f-4b0d-eb4c-f4f88f71cd38"
      },
      "source": [
        "print(\"Coefficients: \" + str(lr_model.coefficients))\n",
        "print(\"Intercept: \" + str(lr_model.intercept))"
      ],
      "execution_count": null,
      "outputs": [
        {
          "output_type": "stream",
          "name": "stdout",
          "text": [
            "Coefficients: [5.973953801755529e-12,-1.4165015390774797e-11,-1.4165015390774797e-11,4.919172098391961e-09,-6.501797807963683e-13,-4.444775040879883e-09,1.0000000216831344,3.734792239677184e-08,-6.172964568571448e-08,-5.081786343427601e-09,8.575082716367599e-10,3.850171997779516e-12,2.1044713350870039e-10,-1.9322792586903715e-12,-1.0875819663069673e-09]\n",
            "Intercept: -1.2538916826225825e-07\n"
          ]
        }
      ]
    },
    {
      "cell_type": "code",
      "metadata": {
        "id": "VgojwVEaUzOV",
        "colab": {
          "base_uri": "https://localhost:8080/"
        },
        "outputId": "57cae010-2815-400d-e1e7-9ce006bc332f"
      },
      "source": [
        "modified_data_sdf.describe().show()"
      ],
      "execution_count": null,
      "outputs": [
        {
          "output_type": "stream",
          "name": "stdout",
          "text": [
            "+-------+------------------+------------------+------------------+------------------+------------------+------------------+------------------+------------------+------------------+------------------+------------------+------------------+------------------+-----------------+------------------+------------------+------------------+------------------+\n",
            "|summary|               _c0|          video_id|     trending_date|     channel_title|          category|       category_id|       description|           Country|             label|         likes_log|      dislikes_log|       comment_log|         len_title|         desc_len|          num_tags|       publsh_time|      publish_date|   publish_weekday|\n",
            "+-------+------------------+------------------+------------------+------------------+------------------+------------------+------------------+------------------+------------------+------------------+------------------+------------------+------------------+-----------------+------------------+------------------+------------------+------------------+\n",
            "|  count|            113573|            113573|            113573|            113573|            113573|            113573|            113573|            113573|            113573|            113573|            113573|            113573|            113573|           113573|            113573|            113573|            113573|            113573|\n",
            "|   mean|19870.925307951715| 24965.47315823303|101.61725938383242|101.61725938383242|6.4587005714386345|20.279423806714625|23297.253414103703|1.0408900002641472|12.479855702533026| 8.703073361421781|5.5438804211372155| 6.619367197610365| 51.86031891382635|967.8837311684996|256.97517015487836|14064.649476548124|273.37863752828576|  2.89869951484948|\n",
            "| stddev|11496.808378011077|14349.605571623026| 59.51797179015832| 59.51797179015832| 4.341380146735936| 7.157598370417318|13090.635262495203|0.8162239202767954|1.9382119983633601| 2.361913463738045|  2.10471089923271| 2.224577690702069|21.235022483191887|868.0510200822932|170.73219468453584| 7507.657741674077| 60.76901899825237|1.9347188029249112|\n",
            "|    min|                 0|                 0|                 0|                 0|                 0|                 1|                 0|                 0|5.4116460518550396|               0.0|               0.0|               0.0|                 2|                1|                 2|                 0|                 0|                 0|\n",
            "|    max|             40880|             49761|               204|               204|                17|                44|             46570|                 2| 19.23255240131832|15.540743397743135|14.312070914916221|14.021431447008553|               100|             5260|               730|             27748|               387|                 6|\n",
            "+-------+------------------+------------------+------------------+------------------+------------------+------------------+------------------+------------------+------------------+------------------+------------------+------------------+------------------+-----------------+------------------+------------------+------------------+------------------+\n",
            "\n"
          ]
        }
      ]
    },
    {
      "cell_type": "code",
      "metadata": {
        "id": "zjyO0q_ORtzJ"
      },
      "source": [
        "predictions = lr_model.transform(modified_data_sdf)"
      ],
      "execution_count": null,
      "outputs": []
    },
    {
      "cell_type": "code",
      "metadata": {
        "colab": {
          "base_uri": "https://localhost:8080/"
        },
        "id": "xtE3wRKpdyuQ",
        "outputId": "b21ea95f-bc7c-4444-9d29-94e9ea287109"
      },
      "source": [
        "predictions.select(\"prediction\",\"label\",\"features\").show()"
      ],
      "execution_count": null,
      "outputs": [
        {
          "output_type": "stream",
          "name": "stdout",
          "text": [
            "+------------------+------------------+--------------------+\n",
            "|        prediction|             label|            features|\n",
            "+------------------+------------------+--------------------+\n",
            "|16.658008786885038| 16.65800889801732|[0.0,13.0,13.0,8....|\n",
            "|13.830056178203343| 13.83005625452622|[1.0,13.0,13.0,1....|\n",
            "|14.975981152512812| 14.97598121687207|[2.0,13.0,13.0,1....|\n",
            "|14.555459677691882|14.555459737125451|[3.0,13.0,13.0,3....|\n",
            "|17.327760896711915| 17.32776091246296|[4.0,13.0,13.0,8....|\n",
            "|14.085308653653746|14.085308661317494|[5.0,13.0,13.0,9....|\n",
            "|14.910096630933092|14.910096752782383|[6.0,13.0,13.0,1....|\n",
            "|13.525659352672962|13.525659468227653|[7.0,13.0,13.0,11...|\n",
            "|15.314595060452977|15.314595066548549|[8.0,13.0,13.0,3....|\n",
            "|13.132634346077952|13.132634448893928|[9.0,13.0,13.0,11...|\n",
            "| 15.43850218349468|  15.4385022021874|[10.0,13.0,13.0,8...|\n",
            "| 14.96393630299864|14.963936296590095|[11.0,13.0,13.0,6...|\n",
            "| 11.97550154446382|11.975501578387167|[12.0,13.0,13.0,4...|\n",
            "|15.559263788496835|15.559263780679146|[13.0,13.0,13.0,8...|\n",
            "| 13.77546747759098|13.775467426717924|[14.0,13.0,13.0,3...|\n",
            "|14.241574733117112|14.241574708172283|[15.0,13.0,13.0,1...|\n",
            "|13.231906300753623|13.231906334447643|[16.0,13.0,13.0,1...|\n",
            "|14.218456572229067|14.218456495625425|[17.0,13.0,13.0,3...|\n",
            "|12.639700942547611|12.639700760203693|[18.0,13.0,13.0,4...|\n",
            "|13.907477038314502|13.907476971790734|[19.0,13.0,13.0,4...|\n",
            "+------------------+------------------+--------------------+\n",
            "only showing top 20 rows\n",
            "\n"
          ]
        }
      ]
    },
    {
      "cell_type": "code",
      "metadata": {
        "id": "pNIEenlmRtwV"
      },
      "source": [
        "from pyspark.ml.evaluation import RegressionEvaluator"
      ],
      "execution_count": null,
      "outputs": []
    },
    {
      "cell_type": "code",
      "metadata": {
        "id": "P-GXne9lTMuM"
      },
      "source": [
        "lr_evaluator = RegressionEvaluator(predictionCol=\"prediction\",labelCol=\"label\",metricName=\"r2\")"
      ],
      "execution_count": null,
      "outputs": []
    },
    {
      "cell_type": "code",
      "metadata": {
        "colab": {
          "base_uri": "https://localhost:8080/"
        },
        "id": "sGrNMUPwTWj9",
        "outputId": "728d79a7-0ef1-4213-d971-fdf257ee5947"
      },
      "source": [
        "lr_evaluator"
      ],
      "execution_count": null,
      "outputs": [
        {
          "output_type": "execute_result",
          "data": {
            "text/plain": [
              "RegressionEvaluator_e00d6ae0b587"
            ]
          },
          "metadata": {},
          "execution_count": 39
        }
      ]
    },
    {
      "cell_type": "code",
      "metadata": {
        "colab": {
          "base_uri": "https://localhost:8080/"
        },
        "id": "OuzeF9WSTZ2M",
        "outputId": "9ac6c4fe-6cae-4d78-9e2b-b3f2916a6d43"
      },
      "source": [
        "test_rmse_orig = print(lr_evaluator.evaluate(predictions))"
      ],
      "execution_count": null,
      "outputs": [
        {
          "output_type": "stream",
          "name": "stdout",
          "text": [
            "0.9999999999999984\n"
          ]
        }
      ]
    },
    {
      "cell_type": "code",
      "metadata": {
        "colab": {
          "base_uri": "https://localhost:8080/"
        },
        "id": "KBksUxnzii53",
        "outputId": "20c0350c-d74e-4822-8923-84e9f87b05fb"
      },
      "source": [
        "test_result = lr_model.evaluate(modified_data_sdf)\n",
        "print(\"RMSE on test data = %g\" % test_result.rootMeanSquaredError)"
      ],
      "execution_count": null,
      "outputs": [
        {
          "output_type": "stream",
          "name": "stdout",
          "text": [
            "RMSE on test data = 7.59379e-08\n"
          ]
        }
      ]
    },
    {
      "cell_type": "code",
      "metadata": {
        "colab": {
          "base_uri": "https://localhost:8080/"
        },
        "id": "qQaV2p63RtrH",
        "outputId": "4312a24f-79c3-4698-c848-206e7bc921c1"
      },
      "source": [
        "predictions_to_print = predictions.toPandas()\n",
        "lranswer = [test_rmse_orig, predictions_to_print['prediction'][0:50], predictions_to_print['label'][0:50]]\n",
        "print('result_lr_test', lranswer)"
      ],
      "execution_count": null,
      "outputs": [
        {
          "output_type": "stream",
          "name": "stdout",
          "text": [
            "result_lr_test [None, 0     16.658009\n",
            "1     13.830056\n",
            "2     14.975981\n",
            "3     14.555460\n",
            "4     17.327761\n",
            "5     14.085309\n",
            "6     14.910097\n",
            "7     13.525659\n",
            "8     15.314595\n",
            "9     13.132634\n",
            "10    15.438502\n",
            "11    14.963936\n",
            "12    11.975502\n",
            "13    15.559264\n",
            "14    13.775467\n",
            "15    14.241575\n",
            "16    13.231906\n",
            "17    14.218457\n",
            "18    12.639701\n",
            "19    13.907477\n",
            "20    13.614291\n",
            "21    12.745978\n",
            "22    15.177831\n",
            "23    15.251742\n",
            "24    12.823494\n",
            "25    13.389943\n",
            "26    11.432594\n",
            "27    12.092053\n",
            "28    13.280095\n",
            "29    11.667165\n",
            "30    15.095725\n",
            "31    13.737790\n",
            "32    11.726253\n",
            "33    12.207397\n",
            "34    13.488487\n",
            "35    12.113579\n",
            "36    13.170437\n",
            "37    14.666064\n",
            "38    10.499904\n",
            "39     8.212026\n",
            "40    12.564558\n",
            "41    14.308482\n",
            "42    13.036729\n",
            "43    12.059433\n",
            "44    10.274810\n",
            "45    15.107885\n",
            "46    16.175267\n",
            "47    12.499160\n",
            "48    11.858315\n",
            "49    12.367273\n",
            "Name: prediction, dtype: float64, 0     16.658009\n",
            "1     13.830056\n",
            "2     14.975981\n",
            "3     14.555460\n",
            "4     17.327761\n",
            "5     14.085309\n",
            "6     14.910097\n",
            "7     13.525659\n",
            "8     15.314595\n",
            "9     13.132634\n",
            "10    15.438502\n",
            "11    14.963936\n",
            "12    11.975502\n",
            "13    15.559264\n",
            "14    13.775467\n",
            "15    14.241575\n",
            "16    13.231906\n",
            "17    14.218456\n",
            "18    12.639701\n",
            "19    13.907477\n",
            "20    13.614291\n",
            "21    12.745978\n",
            "22    15.177831\n",
            "23    15.251742\n",
            "24    12.823494\n",
            "25    13.389943\n",
            "26    11.432594\n",
            "27    12.092053\n",
            "28    13.280095\n",
            "29    11.667165\n",
            "30    15.095725\n",
            "31    13.737790\n",
            "32    11.726253\n",
            "33    12.207397\n",
            "34    13.488487\n",
            "35    12.113579\n",
            "36    13.170437\n",
            "37    14.666064\n",
            "38    10.499904\n",
            "39     8.212026\n",
            "40    12.564558\n",
            "41    14.308482\n",
            "42    13.036729\n",
            "43    12.059433\n",
            "44    10.274810\n",
            "45    15.107885\n",
            "46    16.175267\n",
            "47    12.499160\n",
            "48    11.858315\n",
            "49    12.367273\n",
            "Name: label, dtype: float64]\n"
          ]
        }
      ]
    },
    {
      "cell_type": "code",
      "metadata": {
        "id": "K02IA1-L_m_T"
      },
      "source": [
        "lr = LinearRegression(featuresCol = 'features',labelCol='label', maxIter=10, regParam=0.0, elasticNetParam=1.0)"
      ],
      "execution_count": null,
      "outputs": []
    },
    {
      "cell_type": "code",
      "metadata": {
        "id": "TwaFZsu__m8a"
      },
      "source": [
        "lr_model=lr.fit(modified_data_sdf)"
      ],
      "execution_count": null,
      "outputs": []
    },
    {
      "cell_type": "code",
      "metadata": {
        "id": "Nh_3N3wn_m5u"
      },
      "source": [
        "l1_predictions = lr_model.transform(modified_data_sdf)"
      ],
      "execution_count": null,
      "outputs": []
    },
    {
      "cell_type": "code",
      "metadata": {
        "colab": {
          "base_uri": "https://localhost:8080/"
        },
        "id": "O9Td81wN_46J",
        "outputId": "dda5b6c4-7b9f-4cae-e30d-c2134183d176"
      },
      "source": [
        "l1_predictions.select(\"prediction\",\"label\",\"features\").show()"
      ],
      "execution_count": null,
      "outputs": [
        {
          "output_type": "stream",
          "name": "stdout",
          "text": [
            "+------------------+------------------+--------------------+\n",
            "|        prediction|             label|            features|\n",
            "+------------------+------------------+--------------------+\n",
            "| 16.63700614092837| 16.65800889801732|[0.0,13.0,13.0,8....|\n",
            "|  13.8066711139494| 13.83005625452622|[1.0,13.0,13.0,1....|\n",
            "|14.984062547649849| 14.97598121687207|[2.0,13.0,13.0,1....|\n",
            "|14.526082076359401|14.555459737125451|[3.0,13.0,13.0,3....|\n",
            "|17.328268897631354| 17.32776091246296|[4.0,13.0,13.0,8....|\n",
            "|14.118472895762475|14.085308661317494|[5.0,13.0,13.0,9....|\n",
            "| 14.92609770109241|14.910096752782383|[6.0,13.0,13.0,1....|\n",
            "|13.515184958000278|13.525659468227653|[7.0,13.0,13.0,11...|\n",
            "| 15.30706634460922|15.314595066548549|[8.0,13.0,13.0,3....|\n",
            "|13.131975805186332|13.132634448893928|[9.0,13.0,13.0,11...|\n",
            "|15.445311902632888|  15.4385022021874|[10.0,13.0,13.0,8...|\n",
            "|15.006631616500696|14.963936296590095|[11.0,13.0,13.0,6...|\n",
            "|11.983907941686729|11.975501578387167|[12.0,13.0,13.0,4...|\n",
            "|15.595720276778957|15.559263780679146|[13.0,13.0,13.0,8...|\n",
            "|13.810868638253954|13.775467426717924|[14.0,13.0,13.0,3...|\n",
            "|14.272604434821414|14.241574708172283|[15.0,13.0,13.0,1...|\n",
            "|13.201014838741433|13.231906334447643|[16.0,13.0,13.0,1...|\n",
            "| 14.21813509006163|14.218456495625425|[17.0,13.0,13.0,3...|\n",
            "|12.655795003735832|12.639700760203693|[18.0,13.0,13.0,4...|\n",
            "|13.932917279387524|13.907476971790734|[19.0,13.0,13.0,4...|\n",
            "+------------------+------------------+--------------------+\n",
            "only showing top 20 rows\n",
            "\n"
          ]
        }
      ]
    },
    {
      "cell_type": "code",
      "metadata": {
        "id": "LBB-rWbRAJU4"
      },
      "source": [
        "lr = LinearRegression(featuresCol = 'features',labelCol='label', maxIter=10, regParam=0.3, elasticNetParam=0.0)"
      ],
      "execution_count": null,
      "outputs": []
    },
    {
      "cell_type": "code",
      "metadata": {
        "id": "UUdxBgDuAJQi"
      },
      "source": [
        "lr_model=lr.fit(modified_data_sdf)"
      ],
      "execution_count": null,
      "outputs": []
    },
    {
      "cell_type": "code",
      "metadata": {
        "id": "0hV2gSAqAJN5"
      },
      "source": [
        "l2_predictions = lr_model.transform(modified_data_sdf)"
      ],
      "execution_count": null,
      "outputs": []
    },
    {
      "cell_type": "code",
      "metadata": {
        "colab": {
          "base_uri": "https://localhost:8080/"
        },
        "id": "_q05MgV0AlVa",
        "outputId": "5f809bfb-32de-489c-c03d-b5f55b59103b"
      },
      "source": [
        "l2_predictions.select(\"prediction\",\"label\",\"features\").show()"
      ],
      "execution_count": null,
      "outputs": [
        {
          "output_type": "stream",
          "name": "stdout",
          "text": [
            "+------------------+------------------+--------------------+\n",
            "|        prediction|             label|            features|\n",
            "+------------------+------------------+--------------------+\n",
            "| 16.43903750126866| 16.65800889801732|[0.0,13.0,13.0,8....|\n",
            "|13.912221083715888| 13.83005625452622|[1.0,13.0,13.0,1....|\n",
            "|14.824060093624087| 14.97598121687207|[2.0,13.0,13.0,1....|\n",
            "|14.379187344906839|14.555459737125451|[3.0,13.0,13.0,3....|\n",
            "| 16.82116133043769| 17.32776091246296|[4.0,13.0,13.0,8....|\n",
            "|14.354156592691004|14.085308661317494|[5.0,13.0,13.0,9....|\n",
            "|14.913553807886004|14.910096752782383|[6.0,13.0,13.0,1....|\n",
            "|13.750526687905053|13.525659468227653|[7.0,13.0,13.0,11...|\n",
            "|15.116222109406365|15.314595066548549|[8.0,13.0,13.0,3....|\n",
            "|13.041383246358578|13.132634448893928|[9.0,13.0,13.0,11...|\n",
            "|15.339538592266438|  15.4385022021874|[10.0,13.0,13.0,8...|\n",
            "| 14.51998758236117|14.963936296590095|[11.0,13.0,13.0,6...|\n",
            "|11.391510470275843|11.975501578387167|[12.0,13.0,13.0,4...|\n",
            "|15.272288897047664|15.559263780679146|[13.0,13.0,13.0,8...|\n",
            "|13.580295796690061|13.775467426717924|[14.0,13.0,13.0,3...|\n",
            "|14.037384380121946|14.241574708172283|[15.0,13.0,13.0,1...|\n",
            "|13.298641670707369|13.231906334447643|[16.0,13.0,13.0,1...|\n",
            "|13.539322428033435|14.218456495625425|[17.0,13.0,13.0,3...|\n",
            "| 12.45160451571588|12.639700760203693|[18.0,13.0,13.0,4...|\n",
            "| 13.69350866418844|13.907476971790734|[19.0,13.0,13.0,4...|\n",
            "+------------------+------------------+--------------------+\n",
            "only showing top 20 rows\n",
            "\n"
          ]
        }
      ]
    },
    {
      "cell_type": "code",
      "metadata": {
        "id": "kt4rsHnw-bCe"
      },
      "source": [
        "elastic_net_predictions = LinearRegression(featuresCol = 'features',labelCol='label', maxIter=20, regParam=0.0, elasticNetParam=0.8)"
      ],
      "execution_count": null,
      "outputs": []
    },
    {
      "cell_type": "code",
      "metadata": {
        "id": "8qMs1NZKBWCa"
      },
      "source": [
        "lr_model=lr.fit(modified_data_sdf)"
      ],
      "execution_count": null,
      "outputs": []
    },
    {
      "cell_type": "code",
      "metadata": {
        "id": "QP5aJB2CBV-z"
      },
      "source": [
        "elastic_net_predictions = lr_model.transform(modified_data_sdf)"
      ],
      "execution_count": null,
      "outputs": []
    },
    {
      "cell_type": "code",
      "metadata": {
        "colab": {
          "base_uri": "https://localhost:8080/"
        },
        "id": "WY-lzaMH-xvp",
        "outputId": "89c00dd0-0831-4918-9338-385c8675c6cd"
      },
      "source": [
        "elastic_net_predictions.select(\"prediction\",\"label\",\"features\").show()"
      ],
      "execution_count": null,
      "outputs": [
        {
          "output_type": "stream",
          "name": "stdout",
          "text": [
            "+------------------+------------------+--------------------+\n",
            "|        prediction|             label|            features|\n",
            "+------------------+------------------+--------------------+\n",
            "| 16.43903750126866| 16.65800889801732|[0.0,13.0,13.0,8....|\n",
            "|13.912221083715888| 13.83005625452622|[1.0,13.0,13.0,1....|\n",
            "|14.824060093624087| 14.97598121687207|[2.0,13.0,13.0,1....|\n",
            "|14.379187344906839|14.555459737125451|[3.0,13.0,13.0,3....|\n",
            "| 16.82116133043769| 17.32776091246296|[4.0,13.0,13.0,8....|\n",
            "|14.354156592691004|14.085308661317494|[5.0,13.0,13.0,9....|\n",
            "|14.913553807886004|14.910096752782383|[6.0,13.0,13.0,1....|\n",
            "|13.750526687905053|13.525659468227653|[7.0,13.0,13.0,11...|\n",
            "|15.116222109406365|15.314595066548549|[8.0,13.0,13.0,3....|\n",
            "|13.041383246358578|13.132634448893928|[9.0,13.0,13.0,11...|\n",
            "|15.339538592266438|  15.4385022021874|[10.0,13.0,13.0,8...|\n",
            "| 14.51998758236117|14.963936296590095|[11.0,13.0,13.0,6...|\n",
            "|11.391510470275843|11.975501578387167|[12.0,13.0,13.0,4...|\n",
            "|15.272288897047664|15.559263780679146|[13.0,13.0,13.0,8...|\n",
            "|13.580295796690061|13.775467426717924|[14.0,13.0,13.0,3...|\n",
            "|14.037384380121946|14.241574708172283|[15.0,13.0,13.0,1...|\n",
            "|13.298641670707369|13.231906334447643|[16.0,13.0,13.0,1...|\n",
            "|13.539322428033435|14.218456495625425|[17.0,13.0,13.0,3...|\n",
            "| 12.45160451571588|12.639700760203693|[18.0,13.0,13.0,4...|\n",
            "| 13.69350866418844|13.907476971790734|[19.0,13.0,13.0,4...|\n",
            "+------------------+------------------+--------------------+\n",
            "only showing top 20 rows\n",
            "\n"
          ]
        }
      ]
    },
    {
      "cell_type": "code",
      "metadata": {
        "id": "bDr2HeXb-xsz"
      },
      "source": [
        "test_rmse_l1 = (lr_evaluator.evaluate(l1_predictions))\n",
        "test_rmse_l2 = (lr_evaluator.evaluate(l2_predictions))\n",
        "test_rmse_elastic = (lr_evaluator.evaluate(elastic_net_predictions))"
      ],
      "execution_count": null,
      "outputs": []
    },
    {
      "cell_type": "code",
      "metadata": {
        "colab": {
          "base_uri": "https://localhost:8080/"
        },
        "id": "C3hpwgfX-xqW",
        "outputId": "33509e6d-ee3f-468a-b68e-37ca6a1d99de"
      },
      "source": [
        "result = [test_rmse_l1, test_rmse_l2, test_rmse_elastic]\n",
        "print('result_lr_all', result)"
      ],
      "execution_count": null,
      "outputs": [
        {
          "output_type": "stream",
          "name": "stdout",
          "text": [
            "result_lr_all [0.9998258295589517, 0.9703288831754919, 0.9703288831754919]\n"
          ]
        }
      ]
    },
    {
      "cell_type": "code",
      "metadata": {
        "id": "_WTKoKt3UVI5"
      },
      "source": [
        "from pyspark.ml.regression import RandomForestRegressor"
      ],
      "execution_count": null,
      "outputs": []
    },
    {
      "cell_type": "code",
      "metadata": {
        "id": "82fkImNPMa5a"
      },
      "source": [
        "(trainingData, testData) = modified_data_sdf.randomSplit([0.8, 0.2])"
      ],
      "execution_count": null,
      "outputs": []
    },
    {
      "cell_type": "code",
      "metadata": {
        "id": "v_-d2vbKUovF"
      },
      "source": [
        "rf = RandomForestRegressor()"
      ],
      "execution_count": null,
      "outputs": []
    },
    {
      "cell_type": "code",
      "metadata": {
        "id": "vLnoyZkqUrB9"
      },
      "source": [
        "rf_model =rf.fit(trainingData)"
      ],
      "execution_count": null,
      "outputs": []
    },
    {
      "cell_type": "code",
      "metadata": {
        "colab": {
          "base_uri": "https://localhost:8080/"
        },
        "id": "QsizV43HVVB9",
        "outputId": "83f87d98-1f6e-435a-cea9-d229d4b5252a"
      },
      "source": [
        "rf_model"
      ],
      "execution_count": null,
      "outputs": [
        {
          "output_type": "execute_result",
          "data": {
            "text/plain": [
              "RandomForestRegressionModel: uid=RandomForestRegressor_0613ae869230, numTrees=20, numFeatures=15"
            ]
          },
          "metadata": {},
          "execution_count": 61
        }
      ]
    },
    {
      "cell_type": "code",
      "metadata": {
        "id": "LEnOYd35Nv-y"
      },
      "source": [
        "rf_train_predictions = rf_model.transform(trainingData)"
      ],
      "execution_count": null,
      "outputs": []
    },
    {
      "cell_type": "code",
      "metadata": {
        "id": "TW7Zmgg4Jof2"
      },
      "source": [
        "rf_test_predictions = rf_model.transform(testData)"
      ],
      "execution_count": null,
      "outputs": []
    },
    {
      "cell_type": "code",
      "metadata": {
        "colab": {
          "base_uri": "https://localhost:8080/"
        },
        "id": "dgYQoa58Pyzi",
        "outputId": "261251c2-0b09-426e-ae08-a5b1a87ff39d"
      },
      "source": [
        "rf_test_predictions.select(\"prediction\",\"label\",\"features\").show()"
      ],
      "execution_count": null,
      "outputs": [
        {
          "output_type": "stream",
          "name": "stdout",
          "text": [
            "+------------------+------------------+--------------------+\n",
            "|        prediction|             label|            features|\n",
            "+------------------+------------------+--------------------+\n",
            "|12.881526658024962|12.977850768461046|[1.0,13.0,13.0,3....|\n",
            "| 16.47862093634339| 17.32776091246296|[4.0,13.0,13.0,8....|\n",
            "|14.857719803831277|14.910096752782383|[6.0,13.0,13.0,1....|\n",
            "|14.779351106163684| 14.66606397042926|[8.0,13.0,13.0,3....|\n",
            "|15.568953872361842|15.314595066548549|[8.0,13.0,13.0,3....|\n",
            "|11.725246921779565|12.591559510922673|[10.0,13.0,13.0,3...|\n",
            "| 11.11788066924531|10.920781320026649|[14.0,13.0,13.0,1...|\n",
            "|14.307330279455474|14.241574708172283|[15.0,13.0,13.0,1...|\n",
            "|12.588709243126077| 12.45039043207579|[18.0,13.0,13.0,5...|\n",
            "|13.474078583106953| 13.38994324769186|[19.0,13.0,13.0,3...|\n",
            "|12.724205071853282|12.745978316175949|[21.0,13.0,13.0,3...|\n",
            "|11.653217967446409|10.803425300247511|[26.0,13.0,13.0,9...|\n",
            "|12.547934491253036|12.207396768492305|[35.0,13.0,13.0,9...|\n",
            "| 12.04529336626689|11.988047224214881|[36.0,13.0,13.0,3...|\n",
            "|12.020354764969131|12.113578995579172|[38.0,13.0,13.0,3...|\n",
            "|14.779351106163684| 14.66606397042926|[40.0,13.0,13.0,3...|\n",
            "| 13.30072966592767|13.138583123251271|[47.0,13.0,13.0,1...|\n",
            "| 9.772550611489255|10.318803976694667|[55.0,13.0,13.0,1...|\n",
            "| 9.860841185595826|10.160607319405269|[57.0,13.0,13.0,3...|\n",
            "|13.697269725511479|13.525659468227653|[60.0,13.0,13.0,1...|\n",
            "+------------------+------------------+--------------------+\n",
            "only showing top 20 rows\n",
            "\n"
          ]
        }
      ]
    },
    {
      "cell_type": "code",
      "metadata": {
        "id": "J6Ak9du1JsfM"
      },
      "source": [
        "from pyspark.ml.evaluation import RegressionEvaluator"
      ],
      "execution_count": null,
      "outputs": []
    },
    {
      "cell_type": "code",
      "metadata": {
        "id": "JbN60z3zFCJ9"
      },
      "source": [
        "evaluator = RegressionEvaluator(labelCol=\"label\", predictionCol=\"prediction\", metricName=\"rmse\")"
      ],
      "execution_count": null,
      "outputs": []
    },
    {
      "cell_type": "code",
      "metadata": {
        "colab": {
          "base_uri": "https://localhost:8080/"
        },
        "id": "FN-vTY3bFJpO",
        "outputId": "a9647508-4963-41fd-a44c-3991ce36e53c"
      },
      "source": [
        "train_rmse_rf = print(\"Train_rmse = \",evaluator.evaluate(rf_train_predictions))\n",
        "rmse_rf = print(\"Test_rmse = \",evaluator.evaluate(rf_test_predictions))"
      ],
      "execution_count": null,
      "outputs": [
        {
          "output_type": "stream",
          "name": "stdout",
          "text": [
            "Train_rmse =  0.3432994701351548\n",
            "Test_rmse =  0.34215637623114464\n"
          ]
        }
      ]
    },
    {
      "cell_type": "code",
      "metadata": {
        "colab": {
          "base_uri": "https://localhost:8080/"
        },
        "id": "2px-OzULL4Ti",
        "outputId": "2c1865d2-412c-4bba-99e6-5274c0bb0f95"
      },
      "source": [
        "rf_test_predictions.show()"
      ],
      "execution_count": null,
      "outputs": [
        {
          "output_type": "stream",
          "name": "stdout",
          "text": [
            "+---+--------+-------------+-------------+--------+-----------+-----------------+----------------+----------------------+-----------+-------+------------------+------------------+------------------+------------------+---------+--------+--------+-----------+------------+---------------+--------------------+------------------+\n",
            "|_c0|video_id|trending_date|channel_title|category|category_id|comments_disabled|ratings_disabled|video_error_or_removed|description|Country|             label|         likes_log|      dislikes_log|       comment_log|len_title|desc_len|num_tags|publsh_time|publish_date|publish_weekday|            features|        prediction|\n",
            "+---+--------+-------------+-------------+--------+-----------+-----------------+----------------+----------------------+-----------+-------+------------------+------------------+------------------+------------------+---------+--------+--------+-----------+------------+---------------+--------------------+------------------+\n",
            "|  1|   27859|           13|           13|       3|         24|            false|           false|                 false|      20492|      1|12.977850768461046| 9.550662331752143|   6.3578422665081| 7.057897937411856|      100|    1828|       6|      12825|         173|              6|[1.0,13.0,13.0,3....|12.881526658024962|\n",
            "|  4|    2741|           13|           13|       8|         10|            false|           false|                 false|      46178|      0| 17.32776091246296|14.306621722547163| 9.956222307519994|11.351206215643018|       43|    1250|     103|       8065|         170|              3|[4.0,13.0,13.0,8....| 16.47862093634339|\n",
            "|  6|   29486|           13|           13|       1|         23|            false|           false|                 false|      37544|      0|14.910096752782383|12.141347440301546|  9.19532825185568|10.189793678807979|       38|    2532|     310|      27637|         173|              6|[6.0,13.0,13.0,1....|14.857719803831277|\n",
            "|  8|   13363|           13|           13|       3|         24|            false|           false|                 false|      24979|      1| 14.66606397042926|12.209063169452682|  8.70267641154777| 8.932740634865914|       34|    1106|     200|       6119|         173|              6|[8.0,13.0,13.0,3....|14.779351106163684|\n",
            "|  8|   16338|           13|           13|       3|         24|            false|           false|                 false|      18129|      0|15.314595066548549|12.587374834069179|  8.32457884513685| 10.50210424924984|       36|     748|     380|      22700|         173|              6|[8.0,13.0,13.0,3....|15.568953872361842|\n",
            "| 10|   17710|           13|           13|       3|         24|             true|            true|                 false|      18385|      1|12.591559510922673|               0.0|               0.0|               0.0|       59|     452|     145|        776|         173|              6|[10.0,13.0,13.0,3...|11.725246921779565|\n",
            "| 14|   20942|           13|           13|       1|         23|            false|           false|                 false|      27371|      1|10.920781320026649| 8.331827004436057| 4.584967478670572| 5.983936280687191|       18|    1467|     275|      17196|         174|              0|[14.0,13.0,13.0,1...| 11.11788066924531|\n",
            "| 15|    8946|           13|           13|      11|         22|            false|           false|                 false|      16241|      0|14.241574708172283|10.896035374127038| 7.437206366871292| 8.361240889642351|       39|    3452|     291|      14495|         172|              5|[15.0,13.0,13.0,1...|14.307330279455474|\n",
            "| 18|   35613|           13|           13|       5|         20|            false|           false|                 false|      19491|      1| 12.45039043207579| 9.906981441790384|5.5053315359323625|  6.85751406254539|       51|    1329|       6|       2291|         174|              0|[18.0,13.0,13.0,5...|12.588709243126077|\n",
            "| 19|    6378|           13|           13|       3|         24|            false|           false|                 false|      31094|      1| 13.38994324769186|10.231855610259325| 7.929846429742503|  8.28828304520769|       80|     522|     212|      14432|         173|              6|[19.0,13.0,13.0,3...|13.474078583106953|\n",
            "| 21|   42047|           13|           13|       3|         24|            false|           false|                 false|      35731|      0|12.745978316175949| 9.227492430793749| 6.502790045915623| 7.671826797878781|       32|    1403|     477|       7957|         174|              0|[21.0,13.0,13.0,3...|12.724205071853282|\n",
            "| 26|   38508|           13|           13|       9|         25|            false|           false|                 false|       7272|      1|10.803425300247511| 8.483843211734683|5.8944028342648505| 6.818924065275521|       37|     683|     197|       8607|         174|              0|[26.0,13.0,13.0,9...|11.653217967446409|\n",
            "| 35|   47235|           13|           13|       9|         25|            false|           false|                 false|      26033|      0|12.207396768492305| 7.988882253309227| 5.762051382780177|7.7501841622578365|       68|    1038|     462|      12632|         174|              0|[35.0,13.0,13.0,9...|12.547934491253036|\n",
            "| 36|   30196|           13|           13|       3|         24|            false|           false|                 false|      46392|      1|11.988047224214881| 7.805474625270857| 5.093750200806762| 5.780743515792329|       50|     378|     225|      22128|         173|              6|[36.0,13.0,13.0,3...| 12.04529336626689|\n",
            "| 38|   12841|           13|           13|       3|         24|            false|           false|                 false|      30924|      0|12.113578995579172| 9.609250711113672|  4.02535169073515| 7.274479558773871|       16|     567|      69|       2527|         174|              0|[38.0,13.0,13.0,3...|12.020354764969131|\n",
            "| 40|   13363|           13|           13|       3|         24|            false|           false|                 false|      24979|      0| 14.66606397042926|12.209063169452682|  8.70267641154777| 8.932740634865914|       34|    1106|     200|       6119|         173|              6|[40.0,13.0,13.0,3...|14.779351106163684|\n",
            "| 47|    7696|           13|           13|      11|         22|            false|           false|                 false|      27981|      1|13.138583123251271| 10.16277015046621| 6.914730892718563| 7.797291273547472|       22|     287|     111|      25581|         172|              5|[47.0,13.0,13.0,1...| 13.30072966592767|\n",
            "| 55|   34724|           13|           13|      11|         22|            false|           false|                 false|      20406|      1|10.318803976694667|4.1588830833596715|2.3978952727983707|2.1972245773362196|       55|      95|      75|      23695|         173|              6|[55.0,13.0,13.0,1...| 9.772550611489255|\n",
            "| 57|   18257|           13|           13|       3|         24|            false|           false|                 false|      45501|      0|10.160607319405269|3.4965075614664802|1.3862943611198906|2.6390573296152584|       49|     239|      89|      15345|         174|              0|[57.0,13.0,13.0,3...| 9.860841185595826|\n",
            "| 60|    2969|           13|           13|      11|         22|            false|           false|                 false|      29775|      1|13.525659468227653|10.960183498102946| 7.995643604287271|   9.6778408710038|       34|    1410|      15|      17058|         174|              0|[60.0,13.0,13.0,1...|13.697269725511479|\n",
            "+---+--------+-------------+-------------+--------+-----------+-----------------+----------------+----------------------+-----------+-------+------------------+------------------+------------------+------------------+---------+--------+--------+-----------+------------+---------------+--------------------+------------------+\n",
            "only showing top 20 rows\n",
            "\n"
          ]
        }
      ]
    },
    {
      "cell_type": "code",
      "metadata": {
        "colab": {
          "base_uri": "https://localhost:8080/"
        },
        "id": "bSzdC1yGM-YC",
        "outputId": "756382ac-8014-4e78-a46f-17c251e39417"
      },
      "source": [
        "evaluator = RegressionEvaluator(labelCol=\"label\", predictionCol=\"prediction\", metricName=\"r2\")\n",
        "print(\" R Squared=\", evaluator.evaluate(predictions))"
      ],
      "execution_count": null,
      "outputs": [
        {
          "output_type": "stream",
          "name": "stdout",
          "text": [
            " R Squared= 0.9999999999999984\n"
          ]
        }
      ]
    },
    {
      "cell_type": "code",
      "metadata": {
        "colab": {
          "base_uri": "https://localhost:8080/"
        },
        "id": "kbmHOLLcRhlB",
        "outputId": "d9b7b98f-7f02-431c-ac7f-5b20a27041a0"
      },
      "source": [
        "predictions_to_reveal = predictions.toPandas()\n",
        "answer = [train_rmse_rf, predictions_to_reveal['prediction'][0:50], predictions_to_reveal['label'][0:50], rmse_rf]\n",
        "print('check_rf_spark', answer)"
      ],
      "execution_count": null,
      "outputs": [
        {
          "output_type": "stream",
          "name": "stdout",
          "text": [
            "check_rf_spark [None, 0     16.658009\n",
            "1     13.830056\n",
            "2     14.975981\n",
            "3     14.555460\n",
            "4     17.327761\n",
            "5     14.085309\n",
            "6     14.910097\n",
            "7     13.525659\n",
            "8     15.314595\n",
            "9     13.132634\n",
            "10    15.438502\n",
            "11    14.963936\n",
            "12    11.975502\n",
            "13    15.559264\n",
            "14    13.775467\n",
            "15    14.241575\n",
            "16    13.231906\n",
            "17    14.218457\n",
            "18    12.639701\n",
            "19    13.907477\n",
            "20    13.614291\n",
            "21    12.745978\n",
            "22    15.177831\n",
            "23    15.251742\n",
            "24    12.823494\n",
            "25    13.389943\n",
            "26    11.432594\n",
            "27    12.092053\n",
            "28    13.280095\n",
            "29    11.667165\n",
            "30    15.095725\n",
            "31    13.737790\n",
            "32    11.726253\n",
            "33    12.207397\n",
            "34    13.488487\n",
            "35    12.113579\n",
            "36    13.170437\n",
            "37    14.666064\n",
            "38    10.499904\n",
            "39     8.212026\n",
            "40    12.564558\n",
            "41    14.308482\n",
            "42    13.036729\n",
            "43    12.059433\n",
            "44    10.274810\n",
            "45    15.107885\n",
            "46    16.175267\n",
            "47    12.499160\n",
            "48    11.858315\n",
            "49    12.367273\n",
            "Name: prediction, dtype: float64, 0     16.658009\n",
            "1     13.830056\n",
            "2     14.975981\n",
            "3     14.555460\n",
            "4     17.327761\n",
            "5     14.085309\n",
            "6     14.910097\n",
            "7     13.525659\n",
            "8     15.314595\n",
            "9     13.132634\n",
            "10    15.438502\n",
            "11    14.963936\n",
            "12    11.975502\n",
            "13    15.559264\n",
            "14    13.775467\n",
            "15    14.241575\n",
            "16    13.231906\n",
            "17    14.218456\n",
            "18    12.639701\n",
            "19    13.907477\n",
            "20    13.614291\n",
            "21    12.745978\n",
            "22    15.177831\n",
            "23    15.251742\n",
            "24    12.823494\n",
            "25    13.389943\n",
            "26    11.432594\n",
            "27    12.092053\n",
            "28    13.280095\n",
            "29    11.667165\n",
            "30    15.095725\n",
            "31    13.737790\n",
            "32    11.726253\n",
            "33    12.207397\n",
            "34    13.488487\n",
            "35    12.113579\n",
            "36    13.170437\n",
            "37    14.666064\n",
            "38    10.499904\n",
            "39     8.212026\n",
            "40    12.564558\n",
            "41    14.308482\n",
            "42    13.036729\n",
            "43    12.059433\n",
            "44    10.274810\n",
            "45    15.107885\n",
            "46    16.175267\n",
            "47    12.499160\n",
            "48    11.858315\n",
            "49    12.367273\n",
            "Name: label, dtype: float64, None]\n"
          ]
        }
      ]
    },
    {
      "cell_type": "code",
      "metadata": {
        "id": "pDP7lpmVXMTl"
      },
      "source": [
        "pca = PCA(k=5 , inputCol=\"features\", outputCol=\"pca\")\n",
        "pca_of_model = pca.fit(trainingData)\n",
        "pca_transformed = pca_of_model.transform(trainingData)"
      ],
      "execution_count": null,
      "outputs": []
    },
    {
      "cell_type": "code",
      "metadata": {
        "colab": {
          "base_uri": "https://localhost:8080/"
        },
        "id": "wA8mulBFkguJ",
        "outputId": "71f340a4-3467-49b4-b107-3ef4caec5a74"
      },
      "source": [
        "pca_of_model"
      ],
      "execution_count": null,
      "outputs": [
        {
          "output_type": "execute_result",
          "data": {
            "text/plain": [
              "PCAModel: uid=PCA_30da512b7a9b, k=5"
            ]
          },
          "metadata": {},
          "execution_count": 168
        }
      ]
    },
    {
      "cell_type": "code",
      "metadata": {
        "id": "pt7lX_y2gJnz"
      },
      "source": [
        "pca_train_predictions = pca_of_model.transform(trainingData)"
      ],
      "execution_count": null,
      "outputs": []
    },
    {
      "cell_type": "code",
      "metadata": {
        "id": "oNcCoCJPgBEb"
      },
      "source": [
        "pca_test_predictions = pca_of_model.transform(testData)"
      ],
      "execution_count": null,
      "outputs": []
    },
    {
      "cell_type": "code",
      "metadata": {
        "colab": {
          "base_uri": "https://localhost:8080/"
        },
        "id": "SMwtIRE1c2Jl",
        "outputId": "f892ae2e-ee82-41d6-f4e0-67fad842ef76"
      },
      "source": [
        "pca_of_model.transform(trainingData).collect()[0].pca"
      ],
      "execution_count": null,
      "outputs": [
        {
          "output_type": "execute_result",
          "data": {
            "text/plain": [
              "DenseVector([-10488.0424, 1064.6331, 17470.5129, 1285.3961, 44.7679])"
            ]
          },
          "metadata": {},
          "execution_count": 143
        }
      ]
    },
    {
      "cell_type": "code",
      "metadata": {
        "colab": {
          "base_uri": "https://localhost:8080/"
        },
        "id": "dYMYTdODZbbc",
        "outputId": "751cd8d0-0b99-4855-b0a2-057576ec1eb8"
      },
      "source": [
        "pca_of_model.explainedVariance"
      ],
      "execution_count": null,
      "outputs": [
        {
          "output_type": "execute_result",
          "data": {
            "text/plain": [
              "DenseVector([0.4761, 0.3652, 0.1565, 0.0021, 0.0001])"
            ]
          },
          "metadata": {},
          "execution_count": 73
        }
      ]
    },
    {
      "cell_type": "code",
      "metadata": {
        "id": "5HOyEsfTia_J"
      },
      "source": [
        "results = pca_transformed.select(\"pca\")"
      ],
      "execution_count": null,
      "outputs": []
    },
    {
      "cell_type": "code",
      "metadata": {
        "id": "gmfcijLsi5m4",
        "colab": {
          "base_uri": "https://localhost:8080/"
        },
        "outputId": "28e3baaa-e7bc-4479-a094-8cfe7130b122"
      },
      "source": [
        "results.show()"
      ],
      "execution_count": null,
      "outputs": [
        {
          "output_type": "stream",
          "name": "stdout",
          "text": [
            "+--------------------+\n",
            "|                 pca|\n",
            "+--------------------+\n",
            "|[-10488.042367850...|\n",
            "|[-11703.336592175...|\n",
            "|[-30273.467054351...|\n",
            "|[-38768.459426527...|\n",
            "|[-37526.292777745...|\n",
            "|[-25264.065631359...|\n",
            "|[-15849.198205191...|\n",
            "|[-30788.890302888...|\n",
            "|[-44537.398939067...|\n",
            "|[-9049.7374945238...|\n",
            "|[-6473.2771941696...|\n",
            "|[-30129.861857690...|\n",
            "|[-9734.1526516209...|\n",
            "|[-3132.0986628831...|\n",
            "|[-31142.111765363...|\n",
            "|[-39252.175592266...|\n",
            "|[-32316.249012007...|\n",
            "|[-36750.455354072...|\n",
            "|[-33763.464475759...|\n",
            "|[-13694.376861227...|\n",
            "+--------------------+\n",
            "only showing top 20 rows\n",
            "\n"
          ]
        }
      ]
    },
    {
      "cell_type": "code",
      "metadata": {
        "id": "GxYdEBlO5kJj"
      },
      "source": [
        "from pyspark.mllib.linalg import Vectors\n",
        "from pyspark.mllib.linalg.distributed import RowMatrix"
      ],
      "execution_count": null,
      "outputs": []
    },
    {
      "cell_type": "code",
      "metadata": {
        "colab": {
          "base_uri": "https://localhost:8080/"
        },
        "id": "sURBx0gO6uVd",
        "outputId": "067c82a6-d315-4a7e-842e-cc5723d64b2c"
      },
      "source": [
        "trainingData.columns"
      ],
      "execution_count": null,
      "outputs": [
        {
          "output_type": "execute_result",
          "data": {
            "text/plain": [
              "['_c0',\n",
              " 'video_id',\n",
              " 'trending_date',\n",
              " 'channel_title',\n",
              " 'category',\n",
              " 'category_id',\n",
              " 'comments_disabled',\n",
              " 'ratings_disabled',\n",
              " 'video_error_or_removed',\n",
              " 'description',\n",
              " 'Country',\n",
              " 'label',\n",
              " 'likes_log',\n",
              " 'dislikes_log',\n",
              " 'comment_log',\n",
              " 'len_title',\n",
              " 'desc_len',\n",
              " 'num_tags',\n",
              " 'publsh_time',\n",
              " 'publish_date',\n",
              " 'publish_weekday',\n",
              " 'features']"
            ]
          },
          "metadata": {},
          "execution_count": 94
        }
      ]
    },
    {
      "cell_type": "code",
      "metadata": {
        "colab": {
          "base_uri": "https://localhost:8080/"
        },
        "id": "5gg7W5e7iR-H",
        "outputId": "753be7b3-0917-450a-d6c3-2fbf67c45ecb"
      },
      "source": [
        "pca_test_predictions.show()"
      ],
      "execution_count": null,
      "outputs": [
        {
          "output_type": "stream",
          "name": "stdout",
          "text": [
            "+---+--------+-------------+-------------+--------+-----------+-----------------+----------------+----------------------+-----------+-------+------------------+------------------+------------------+------------------+---------+--------+--------+-----------+------------+---------------+--------------------+--------------------+\n",
            "|_c0|video_id|trending_date|channel_title|category|category_id|comments_disabled|ratings_disabled|video_error_or_removed|description|Country|             label|         likes_log|      dislikes_log|       comment_log|len_title|desc_len|num_tags|publsh_time|publish_date|publish_weekday|            features|                 pca|\n",
            "+---+--------+-------------+-------------+--------+-----------+-----------------+----------------+----------------------+-----------+-------+------------------+------------------+------------------+------------------+---------+--------+--------+-----------+------------+---------------+--------------------+--------------------+\n",
            "|  0|   22451|           13|           13|       3|         24|            false|           false|                 false|      10026|      1|12.267652105461218|10.284762421843075| 7.011213987350367| 8.247482004285693|       40|    1412|      52|      17762|         174|              0|[0.0,13.0,13.0,3....|[-10488.042367850...|\n",
            "|  0|   39758|           13|           13|       8|         10|            false|           false|                 false|      11282|      0| 16.65800889801732|13.576524677012664|10.678698474028431|11.743108183115524|       42|     594|      61|      16530|         171|              4|[0.0,13.0,13.0,8....|[-11703.336592175...|\n",
            "|  1|    1318|           13|           13|       1|         23|            false|           false|                 false|      29935|      0| 13.83005625452622| 11.75818269652955|   7.4318919168078| 9.475086413144906|       29|     704|     121|      16527|         174|              0|[1.0,13.0,13.0,1....|[-30273.467054351...|\n",
            "|  2|    5413|           13|           13|       1|         23|            false|           false|                 false|      38352|      0| 14.97598121687207|11.891608445638235| 8.582980931954241| 9.009691898489343|       53|    1177|     314|      20571|         173|              6|[2.0,13.0,13.0,1....|[-38768.459426527...|\n",
            "|  2|   31613|           13|           13|       1|         23|            false|           false|                 false|      37219|      1|13.086018844077508|11.241169233735326| 6.169610732491456| 9.167537249650874|       55|     338|      45|      16565|         174|              0|[2.0,13.0,13.0,1....|[-37526.292777745...|\n",
            "|  3|   26390|           13|           13|       5|         20|            false|           false|                 false|      24903|      1|13.737790068520269| 11.35060651547512| 6.311734809152915|  8.36730010184162|       31|     170|     106|      16529|         173|              6|[3.0,13.0,13.0,5....|[-25264.065631359...|\n",
            "|  3|   31910|           13|           13|       3|         24|            false|           false|                 false|      15385|      0|14.555459737125451|11.792373732494905| 7.595889917718538| 9.771041285235823|       24|     636|     120|      18663|         173|              6|[3.0,13.0,13.0,3....|[-15849.198205191...|\n",
            "|  4|   33188|           13|           13|      15|         17|            false|           false|                 false|      30480|      1|11.861439196628254| 8.998631198287637| 4.290459441148391|   6.1779441140506|       58|    1384|     243|      15566|         174|              0|[4.0,13.0,13.0,15...|[-30788.890302888...|\n",
            "|  5|    1571|           13|           13|       9|         25|            false|           false|                 false|      44586|      0|14.085308661317494| 11.54979726774608|   8.4368504387337| 9.404590499635411|       93|     901|     241|       5224|         174|              0|[5.0,13.0,13.0,9....|[-44537.398939067...|\n",
            "|  5|   44998|           13|           13|       1|         23|            false|           false|                 false|       8686|      1|11.858314967191795| 9.571853592555165| 5.313205979041787| 6.035481432524756|       64|     752|     332|      14091|         174|              0|[5.0,13.0,13.0,1....|[-9049.7374945238...|\n",
            "|  6|   40251|           13|           13|       3|         24|            false|           false|                 false|       5918|      1|12.142360449558572|  9.13637085177601| 7.231287004327616| 7.791522819150732|       50|    1026|     193|      20373|         173|              6|[6.0,13.0,13.0,3....|[-6473.2771941696...|\n",
            "|  7|    2969|           13|           13|      11|         22|            false|           false|                 false|      29775|      0|13.525659468227653|10.960148737257558| 7.995643604287271|   9.6778408710038|       34|    1410|      15|      17058|         174|              0|[7.0,13.0,13.0,11...|[-30129.861857690...|\n",
            "|  7|   21663|           13|           13|       3|         24|            false|           false|                 false|       9271|      1| 11.41918605086728| 7.423568444259167|  7.55171221535131| 6.553933404025811|       82|     341|      90|      17661|         174|              0|[7.0,13.0,13.0,3....|[-9734.1526516209...|\n",
            "|  9|    1169|           13|           13|      11|         22|            false|           false|                 false|       2497|      1|13.361753436588911| 8.690474003558043| 6.583409222158765| 7.302496423727326|       68|      42|     102|      22629|         173|              6|[9.0,13.0,13.0,11...|[-3132.0986628831...|\n",
            "|  9|    3982|           13|           13|      11|         22|            false|           false|                 false|      30948|      0|13.132634448893928| 8.327484416188264| 6.884486652042782|   7.3031700512368|       65|      75|      36|      11597|         171|              4|[9.0,13.0,13.0,11...|[-31142.111765363...|\n",
            "| 10|   14040|           13|           13|       8|         10|            false|           false|                 false|      38843|      0|  15.4385022021874|12.482176700665605| 9.057888248784506|10.274257690847406|       47|     427|     412|      20367|         171|              4|[10.0,13.0,13.0,8...|[-39252.175592266...|\n",
            "| 11|   24252|           13|           13|       6|         26|            false|           false|                 false|      32092|      0|14.963936296590095|10.255973735853406| 7.734558844354756| 8.105609402299896|       62|    2481|     403|      12828|         173|              6|[11.0,13.0,13.0,6...|[-32316.249012007...|\n",
            "| 11|   38810|           13|           13|       1|         23|            false|           false|                 false|      36546|      1| 14.22427089749555| 11.59575812326344| 7.354362330421477|  7.97728198675515|       28|     506|     125|      12826|         173|              6|[11.0,13.0,13.0,1...|[-36750.455354072...|\n",
            "| 12|   13210|           13|           13|       4|          1|            false|           false|                 false|      33499|      0|11.975501578387167| 5.389071729816501|3.4339872044851463| 5.231108616854587|       42|     764|     231|      14453|         173|              6|[12.0,13.0,13.0,4...|[-33763.464475759...|\n",
            "| 12|   17379|           13|           13|       3|         24|            false|           false|                 false|      13222|      1|12.722249923614566|10.060961276360318| 7.618251097876695| 8.008032846969307|       68|     423|       6|      18584|         173|              6|[12.0,13.0,13.0,3...|[-13694.376861227...|\n",
            "+---+--------+-------------+-------------+--------+-----------+-----------------+----------------+----------------------+-----------+-------+------------------+------------------+------------------+------------------+---------+--------+--------+-----------+------------+---------------+--------------------+--------------------+\n",
            "only showing top 20 rows\n",
            "\n"
          ]
        }
      ]
    },
    {
      "cell_type": "code",
      "metadata": {
        "colab": {
          "base_uri": "https://localhost:8080/"
        },
        "id": "pIIgJ4sSiP-4",
        "outputId": "93caeca8-16f9-4361-b84f-256ce58a5249"
      },
      "source": [
        "pca_test_predictions.select(\"pca\",\"label\",\"features\").show()"
      ],
      "execution_count": null,
      "outputs": [
        {
          "output_type": "stream",
          "name": "stdout",
          "text": [
            "+--------------------+------------------+--------------------+\n",
            "|                 pca|             label|            features|\n",
            "+--------------------+------------------+--------------------+\n",
            "|[-10488.042367850...|12.267652105461218|[0.0,13.0,13.0,3....|\n",
            "|[-11703.336592175...| 16.65800889801732|[0.0,13.0,13.0,8....|\n",
            "|[-30273.467054351...| 13.83005625452622|[1.0,13.0,13.0,1....|\n",
            "|[-38768.459426527...| 14.97598121687207|[2.0,13.0,13.0,1....|\n",
            "|[-37526.292777745...|13.086018844077508|[2.0,13.0,13.0,1....|\n",
            "|[-25264.065631359...|13.737790068520269|[3.0,13.0,13.0,5....|\n",
            "|[-15849.198205191...|14.555459737125451|[3.0,13.0,13.0,3....|\n",
            "|[-30788.890302888...|11.861439196628254|[4.0,13.0,13.0,15...|\n",
            "|[-44537.398939067...|14.085308661317494|[5.0,13.0,13.0,9....|\n",
            "|[-9049.7374945238...|11.858314967191795|[5.0,13.0,13.0,1....|\n",
            "|[-6473.2771941696...|12.142360449558572|[6.0,13.0,13.0,3....|\n",
            "|[-30129.861857690...|13.525659468227653|[7.0,13.0,13.0,11...|\n",
            "|[-9734.1526516209...| 11.41918605086728|[7.0,13.0,13.0,3....|\n",
            "|[-3132.0986628831...|13.361753436588911|[9.0,13.0,13.0,11...|\n",
            "|[-31142.111765363...|13.132634448893928|[9.0,13.0,13.0,11...|\n",
            "|[-39252.175592266...|  15.4385022021874|[10.0,13.0,13.0,8...|\n",
            "|[-32316.249012007...|14.963936296590095|[11.0,13.0,13.0,6...|\n",
            "|[-36750.455354072...| 14.22427089749555|[11.0,13.0,13.0,1...|\n",
            "|[-33763.464475759...|11.975501578387167|[12.0,13.0,13.0,4...|\n",
            "|[-13694.376861227...|12.722249923614566|[12.0,13.0,13.0,3...|\n",
            "+--------------------+------------------+--------------------+\n",
            "only showing top 20 rows\n",
            "\n"
          ]
        }
      ]
    }
  ]
}